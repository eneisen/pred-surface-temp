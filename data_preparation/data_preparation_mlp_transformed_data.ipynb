{
 "cells": [
  {
   "cell_type": "code",
   "execution_count": null,
   "metadata": {},
   "outputs": [],
   "source": [
    "import pandas as pd\n",
    "import numpy as np\n",
    "import matplotlib.pyplot as plt\n",
    "from time import time\n",
    "pd.set_option('display.max_columns', None)\n",
    "from sklearn.model_selection import train_test_split\n",
    "import tensorflow as tf\n",
    "import tensorflow.keras as keras\n",
    "from sklearn.preprocessing import MinMaxScaler\n",
    "from sklearn.metrics import mean_squared_error\n",
    "import kerastuner as kt\n",
    "import pickle\n",
    "import joblib\n",
    "from scipy import stats\n",
    "from numpy import load\n",
    "from numpy import save\n",
    "from tensorflow.keras import regularizers\n",
    "from sklearn.preprocessing import OneHotEncoder\n",
    "import seaborn as sns"
   ]
  },
  {
   "cell_type": "code",
   "execution_count": null,
   "metadata": {},
   "outputs": [],
   "source": [
    "sns.set_style(\"white\")"
   ]
  },
  {
   "cell_type": "code",
   "execution_count": null,
   "metadata": {},
   "outputs": [],
   "source": [
    "np.random.seed(42)\n",
    "tf.random.set_seed(42)"
   ]
  },
  {
   "cell_type": "code",
   "execution_count": null,
   "metadata": {},
   "outputs": [],
   "source": [
    "pd.set_option('display.max_columns', None)\n",
    "pd.set_option('display.max_rows', 300)"
   ]
  },
  {
   "cell_type": "code",
   "execution_count": null,
   "metadata": {},
   "outputs": [],
   "source": [
    "import os\n",
    "os.environ[\"CUDA_VISIBLE_DEVICES\"]=\"-1\""
   ]
  },
  {
   "cell_type": "code",
   "execution_count": null,
   "metadata": {},
   "outputs": [],
   "source": [
    "tf.test.is_gpu_available()"
   ]
  },
  {
   "cell_type": "code",
   "execution_count": null,
   "metadata": {},
   "outputs": [],
   "source": [
    "from tensorflow.compat.v1.keras.backend import set_session\n",
    "\n",
    "config = tf.compat.v1.ConfigProto()\n",
    "config.gpu_options.allow_growth = True\n",
    "set_session(tf.compat.v1.Session(config=config))\n"
   ]
  },
  {
   "cell_type": "markdown",
   "metadata": {},
   "source": [
    "### Read data for str1 and str2"
   ]
  },
  {
   "cell_type": "code",
   "execution_count": null,
   "metadata": {},
   "outputs": [],
   "source": [
    "str1_df = pd.read_pickle(\"../final_data/df_str1_transformed.pkl\")\n",
    "str1_df = str1_df.rename(columns={'Str1TempMittelLsInC_mean': 'TempMittelLsInC_mean', 'Str1TempMittelFsInC_mean': 'TempMittelFsInC_mean'})"
   ]
  },
  {
   "cell_type": "code",
   "execution_count": null,
   "metadata": {
    "scrolled": false
   },
   "outputs": [],
   "source": [
    "str2_df = pd.read_pickle(\"../final_data/df_str2_transformed.pkl\")\n",
    "str2_df = str2_df.rename(columns={'Str2TempMittelLsInC_mean': 'TempMittelLsInC_mean', 'Str2TempMittelFsInC_mean': 'TempMittelFsInC_mean'})"
   ]
  },
  {
   "cell_type": "markdown",
   "metadata": {},
   "source": [
    "### Combine Dataframes"
   ]
  },
  {
   "cell_type": "code",
   "execution_count": null,
   "metadata": {},
   "outputs": [],
   "source": [
    "df_cc4 = pd.concat([str1_df,str2_df],axis=0)\n",
    "df_cc4 = df_cc4.reset_index(drop=True)\n",
    "df_cc4 = df_cc4.drop(['ChargenNrErsteSchmInSeq'],axis=1)"
   ]
  },
  {
   "cell_type": "markdown",
   "metadata": {},
   "source": [
    "### Drop some attributes"
   ]
  },
  {
   "cell_type": "code",
   "execution_count": null,
   "metadata": {},
   "outputs": [],
   "source": [
    "data = df_cc4.drop([\n",
    "       'z1_begin_time', 'z1_delta_time', 'z1_end_time', \n",
    "       'z2a_begin_time', 'z2a_delta_time',  'z2a_end_time',\n",
    "        'z2b_begin_time', 'z2b_delta_time', \n",
    "       'z2b_end_time',  'z3a_begin_time', 'z3a_delta_time',\n",
    "        'z3a_end_time',  'z3b_begin_time',\n",
    "       'z3b_delta_time',  'z3b_end_time', \n",
    "       'z4_begin_time', 'z4_delta_time',  'z4_end_time', \n",
    "       'z5_begin_time', 'z5_delta_time',  'z5_end_time', \n",
    "       'zpy_begin_time', 'zpy_delta_time',  'zpy_end_time','GiessBeginnSchmelze', 'GiessBeginn_DateTime',\n",
    "       'GiessEndeSchmelze', 'GiessEnde_DateTime', 'EndeSchmelze',\n",
    "       'Ende_DateTime', 'NrSchmelzeInSequenz', ],axis=1)"
   ]
  },
  {
   "cell_type": "markdown",
   "metadata": {},
   "source": [
    "### One hot encoding"
   ]
  },
  {
   "cell_type": "code",
   "execution_count": null,
   "metadata": {},
   "outputs": [],
   "source": [
    "formats = np.array(data['Format'])\n",
    "format_endocer = OneHotEncoder()\n",
    "format_1hot = format_endocer.fit_transform(formats.reshape(-1, 1))\n",
    "df_format = pd.DataFrame(format_1hot.toarray(), columns=format_endocer.get_feature_names())\n",
    "df_format.rename(columns={'x0_1825':'Format_1825', 'x0_2230':'Format_2230', 'x0_2234':'Format_2234', 'x0_2235':'Format_2235' }, inplace=True)\n",
    "\n",
    "data = pd.concat((data, df_format), axis=1)"
   ]
  },
  {
   "cell_type": "markdown",
   "metadata": {},
   "source": [
    "### Save Data"
   ]
  },
  {
   "cell_type": "code",
   "execution_count": null,
   "metadata": {},
   "outputs": [],
   "source": [
    "# data.to_pickle(\"/home/di40438/bachelorarbeit/data/mlp_data.pkl\")"
   ]
  },
  {
   "cell_type": "code",
   "execution_count": null,
   "metadata": {
    "scrolled": true
   },
   "outputs": [],
   "source": [
    "data[['TempMittelLsInC_mean','TempMittelFsInC_mean']].describe()"
   ]
  },
  {
   "cell_type": "code",
   "execution_count": null,
   "metadata": {
    "scrolled": false
   },
   "outputs": [],
   "source": [
    "import seaborn as sns\n",
    "corrmat = data.drop(['ChargenNr','SequenzNr', 'strang_nr', 'ith_section', 'Format','Format_1825', 'Format_2230', 'Format_2234', 'Format_2235' ] , axis=1).corr()\n",
    "f, ax = plt.subplots(figsize=(12, 12))\n",
    "sns.heatmap(corrmat, vmax=.8, square=True);"
   ]
  },
  {
   "cell_type": "markdown",
   "metadata": {},
   "source": [
    "#### Data cleaning"
   ]
  },
  {
   "cell_type": "code",
   "execution_count": null,
   "metadata": {},
   "outputs": [],
   "source": [
    "data_prep = data[data['ith_section']>0]  # drop the first section of each sequence\n",
    "data_prep = data_prep.drop(['ChargenNr','ith_section', 'strang_nr'],axis=1)  \n",
    "data_prep = data_prep.reset_index(drop=True)\n",
    "\n",
    "columns = data_prep.columns"
   ]
  },
  {
   "cell_type": "code",
   "execution_count": null,
   "metadata": {},
   "outputs": [],
   "source": [
    "data_prep.describe()"
   ]
  },
  {
   "cell_type": "code",
   "execution_count": null,
   "metadata": {},
   "outputs": [],
   "source": [
    "labels = ['TempMittelLsInC_mean', 'TempMittelFsInC_mean']\n",
    "unwanted = ['Format', 'UeberhitzungMittelInK', 'SollGiessGeschwInMproMin','SequenzNr', 'seq_id']\n",
    "features =  [e for e in columns if e not in (labels+unwanted)]"
   ]
  },
  {
   "cell_type": "code",
   "execution_count": null,
   "metadata": {},
   "outputs": [],
   "source": [
    "# with open('/home/di40438/bachelorarbeit/final_data/label_keys_mlp.pkl', 'wb') as fp:\n",
    "#     pickle.dump(labels, fp)\n",
    "# with open('/home/di40438/bachelorarbeit/final_data/feature_keys_mlp.pkl', 'wb') as fp:\n",
    "#     pickle.dump(features, fp)"
   ]
  },
  {
   "cell_type": "markdown",
   "metadata": {},
   "source": [
    "### Same Sequences as for LSTM"
   ]
  },
  {
   "cell_type": "code",
   "execution_count": null,
   "metadata": {},
   "outputs": [],
   "source": [
    "sequences = data_prep.groupby('SequenzNr')\n",
    "seq_keys_mlp = list(sequences.groups.keys())\n",
    "seq_keys_mlp.remove(475229)\n",
    "\n",
    "from sklearn.model_selection import train_test_split\n",
    "train_full, test_keys = train_test_split(seq_keys_mlp, test_size=0.25, random_state=42)\n",
    "train_keys, valid_keys = train_test_split(train_full, test_size=0.25, random_state=42)\n",
    "train_keys.append(475229)\n",
    "train_full.append(475229)"
   ]
  },
  {
   "cell_type": "code",
   "execution_count": null,
   "metadata": {},
   "outputs": [],
   "source": [
    "def create_set(key_set,data):\n",
    "    df = pd.DataFrame()\n",
    "    for key in key_set:\n",
    "        df2 = pd.DataFrame()\n",
    "        df2 = data[data['SequenzNr']==key]\n",
    "        df = pd.concat([df,df2],axis=0)\n",
    "    return df"
   ]
  },
  {
   "cell_type": "code",
   "execution_count": null,
   "metadata": {},
   "outputs": [],
   "source": [
    "train_data = create_set(train_keys, data_prep)\n",
    "train_data = train_data.reset_index(drop=True)\n",
    "\n",
    "valid_data = create_set(valid_keys, data_prep)\n",
    "valid_data = valid_data.reset_index(drop=True)\n",
    "\n",
    "test_data = create_set(test_keys, data_prep)\n",
    "test_data = test_data.reset_index(drop=True)"
   ]
  },
  {
   "cell_type": "code",
   "execution_count": null,
   "metadata": {},
   "outputs": [],
   "source": [
    "test_data_evaluation = create_set(test_keys, df_cc4[df_cc4['ith_section']>0])\n",
    "test_data_evaluation = test_data_evaluation.reset_index()"
   ]
  },
  {
   "cell_type": "markdown",
   "metadata": {},
   "source": [
    "### Triple sequence with a Target temperatures higher than 800 degrees"
   ]
  },
  {
   "cell_type": "code",
   "execution_count": null,
   "metadata": {},
   "outputs": [],
   "source": [
    "df_high_temp = train_data[(train_data['ZielTempTreiberInC']>800)]\n",
    "seq_id = list(df_high_temp['seq_id'].drop_duplicates(keep='first'))     \n",
    "df_hot_seq = train_data.set_index('seq_id', drop=True).loc[seq_id].reset_index(drop=False)\n",
    "df_hot_seq['seq_id'] = df_hot_seq['seq_id'].astype(str) + '_1'  #rename seq_id of first set \n",
    "df_hot_seq2 = train_data.set_index('seq_id', drop=True).loc[seq_id].reset_index(drop=False)    #create second set of hot sequences\n",
    "df_hot_seq2['seq_id'] = df_hot_seq2['seq_id'].astype(str) + '_2' #rename seq_id of  second set"
   ]
  },
  {
   "cell_type": "code",
   "execution_count": null,
   "metadata": {},
   "outputs": [],
   "source": [
    "train_data = pd.concat([train_data,df_hot_seq],axis=0).reset_index(drop=True)    #add first set of hot sequences\n",
    "train_data = pd.concat([train_data,df_hot_seq2],axis=0).reset_index(drop=True)\n",
    "\n",
    "\n",
    "all_train_data = pd.concat([train_data, valid_data], axis=0).reset_index(drop=True)"
   ]
  },
  {
   "cell_type": "markdown",
   "metadata": {},
   "source": [
    "#### scaling the data"
   ]
  },
  {
   "cell_type": "markdown",
   "metadata": {},
   "source": [
    "#### Train and Validation Data"
   ]
  },
  {
   "cell_type": "code",
   "execution_count": null,
   "metadata": {},
   "outputs": [],
   "source": [
    "train_X_unsc = train_data[features]\n",
    "train_y_unsc = train_data[labels]\n",
    "valid_X_unsc = valid_data[features]\n",
    "valid_y_unsc = valid_data[labels]\n",
    "\n",
    "scaler_x_train = MinMaxScaler()\n",
    "train_X = scaler_x_train.fit_transform(train_X_unsc)\n",
    "valid_X = scaler_x_train.transform(valid_X_unsc)\n",
    "\n",
    "scaler_y_train = MinMaxScaler()\n",
    "train_y = scaler_y_train.fit_transform(train_y_unsc)\n",
    "valid_y = scaler_y_train.transform(valid_y_unsc)\n"
   ]
  },
  {
   "cell_type": "markdown",
   "metadata": {},
   "source": [
    "#### All known Data and Test Data"
   ]
  },
  {
   "cell_type": "code",
   "execution_count": null,
   "metadata": {},
   "outputs": [],
   "source": [
    "all_train_X_unsc = all_train_data[features]\n",
    "all_train_y_unsc = all_train_data[labels]\n",
    "test_X_unsc = test_data[features]\n",
    "test_y_unsc = test_data[labels]\n",
    "\n",
    "scaler_x = MinMaxScaler()\n",
    "all_train_X = scaler_x.fit_transform(all_train_X_unsc)\n",
    "test_X = scaler_x.transform(test_X_unsc)\n",
    "\n",
    "scaler_y = MinMaxScaler()\n",
    "all_train_y = scaler_y.fit_transform(all_train_y_unsc)\n",
    "test_y = scaler_y.transform(test_y_unsc)"
   ]
  },
  {
   "cell_type": "markdown",
   "metadata": {},
   "source": [
    "### Save data"
   ]
  },
  {
   "cell_type": "code",
   "execution_count": null,
   "metadata": {},
   "outputs": [],
   "source": [
    "# train_data.to_pickle(\"../final_data/train_unsc_mlp.pkl\")\n",
    "# valid_data.to_pickle(\"../final_data/valid_unsc_mlp.pkl\")\n",
    "# test_data.to_pickle(\"../final_data/test_unsc_mlp.pkl\")\n",
    "# all_train_data.to_pickle(\"../final_data/all_train_unsc_mlp.pkl\")"
   ]
  },
  {
   "cell_type": "code",
   "execution_count": null,
   "metadata": {},
   "outputs": [],
   "source": [
    "# save('../final_data/train_x_mlp.npy', train_X)\n",
    "# save('../final_data/train_y_mlp.npy', train_y)\n",
    "# save('../final_data/valid_x_mlp.npy', valid_X)\n",
    "# save('../final_data/valid_y_mlp.npy', valid_y)\n",
    "# save('../final_data/test_x_mlp.npy', test_X)\n",
    "# save('../final_data/test_y_mlp.npy', test_y)\n",
    "# save('../final_data/all_x_mlp.npy', all_train_X)\n",
    "# save('../final_data/all_y_mlp.npy', all_train_y)"
   ]
  },
  {
   "cell_type": "code",
   "execution_count": null,
   "metadata": {},
   "outputs": [],
   "source": [
    "# test_data_evaluation.to_pickle(\"../final_data/test_data_evaluation.pkl\")"
   ]
  },
  {
   "cell_type": "markdown",
   "metadata": {},
   "source": [
    "#### save scaler"
   ]
  },
  {
   "cell_type": "code",
   "execution_count": null,
   "metadata": {},
   "outputs": [],
   "source": [
    "# scaler_x_filename = \"../final_data/scaler_x_mlp.save\"\n",
    "# joblib.dump(scaler_x, scaler_x_filename)\n",
    "\n",
    "# scaler_y_filename = \"../final_data/scaler_y_mlp.save\"\n",
    "# joblib.dump(scaler_y, scaler_y_filename)\n",
    "\n",
    "# scaler_y_filename = \"../final_data/scaler_y_train_mlp.save\"\n",
    "# joblib.dump(scaler_y_train, scaler_y_filename)"
   ]
  }
 ],
 "metadata": {
  "kernelspec": {
   "display_name": "Python 3",
   "language": "python",
   "name": "python3"
  },
  "language_info": {
   "codemirror_mode": {
    "name": "ipython",
    "version": 3
   },
   "file_extension": ".py",
   "mimetype": "text/x-python",
   "name": "python",
   "nbconvert_exporter": "python",
   "pygments_lexer": "ipython3",
   "version": "3.9.5"
  }
 },
 "nbformat": 4,
 "nbformat_minor": 4
}
