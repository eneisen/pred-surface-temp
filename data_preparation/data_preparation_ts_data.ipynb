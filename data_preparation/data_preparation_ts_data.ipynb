{
 "cells": [
  {
   "cell_type": "code",
   "execution_count": null,
   "metadata": {},
   "outputs": [],
   "source": [
    "%%javascript\n",
    "IPython.OutputArea.prototype._should_scroll = function(lines) {\n",
    "    return false;\n",
    "}"
   ]
  },
  {
   "cell_type": "code",
   "execution_count": null,
   "metadata": {},
   "outputs": [],
   "source": [
    "import pandas as pd\n",
    "import numpy as np\n",
    "import matplotlib.pyplot as plt\n",
    "from IPython.display import display\n",
    "from scipy.interpolate import interp1d\n",
    "import seaborn as sns\n",
    "import pickle\n",
    "from sklearn.preprocessing import OneHotEncoder\n",
    "from scipy.stats import norm\n",
    "from scipy import stats"
   ]
  },
  {
   "cell_type": "code",
   "execution_count": null,
   "metadata": {},
   "outputs": [],
   "source": [
    "pd.set_option('display.max_columns', None)\n",
    "pd.set_option('display.max_rows', 1000)"
   ]
  },
  {
   "cell_type": "markdown",
   "metadata": {},
   "source": [
    "### Read Time Series Data"
   ]
  },
  {
   "cell_type": "code",
   "execution_count": null,
   "metadata": {},
   "outputs": [],
   "source": [
    "from pathlib import Path\n",
    "data_dir = Path(\"../final_data/csv\")\n",
    "\n",
    "data = {}\n",
    "for csv_file in data_dir.glob(\"*.csv\"):\n",
    "    if csv_file.stem in [\"schmelzen\", \"FormateCC4\"]:continue\n",
    "        \n",
    "    this_csv = pd.read_csv(csv_file, delimiter=\";\")\n",
    "    \n",
    "    this_csv['DATE_TIME'] = pd.to_datetime(this_csv['TIME'],unit='s').dt.tz_localize(\"UTC\")\n",
    "    this_csv = this_csv.set_index('DATE_TIME', drop=False).sort_index()\n",
    "    \n",
    "    data[csv_file.stem] = this_csv.sort_values(\"TIME\")"
   ]
  },
  {
   "cell_type": "code",
   "execution_count": null,
   "metadata": {},
   "outputs": [],
   "source": [
    "data['TundishTemperaturInC'] = data['TundishTemperaturInC'][(data['TundishTemperaturInC']['TundishTemperaturInC'] < 1600) & (data['TundishTemperaturInC']['TundishTemperaturInC'] > 1400)]  "
   ]
  },
  {
   "cell_type": "markdown",
   "metadata": {},
   "source": [
    "## Preprocess Time Series Data"
   ]
  },
  {
   "cell_type": "code",
   "execution_count": null,
   "metadata": {},
   "outputs": [],
   "source": [
    "frequency = '1min'\n",
    "\n",
    "rng = pd.date_range(start='2019-03-01 00:10:00', end='2019-08-30 00:40:00', freq=frequency)\n",
    "df_times = pd.DataFrame({'DateTime': rng})\n",
    "df_times['ts'] = df_times.DateTime.values.astype(np.int64) // 10**9    #np arry by values, then 10**9 for s"
   ]
  },
  {
   "cell_type": "markdown",
   "metadata": {},
   "source": [
    "### Define Keys"
   ]
  },
  {
   "cell_type": "code",
   "execution_count": null,
   "metadata": {},
   "outputs": [],
   "source": [
    "discr = list(data.keys())\n",
    "\n",
    "integrate_keys_all = [e for e in discr if e not in ('TundishTemperaturInC',\n",
    "                                                 'Str1TempMittelLsInC',\n",
    "                                                 'Str1TempMittelFsInC',\n",
    "                                                 'Str2TempMittelLsInC',\n",
    "                                                 'Str2TempMittelFsInC',\n",
    "                                                 'Str1GiessLaengeSchmelzeInM',\n",
    "                                                 'Str2GiessLaengeSchmelzeInM',\n",
    "                                                 'Str1GiessLaengeSequenzInM',\n",
    "                                                 'Str2GiessLaengeSequenzInM',\n",
    "                                                 'Str2AusfLaengeSchmelzeInM',\n",
    "                                                 'Str1AusfLaengeSchmelzeInM',)]\n",
    "\n",
    "delta_keys_all = ['Str1GiessLaengeSequenzInM',\n",
    "              'Str2GiessLaengeSequenzInM',\n",
    "              'Str2AusfLaengeSchmelzeInM',\n",
    "              'Str1AusfLaengeSchmelzeInM']"
   ]
  },
  {
   "cell_type": "markdown",
   "metadata": {},
   "source": [
    "#### Strang 1 keys"
   ]
  },
  {
   "cell_type": "code",
   "execution_count": null,
   "metadata": {},
   "outputs": [],
   "source": [
    "str1_keys = ['TundishTemperaturInC',\n",
    " 'Str1TempMittelLsInC',\n",
    " 'Str1TempMittelFsInC',\n",
    " 'Str1WasserZ4FsInLproMin',\n",
    " 'Str1WasserZ4LsInLproMin',\n",
    " 'Str1WasserZ2bFsInLproMin',\n",
    " 'Str1WasserZ2bLsInLproMin',\n",
    " 'Str1WasserZ3bFsInLproMin',\n",
    " 'Str1WasserZ1FsInLproMin',\n",
    " 'Str1WasserZ3bLsInLproMin',\n",
    " 'Str1WasserZ1LsInLproMin',\n",
    " 'Str1WasserZ3aFsInLproMin',\n",
    " 'Str1WasserZ3aLsInLproMin',\n",
    " 'Str1WasserZ2aLsInLproMin',\n",
    " 'Str1WasserZ2aFsInLproMin',\n",
    " 'Str1WasserZ5LsInLproMin',\n",
    " 'Str1WasserZ5FsInLproMin',\n",
    " 'Str1WasserZ1DiefflenInLproMin',\n",
    " 'Str1WasserZ1DillingenInLproMin',\n",
    " 'Str1GiessLaengeSchmelzeInM',\n",
    " 'Str1GiessLaengeSequenzInM',\n",
    " 'Str1AusfLaengeSchmelzeInM',\n",
    " 'Str1GiessGeschwInMproMin',]\n",
    "\n",
    "delta_keys_1 = ['Str1GiessLaengeSequenzInM',\n",
    "              'Str1AusfLaengeSchmelzeInM']\n",
    "\n",
    "integrate_keys_1 = [e for e in str1_keys if e not in ('TundishTemperaturInC',\n",
    "                                                 'Str1TempMittelLsInC',\n",
    "                                                 'Str1TempMittelFsInC',\n",
    "                                                 'Str1GiessLaengeSchmelzeInM',\n",
    "                                                 'Str1GiessLaengeSequenzInM',\n",
    "                                                 'Str1AusfLaengeSchmelzeInM',)]  \n",
    "temperature_keys_1 = ['Str1TempMittelLsInC',\n",
    "                    'Str1TempMittelFsInC',]\n",
    "\n",
    "cols_schmelzen_str1 = ['ChargenNr',\n",
    " 'ChargenNrErsteSchmInSeq',\n",
    " 'GiessBeginnSchmelze',\n",
    " 'GiessBeginn_DateTime',\n",
    " 'GiessEndeSchmelze',\n",
    " 'GiessEnde_DateTime',\n",
    " 'EndeSchmelze',\n",
    " 'Ende_DateTime',\n",
    " 'NrSchmelzeInSequenz',\n",
    " 'LiquidusTempInC',\n",
    " 'SolidusTempInC',\n",
    " 'UeberhitzungMittelInK',\n",
    " 'ZielTempTreiberInC',\n",
    " 'Str1SollGiessGeschwInMproMin',\n",
    " 'Str1Format',\n",
    " 'C-Aequiv01',\n",
    " 'C-Aequiv02',\n",
    " 'C-AequivP']"
   ]
  },
  {
   "cell_type": "markdown",
   "metadata": {},
   "source": [
    "#### Strang 2 keys"
   ]
  },
  {
   "cell_type": "code",
   "execution_count": null,
   "metadata": {},
   "outputs": [],
   "source": [
    "str2_keys = [\n",
    " 'TundishTemperaturInC',\n",
    " 'Str2TempMittelLsInC',\n",
    " 'Str2TempMittelFsInC',\n",
    " 'Str2WasserZ1FsInLproMin',\n",
    " 'Str2WasserZ1LsInLproMin',\n",
    " 'Str2WasserZ2bFsInLproMin',\n",
    " 'Str2WasserZ4FsInLproMin',\n",
    " 'Str2WasserZ4LsInLproMin',\n",
    " 'Str2WasserZ3bLsInLproMin',\n",
    " 'Str2WasserZ3bFsInLproMin',\n",
    " 'Str2WasserZ1DiefflenInLproMin',\n",
    " 'Str2WasserZ2bLsInLproMin',\n",
    " 'Str2WasserZ1DillingenInLproMin',\n",
    " 'Str2WasserZ2aLsInLproMin',\n",
    " 'Str2WasserZ2aFsInLproMin',\n",
    " 'Str2WasserZ5FsInLproMin',\n",
    " 'Str2GiessLaengeSchmelzeInM',\n",
    " 'Str2WasserZ5LsInLproMin',\n",
    " 'Str2GiessLaengeSequenzInM',\n",
    " 'Str2WasserZ3aFsInLproMin',\n",
    " 'Str2WasserZ3aLsInLproMin',\n",
    " 'Str2AusfLaengeSchmelzeInM',\n",
    " 'Str2GiessGeschwInMproMin']\n",
    "\n",
    "delta_keys_2 = ['Str2GiessLaengeSequenzInM',\n",
    "              'Str2AusfLaengeSchmelzeInM',]\n",
    "            \n",
    "integrate_keys_2 = [e for e in str2_keys if e not in ('TundishTemperaturInC',\n",
    "                                                 'Str2TempMittelLsInC',\n",
    "                                                 'Str2TempMittelFsInC',\n",
    "                                                 'Str2GiessLaengeSchmelzeInM',\n",
    "                                                 'Str2GiessLaengeSequenzInM',\n",
    "                                                 'Str2AusfLaengeSchmelzeInM',\n",
    "                                                 )]\n",
    "\n",
    "temperature_keys_2 = ['Str2TempMittelLsInC',\n",
    "                    'Str2TempMittelFsInC',]\n",
    "            \n",
    "cols_schmelzen_str2 = ['ChargenNr',\n",
    " 'ChargenNrErsteSchmInSeq',\n",
    " 'GiessBeginnSchmelze',\n",
    " 'GiessBeginn_DateTime',\n",
    " 'GiessEndeSchmelze',\n",
    " 'GiessEnde_DateTime',\n",
    " 'EndeSchmelze',\n",
    " 'Ende_DateTime',\n",
    " 'NrSchmelzeInSequenz',\n",
    " 'LiquidusTempInC',\n",
    " 'SolidusTempInC',\n",
    " 'UeberhitzungMittelInK',\n",
    " 'ZielTempTreiberInC',\n",
    " 'Str2SollGiessGeschwInMproMin',\n",
    " 'Str2Format',\n",
    " 'C-Aequiv01',\n",
    " 'C-Aequiv02',\n",
    " 'C-AequivP']"
   ]
  },
  {
   "cell_type": "markdown",
   "metadata": {},
   "source": [
    "### Set keys "
   ]
  },
  {
   "cell_type": "code",
   "execution_count": null,
   "metadata": {},
   "outputs": [],
   "source": [
    "keys = str1_keys\n",
    "delta_keys = delta_keys_1\n",
    "integrate_keys = integrate_keys_1\n",
    "GiessLaengeSchmelzeInM = \"Str1GiessLaengeSchmelzeInM\"\n",
    "laengeSequenz = 'Str1GiessLaengeSequenzInM'\n",
    "cols_schmelzen = cols_schmelzen_str1\n",
    "temperature = 'Str1TempMittelLsInC'\n",
    "temp_keys = temperature_keys_1\n",
    "ausförderlänge = 'Str1AusfLaengeSchmelzeInM'"
   ]
  },
  {
   "cell_type": "markdown",
   "metadata": {},
   "source": [
    "### Interpolation"
   ]
  },
  {
   "cell_type": "code",
   "execution_count": null,
   "metadata": {
    "scrolled": true
   },
   "outputs": [],
   "source": [
    "data_interval = {}\n",
    "for i in keys:\n",
    "    datetime = data[i]['TIME'].to_numpy()\n",
    "    value = data[i][i].to_numpy()\n",
    "    interpolate = interp1d(datetime,value, kind='linear')\n",
    "    new_datetime = df_times['ts'].to_numpy()\n",
    "   \n",
    "    interp_array = interpolate(new_datetime)\n",
    "    df_interp = pd.DataFrame({'DATE_TIME':new_datetime , i: interp_array, 'TIME': new_datetime})\n",
    "    df_interp['DATE_TIME'] = pd.to_datetime(df_interp['DATE_TIME'],unit='s').dt.tz_localize(\"UTC\")\n",
    "    data_interval[i] = df_interp"
   ]
  },
  {
   "cell_type": "markdown",
   "metadata": {},
   "source": [
    "### Integration"
   ]
  },
  {
   "cell_type": "code",
   "execution_count": null,
   "metadata": {},
   "outputs": [],
   "source": [
    "import scipy\n",
    "def integrate(X):\n",
    "        Y = [interpolate(x) for x in X]\n",
    "        return scipy.integrate.trapz(Y,X, dx=1)\n",
    "\n",
    "\n",
    "def trapz_integration(end_s):\n",
    "    end_m = end_s / 60\n",
    "    begin_m = end_m - 1\n",
    "    try:\n",
    "        return integrate([begin_m, end_m])\n",
    "    except ValueError:\n",
    "        return np.nan"
   ]
  },
  {
   "cell_type": "code",
   "execution_count": null,
   "metadata": {},
   "outputs": [],
   "source": [
    "for i in integrate_keys:\n",
    "    minutes = data[i]['TIME'].to_numpy() / 60\n",
    "    value = data[i][i].to_numpy()\n",
    "    interpolate = interp1d(minutes,value, kind='linear')\n",
    "    data_interval[i][i + '_integr'] = data_interval[i][\"TIME\"].apply(trapz_integration)"
   ]
  },
  {
   "cell_type": "markdown",
   "metadata": {},
   "source": [
    "### Mean for the temperatures"
   ]
  },
  {
   "cell_type": "code",
   "execution_count": null,
   "metadata": {},
   "outputs": [],
   "source": [
    "def temp_mean(end_s):\n",
    "    end_m = end_s / 60\n",
    "    begin_m = end_m - 1\n",
    "    try:\n",
    "        return (1 / (end_m - begin_m)) * integrate([begin_m, end_m])\n",
    "    except ValueError:\n",
    "        return np.nan"
   ]
  },
  {
   "cell_type": "code",
   "execution_count": null,
   "metadata": {},
   "outputs": [],
   "source": [
    "for i in temp_keys:\n",
    "    minutes = data[i]['TIME'].to_numpy() / 60\n",
    "    value = data[i][i].to_numpy()\n",
    "    interpolate = interp1d(minutes,value, kind='linear')\n",
    "    data_interval[i][i + '_old'] = data_interval[i][i]\n",
    "    data_interval[i][i] = data_interval[i][\"TIME\"].apply(temp_mean)"
   ]
  },
  {
   "cell_type": "markdown",
   "metadata": {},
   "source": [
    "## Merging TS-Datasets"
   ]
  },
  {
   "cell_type": "code",
   "execution_count": null,
   "metadata": {},
   "outputs": [],
   "source": [
    "from functools import reduce\n",
    "df_merged = reduce(lambda  left,right: pd.merge(left,right,on=['DATE_TIME', 'TIME'],\n",
    "                                            how='outer'), data_interval.values())\n",
    "df_merged = df_merged.set_index('DATE_TIME', drop=False).sort_index()\n",
    "    "
   ]
  },
  {
   "cell_type": "markdown",
   "metadata": {},
   "source": [
    "# Import and further Preprocessing of schmelzen Dataframe"
   ]
  },
  {
   "cell_type": "code",
   "execution_count": null,
   "metadata": {},
   "outputs": [],
   "source": [
    "df_schmelzen = pd.read_pickle(\"/home/di40438/bachelorarbeit/final_data/schmelzen.pkl\")"
   ]
  },
  {
   "cell_type": "markdown",
   "metadata": {},
   "source": [
    "# Add 90 minutes to the end of the last melting process of a sequence"
   ]
  },
  {
   "cell_type": "code",
   "execution_count": null,
   "metadata": {},
   "outputs": [],
   "source": [
    "df_schmelzen['EndeSchmelze'] = df_schmelzen['GiessEndeSchmelze']\n",
    "\n",
    "df_schmelzen['ChargenNrErsteSchmInSeq_shifted'] = df_schmelzen['ChargenNrErsteSchmInSeq'].shift(-1)\n",
    "df_schmelzen = df_schmelzen.fillna(0)\n",
    "\n",
    "def add_time_to_end(row):               \n",
    "        if row['ChargenNrErsteSchmInSeq'] !=  row['ChargenNrErsteSchmInSeq_shifted']:\n",
    "            row['EndeSchmelze'] = row['EndeSchmelze'] + 90*60   #add 90 min to end of last 'GiessEnde' \n",
    "        return row\n",
    "\n",
    "df_schmelzen = df_schmelzen.apply(add_time_to_end, axis=1)\n",
    "\n",
    "df_schmelzen['Ende_DateTime'] = pd.to_datetime(df_schmelzen['EndeSchmelze'],unit='s').dt.tz_localize(\"UTC\")\n",
    "\n",
    "df_schmelzen = df_schmelzen.drop(\"ChargenNrErsteSchmInSeq_shifted\", axis=1)\n",
    "\n",
    "df_schmelzen = df_schmelzen[cols_schmelzen]"
   ]
  },
  {
   "cell_type": "markdown",
   "metadata": {},
   "source": [
    "## Load schmelzen data"
   ]
  },
  {
   "cell_type": "code",
   "execution_count": null,
   "metadata": {},
   "outputs": [],
   "source": [
    "# df_schmelzen = pd.read_pickle(\"/home/di40438/bachelorarbeit/data/df_schmelzen_str1.pkl\")"
   ]
  },
  {
   "cell_type": "markdown",
   "metadata": {},
   "source": [
    "# Combine Datasets"
   ]
  },
  {
   "cell_type": "code",
   "execution_count": null,
   "metadata": {
    "scrolled": false
   },
   "outputs": [],
   "source": [
    "merged_rows = []\n",
    "\n",
    "for _, row in df_merged.iterrows():\n",
    "    schmelze = df_schmelzen[(df_schmelzen[\"GiessBeginn_DateTime\"] < row[\"DATE_TIME\"]) & (df_schmelzen[\"Ende_DateTime\"] >= row[\"DATE_TIME\"])]\n",
    "    if len(schmelze) != 1:\n",
    "        continue\n",
    "    merged_rows.append(pd.concat([row.to_frame().transpose().reset_index(drop=True), schmelze.reset_index(drop=True)], axis=1))"
   ]
  },
  {
   "cell_type": "code",
   "execution_count": null,
   "metadata": {
    "scrolled": false
   },
   "outputs": [],
   "source": [
    "combined_df = pd.concat(merged_rows)\n",
    "combined_df = combined_df.reset_index(drop=True)"
   ]
  },
  {
   "cell_type": "markdown",
   "metadata": {},
   "source": [
    "### Calculate delta of lengths"
   ]
  },
  {
   "cell_type": "markdown",
   "metadata": {},
   "source": [
    "#### delta for each schmelze"
   ]
  },
  {
   "cell_type": "code",
   "execution_count": null,
   "metadata": {
    "scrolled": false
   },
   "outputs": [],
   "source": [
    "grouped = combined_df[GiessLaengeSchmelzeInM].groupby(combined_df['ChargenNr'])\n",
    "\n",
    "schmelzen_length = {}\n",
    "for name, group in grouped:\n",
    "    schmelzen_length[name] = pd.DataFrame(group)\n",
    "    schmelzen_length[name][GiessLaengeSchmelzeInM +'_delta'] = schmelzen_length[name].diff()\n",
    "    if schmelzen_length[name][GiessLaengeSchmelzeInM].iloc[0] == 0:\n",
    "        schmelzen_length[name] = schmelzen_length[name].fillna(0)\n",
    "    else:\n",
    "          schmelzen_length[name] = schmelzen_length[name].fillna(\n",
    "                            schmelzen_length[name][GiessLaengeSchmelzeInM +'_delta'].iloc[1])\n",
    "                \n",
    "schmelzen_merged = pd.DataFrame()\n",
    "for char_nr in list(schmelzen_length.keys()):\n",
    "     schmelzen_merged = pd.concat([schmelzen_merged,schmelzen_length[char_nr]], axis=0)"
   ]
  },
  {
   "cell_type": "markdown",
   "metadata": {},
   "source": [
    "#### delta for delta_keys for each sequence"
   ]
  },
  {
   "cell_type": "code",
   "execution_count": null,
   "metadata": {},
   "outputs": [],
   "source": [
    "sequence_merged = {}\n",
    "for key in delta_keys:\n",
    "    grouped = combined_df[key].groupby(combined_df['ChargenNrErsteSchmInSeq'])\n",
    "    sequence_length = {}\n",
    "    for name, group in grouped:\n",
    "        sequence_length[name] = pd.DataFrame(group)\n",
    "        sequence_length[name][key +'_delta'] = sequence_length[name].diff()\n",
    "        if sequence_length[name][key].iloc[0] == 0:\n",
    "            sequence_length[name] = sequence_length[name].fillna(0)\n",
    "        else:\n",
    "            sequence_length[name] = sequence_length[name].fillna(\n",
    "                                sequence_length[name][key +'_delta'].iloc[1])\n",
    "    for seq_nr in list(sequence_length.keys()):\n",
    "         sequence_merged[key] = pd.concat(list(sequence_length.values()), axis=0)"
   ]
  },
  {
   "cell_type": "markdown",
   "metadata": {},
   "source": [
    "### Combine deltas with combined_df"
   ]
  },
  {
   "cell_type": "code",
   "execution_count": null,
   "metadata": {
    "scrolled": true
   },
   "outputs": [],
   "source": [
    "conc1 = pd.concat([sequence_merged[delta_keys[0]][delta_keys[0] +'_delta'],sequence_merged[\n",
    "    delta_keys[1]][delta_keys[1] +'_delta']], axis=1)\n",
    "conc2 = pd.concat([conc1,schmelzen_merged[GiessLaengeSchmelzeInM +'_delta']], axis=1)\n",
    "combined_df = pd.concat([combined_df,conc2], axis=1)"
   ]
  },
  {
   "cell_type": "markdown",
   "metadata": {},
   "source": [
    "### Outlier detection: Get Outliers with Schmelzen data"
   ]
  },
  {
   "cell_type": "code",
   "execution_count": null,
   "metadata": {},
   "outputs": [],
   "source": [
    "combined_df_grouped = combined_df.groupby(combined_df['ChargenNr'])\n",
    "combined_df_max = combined_df_grouped[GiessLaengeSchmelzeInM].max().to_frame()\n",
    "laengeSchmelze_max = GiessLaengeSchmelzeInM + '_max'\n",
    "combined_df_max = combined_df_max.rename(columns={GiessLaengeSchmelzeInM: laengeSchmelze_max})\n",
    "combined_df_max = combined_df_max.reset_index(drop=False)"
   ]
  },
  {
   "cell_type": "code",
   "execution_count": null,
   "metadata": {
    "scrolled": true
   },
   "outputs": [],
   "source": [
    "combined_df_max.min()"
   ]
  },
  {
   "cell_type": "code",
   "execution_count": null,
   "metadata": {},
   "outputs": [],
   "source": [
    "fig = plt.figure(figsize=(15,5))\n",
    "ax1 = fig.add_subplot(1,1,1)\n",
    "ax1.plot('ChargenNr', laengeSchmelze_max, data = combined_df_max)"
   ]
  },
  {
   "cell_type": "code",
   "execution_count": null,
   "metadata": {},
   "outputs": [],
   "source": [
    "combined_df_max.shape"
   ]
  },
  {
   "cell_type": "code",
   "execution_count": null,
   "metadata": {
    "scrolled": false
   },
   "outputs": [],
   "source": [
    "schmelzen_drop = combined_df_max[combined_df_max[laengeSchmelze_max]<10]\n",
    "schmelzen_drop = schmelzen_drop['ChargenNr'].to_numpy()\n",
    "schmelzen_drop"
   ]
  },
  {
   "cell_type": "markdown",
   "metadata": {},
   "source": [
    "#### look at min_length"
   ]
  },
  {
   "cell_type": "code",
   "execution_count": null,
   "metadata": {},
   "outputs": [],
   "source": [
    "combined_df_min = combined_df_grouped[GiessLaengeSchmelzeInM].min().to_frame()\n",
    "laengeSchmelze_min = GiessLaengeSchmelzeInM + '_min'\n",
    "combined_df_min = combined_df_min.rename(columns={GiessLaengeSchmelzeInM: laengeSchmelze_min})\n",
    "combined_df_min = combined_df_min.reset_index(drop=False)"
   ]
  },
  {
   "cell_type": "code",
   "execution_count": null,
   "metadata": {},
   "outputs": [],
   "source": [
    "combined_df_min.max()"
   ]
  },
  {
   "cell_type": "code",
   "execution_count": null,
   "metadata": {
    "scrolled": true
   },
   "outputs": [],
   "source": [
    "fig = plt.figure(figsize=(15,5))\n",
    "ax1 = fig.add_subplot(1,1,1)\n",
    "ax1.plot('ChargenNr', laengeSchmelze_min, data = combined_df_min)"
   ]
  },
  {
   "cell_type": "code",
   "execution_count": null,
   "metadata": {},
   "outputs": [],
   "source": [
    "s = combined_df_min[combined_df_min[laengeSchmelze_min]>10]\n",
    "s = s['ChargenNr'].to_numpy()\n",
    "schmelzen_drop = np.append(schmelzen_drop,s)\n",
    "s"
   ]
  },
  {
   "cell_type": "code",
   "execution_count": null,
   "metadata": {},
   "outputs": [],
   "source": [
    "schmelzen_drop"
   ]
  },
  {
   "cell_type": "markdown",
   "metadata": {},
   "source": [
    "### identify the sequences of schmelzen_drop"
   ]
  },
  {
   "cell_type": "code",
   "execution_count": null,
   "metadata": {},
   "outputs": [],
   "source": [
    "schmelzen = combined_df.copy()\n",
    "schmelzen = schmelzen.set_index('ChargenNr',drop=True)\n",
    "\n",
    "seq_drop = schmelzen.loc[schmelzen_drop]\n",
    "\n",
    "seq_drop = seq_drop['ChargenNrErsteSchmInSeq']\n",
    "seq_drop = seq_drop.drop_duplicates(keep='first')\n",
    "seq_drop = seq_drop.reset_index(drop=True)\n",
    "seq_drop"
   ]
  },
  {
   "cell_type": "markdown",
   "metadata": {},
   "source": [
    "#### save seq_drop"
   ]
  },
  {
   "cell_type": "code",
   "execution_count": null,
   "metadata": {},
   "outputs": [],
   "source": [
    "combined_df = combined_df.set_index(combined_df['ChargenNrErsteSchmInSeq'],drop=True)\n",
    "combined_df = combined_df.drop(seq_drop, axis=0)\n",
    "combined_df = combined_df.reset_index(drop=True)"
   ]
  },
  {
   "cell_type": "markdown",
   "metadata": {},
   "source": [
    "## Combinde DataFrames"
   ]
  },
  {
   "cell_type": "markdown",
   "metadata": {},
   "source": [
    "### Read str1_combined "
   ]
  },
  {
   "cell_type": "code",
   "execution_count": null,
   "metadata": {},
   "outputs": [],
   "source": [
    "str1_combined = pd.read_pickle(\"/home/di40438/bachelorarbeit/final_data/str1_combined.pkl\") "
   ]
  },
  {
   "cell_type": "code",
   "execution_count": null,
   "metadata": {},
   "outputs": [],
   "source": [
    "str1_combined['strang_nr'] = 1\n",
    "str1_combined = str1_combined.sort_values(\"TIME\")\n",
    "str1_combined = str1_combined.reset_index(drop=True)"
   ]
  },
  {
   "cell_type": "markdown",
   "metadata": {},
   "source": [
    "### Read str2_combined "
   ]
  },
  {
   "cell_type": "code",
   "execution_count": null,
   "metadata": {},
   "outputs": [],
   "source": [
    "str2_combined = pd.read_pickle(\"/home/di40438/bachelorarbeit/final_data/str2_combined.pkl\") "
   ]
  },
  {
   "cell_type": "code",
   "execution_count": null,
   "metadata": {},
   "outputs": [],
   "source": [
    "str2_combined['strang_nr'] = 2\n",
    "str2_combined = str2_combined.sort_values(\"TIME\")\n",
    "str2_combined = str2_combined.reset_index(drop=True)"
   ]
  },
  {
   "cell_type": "markdown",
   "metadata": {},
   "source": [
    "### rename columns"
   ]
  },
  {
   "cell_type": "code",
   "execution_count": null,
   "metadata": {
    "scrolled": true
   },
   "outputs": [],
   "source": [
    "str1_combined.rename(columns={'delta_x':'GiessLaengeSchmelzeInM_delta', 'delta_y':'GiessLaengeSequenzInM_delta',\n",
    "             'delta':'AusfLaengeSchmelzeInM_delta'}, inplace=True)\n",
    "\n",
    "str1_combined.columns = str1_combined.columns.str.replace('Str1', '') "
   ]
  },
  {
   "cell_type": "code",
   "execution_count": null,
   "metadata": {
    "scrolled": true
   },
   "outputs": [],
   "source": [
    "str2_combined.rename(columns={'delta_x':'GiessLaengeSchmelzeInM_delta', 'delta_y':'GiessLaengeSequenzInM_delta',\n",
    "             'delta':'AusfLaengeSchmelzeInM_delta'}, inplace=True)\n",
    "\n",
    "str2_combined.columns = str2_combined.columns.str.replace('Str2', '') \n",
    "\n",
    "str2_combined = str2_combined.reset_index(drop=True)"
   ]
  },
  {
   "cell_type": "markdown",
   "metadata": {},
   "source": [
    "### Concat DataFrames"
   ]
  },
  {
   "cell_type": "code",
   "execution_count": null,
   "metadata": {},
   "outputs": [],
   "source": [
    "cc4_data = pd.concat([str1_combined,str2_combined],axis=0)\n",
    "cc4_data = cc4_data.reset_index(drop=True)"
   ]
  },
  {
   "cell_type": "markdown",
   "metadata": {},
   "source": [
    "### Put for each seq_nr data for strang1 and strang2 togehther"
   ]
  },
  {
   "cell_type": "code",
   "execution_count": null,
   "metadata": {},
   "outputs": [],
   "source": [
    "strang_data = pd.DataFrame()\n",
    "grouped_seq = cc4_data.groupby('ChargenNrErsteSchmInSeq')\n",
    "for seq_name, seq_group in grouped_seq:\n",
    "    grouped_str = seq_group.groupby('strang_nr')\n",
    "    for str_name, str_group in grouped_str:\n",
    "        str_gr = str_group.sort_values(\"TIME\")\n",
    "        strang_data= pd.concat([strang_data,str_gr], axis=0)"
   ]
  },
  {
   "cell_type": "markdown",
   "metadata": {},
   "source": [
    "#### new column with seq_nr and str_nr"
   ]
  },
  {
   "cell_type": "code",
   "execution_count": null,
   "metadata": {},
   "outputs": [],
   "source": [
    "def seq_and_str_nr(row):\n",
    "    row['seq_id'] = str(row['ChargenNrErsteSchmInSeq']) + '_str_' + str(row['strang_nr'])\n",
    "    return row\n",
    "\n",
    "strang_data = strang_data.apply(seq_and_str_nr, axis=1)\n",
    "strang_data = strang_data.reset_index(drop=True)"
   ]
  },
  {
   "cell_type": "markdown",
   "metadata": {},
   "source": [
    "### Drop the last sequence since it is not complete because of the interpolation\n",
    "#### Some features are not measured for the end of the last sequence, therefore the interpolation is not until the end of the last sequence"
   ]
  },
  {
   "cell_type": "code",
   "execution_count": null,
   "metadata": {},
   "outputs": [],
   "source": [
    "strang_data = strang_data[strang_data['ChargenNrErsteSchmInSeq'] != 475513]"
   ]
  },
  {
   "cell_type": "markdown",
   "metadata": {},
   "source": [
    "### Set all negative amounts of water and negative melt lengths to zero"
   ]
  },
  {
   "cell_type": "code",
   "execution_count": null,
   "metadata": {},
   "outputs": [],
   "source": [
    "water_keys =  ['WasserZ4FsInLproMin_integr',\n",
    " 'WasserZ4LsInLproMin_integr',\n",
    " 'WasserZ2bFsInLproMin_integr',\n",
    " 'WasserZ2bLsInLproMin_integr',\n",
    " 'WasserZ3bFsInLproMin_integr',\n",
    " 'WasserZ1FsInLproMin_integr',\n",
    " 'WasserZ3bLsInLproMin_integr',\n",
    " 'WasserZ1LsInLproMin_integr',\n",
    " 'WasserZ3aFsInLproMin_integr',\n",
    " 'WasserZ3aLsInLproMin_integr',\n",
    " 'WasserZ2aLsInLproMin_integr',\n",
    " 'WasserZ2aFsInLproMin_integr',\n",
    " 'WasserZ5LsInLproMin_integr',\n",
    " 'WasserZ5FsInLproMin_integr',\n",
    " 'WasserZ1DiefflenInLproMin_integr',\n",
    " 'WasserZ1DillingenInLproMin_integr',]"
   ]
  },
  {
   "cell_type": "code",
   "execution_count": null,
   "metadata": {},
   "outputs": [],
   "source": [
    "for key in water_keys:\n",
    "    strang_data[key] = np.where((strang_data[key] < 0),0,strang_data[key])\n",
    "strang_data['GiessLaengeSchmelzeInM_delta'] = np.where((strang_data['GiessLaengeSchmelzeInM_delta'] < 0),0,strang_data['GiessLaengeSchmelzeInM_delta'])\n",
    "strang_data['AusfLaengeSchmelzeInM_delta'] = np.where((strang_data['AusfLaengeSchmelzeInM_delta'] < 0),0,strang_data['AusfLaengeSchmelzeInM_delta'])"
   ]
  },
  {
   "cell_type": "markdown",
   "metadata": {},
   "source": [
    "## Ende Data when last Melt has passed Pyrometer"
   ]
  },
  {
   "cell_type": "code",
   "execution_count": null,
   "metadata": {},
   "outputs": [],
   "source": [
    "grouped_end = strang_data.groupby('seq_id')\n",
    "str_data = {}\n",
    "strang_data = pd.DataFrame()\n",
    "length_cc4 = 15.42\n",
    "for name, group in grouped_end:\n",
    "    sequ_max = group['GiessLaengeSequenzInM'].max()\n",
    "    ausför_max = group['AusfLaengeSchmelzeInM'].max()\n",
    "    str_data[name] = group[(group['GiessLaengeSequenzInM'] <= sequ_max-ausför_max+length_cc4)]    #last melt has reached pyrometer         \n",
    "    strang_data = pd.concat([strang_data,str_data[name]], axis=0)"
   ]
  },
  {
   "cell_type": "markdown",
   "metadata": {},
   "source": [
    "### Begin when first meter has reached the pyrometer"
   ]
  },
  {
   "cell_type": "code",
   "execution_count": null,
   "metadata": {},
   "outputs": [],
   "source": [
    "length_cc4 = 15.42\n",
    "strang_data = strang_data[strang_data['GiessLaengeSequenzInM']>length_cc4+1]   #first meter has reached pyrometer\n",
    "strang_data = strang_data.reset_index(drop=True)"
   ]
  },
  {
   "cell_type": "markdown",
   "metadata": {},
   "source": [
    "### One hot encoding"
   ]
  },
  {
   "cell_type": "code",
   "execution_count": null,
   "metadata": {},
   "outputs": [],
   "source": [
    "strang_data = pd.read_pickle(\"/home/di40438/bachelorarbeit/final_data/cc4_data.pkl\") "
   ]
  },
  {
   "cell_type": "code",
   "execution_count": null,
   "metadata": {},
   "outputs": [],
   "source": [
    "formats = np.array(strang_data['Format'])\n",
    "format_endocer = OneHotEncoder()\n",
    "format_1hot = format_endocer.fit_transform(formats.reshape(-1, 1))\n",
    "df_format = pd.DataFrame(format_1hot.toarray(), columns=format_endocer.get_feature_names())\n",
    "df_format.rename(columns={'x0_1825':'Format_1825', 'x0_2230':'Format_2230', 'x0_2234':'Format_2234', 'x0_2235':'Format_2235' }, inplace=True)\n",
    "\n",
    "strang_data = pd.concat((strang_data, df_format), axis=1)"
   ]
  },
  {
   "cell_type": "markdown",
   "metadata": {},
   "source": [
    "## Save cc4_data"
   ]
  },
  {
   "cell_type": "code",
   "execution_count": null,
   "metadata": {},
   "outputs": [],
   "source": [
    "strang_data.to_pickle(\"/home/di40438/bachelorarbeit/final_data/cc4_data.pkl\")"
   ]
  },
  {
   "cell_type": "markdown",
   "metadata": {},
   "source": [
    "### Data Exploration"
   ]
  },
  {
   "cell_type": "code",
   "execution_count": null,
   "metadata": {},
   "outputs": [],
   "source": [
    "sns.set_style(\"white\")"
   ]
  },
  {
   "cell_type": "code",
   "execution_count": null,
   "metadata": {},
   "outputs": [],
   "source": [
    "strang_data = pd.read_pickle(\"/home/di40438/bachelorarbeit/final_data/cc4_data.pkl\") "
   ]
  },
  {
   "cell_type": "markdown",
   "metadata": {},
   "source": [
    "### Cross Section Data"
   ]
  },
  {
   "cell_type": "code",
   "execution_count": null,
   "metadata": {},
   "outputs": [],
   "source": [
    "df_schmelzen = pd.read_pickle(\"/home/di40438/bachelorarbeit/final_data/schmelzen.pkl\")"
   ]
  },
  {
   "cell_type": "code",
   "execution_count": null,
   "metadata": {},
   "outputs": [],
   "source": [
    "cross_section_attr = ['ChargenNr', 'ChargenNrErsteSchmInSeq', 'GiessBeginnSchmelze',\n",
    "       'GiessBeginn_DateTime', 'GiessEndeSchmelze', 'GiessEnde_DateTime',\n",
    "       'NrSchmelzeInSequenz', 'LiquidusTempInC', 'SolidusTempInC',\n",
    "       'UeberhitzungMittelInK', 'ZielTempTreiberInC',\n",
    "       'SollGiessGeschwInMproMin','Format_1825','Format_2230','Format_2234','Format_2235',\n",
    "       'C-Aequiv01', 'C-Aequiv02', 'C-AequivP', 'seq_id', 'TempMittelLsInC', 'TempMittelFsInC']\n",
    "\n",
    "cross_section_data = strang_data[cross_section_attr]\n",
    "\n",
    "cross_section_data = cross_section_data.drop_duplicates(subset=['seq_id'], keep='first')"
   ]
  },
  {
   "cell_type": "code",
   "execution_count": null,
   "metadata": {
    "scrolled": false
   },
   "outputs": [],
   "source": [
    "fig, ax1 = plt.subplots(1, 1, figsize=(8, 5),  sharex=True)\n",
    "sns.histplot(ax=ax1, data=cross_section_data, x='ZielTempTreiberInC',binwidth=5,   )\n",
    "ax1.set_xlabel('Temperature [°C]', fontsize=15)\n",
    "ax1.set_ylabel('Count', fontsize=15)\n",
    "ax1.set(xticks=[]) \n",
    "ax1.xaxis.grid(False)\n",
    "ax1.yaxis.grid(True)"
   ]
  },
  {
   "cell_type": "code",
   "execution_count": null,
   "metadata": {
    "scrolled": true
   },
   "outputs": [],
   "source": [
    "fig, ax1 = plt.subplots(1,  figsize=(4, 5),  sharex=True)\n",
    "sns.boxplot(data=cross_section_data['ZielTempTreiberInC'], ax=ax1)\n",
    "ax1.set(yticks=[]) \n",
    "ax1.set(xticks=[]) \n",
    "ax1.xaxis.grid(False)\n",
    "ax1.yaxis.grid(True)\n",
    "ax1.set_ylabel('Casting Target Temperature [°C]', fontsize=15)"
   ]
  },
  {
   "cell_type": "code",
   "execution_count": null,
   "metadata": {},
   "outputs": [],
   "source": [
    "keys_test = ['TundishTemperaturInC', 'TIME', 'TempMittelLsInC',\n",
    "       'TempMittelFsInC', \n",
    "      'WasserZ4FsInLproMin_integr',\n",
    "        'WasserZ4LsInLproMin_integr',\n",
    "      'WasserZ2bFsInLproMin_integr',\n",
    "       'WasserZ2bLsInLproMin_integr',\n",
    "        'WasserZ3bFsInLproMin_integr',\n",
    "       'WasserZ1FsInLproMin_integr',\n",
    "       'WasserZ3bLsInLproMin_integr',\n",
    "        'WasserZ1LsInLproMin_integr',\n",
    "       'WasserZ3aFsInLproMin_integr',\n",
    "        'WasserZ3aLsInLproMin_integr',\n",
    "       'WasserZ2aLsInLproMin_integr',\n",
    "       'WasserZ2aFsInLproMin_integr',\n",
    "       'WasserZ5LsInLproMin_integr',\n",
    "       'WasserZ5FsInLproMin_integr',\n",
    "       'GiessLaengeSchmelzeInM', 'GiessLaengeSequenzInM',\n",
    "       'AusfLaengeSchmelzeInM', 'GiessGeschwInMproMin',\n",
    "       'ChargenNr', 'ChargenNrErsteSchmInSeq',\n",
    "       'GiessBeginnSchmelze',  'GiessEndeSchmelze',\n",
    "    \n",
    "       'NrSchmelzeInSequenz', 'LiquidusTempInC', 'SolidusTempInC',\n",
    "       'UeberhitzungMittelInK', 'ZielTempTreiberInC',\n",
    "       'SollGiessGeschwInMproMin', 'Format', 'C-Aequiv01', 'C-Aequiv02',\n",
    "       'C-AequivP', 'GiessLaengeSequenzInM_delta',\n",
    "       'AusfLaengeSchmelzeInM_delta', 'GiessLaengeSchmelzeInM_delta',\n",
    "        ]"
   ]
  },
  {
   "cell_type": "code",
   "execution_count": null,
   "metadata": {},
   "outputs": [],
   "source": [
    "numerical_attributes = [  'TempMittelLsInC',\n",
    "        'TempMittelFsInC', 'ZielTempTreiberInC',\n",
    "                        'TundishTemperaturInC',\n",
    "                           'WasserZ1LsInLproMin_integr',\n",
    "     \n",
    "                           'WasserZ1FsInLproMin_integr',\n",
    "        'WasserZ2aLsInLproMin_integr',\n",
    "       'WasserZ2aFsInLproMin_integr',\n",
    "      'WasserZ2bFsInLproMin_integr',\n",
    "      'WasserZ2bLsInLproMin_integr',\n",
    "     'WasserZ3aFsInLproMin_integr',\n",
    "   \n",
    "       'WasserZ3aLsInLproMin_integr',\n",
    "                          'WasserZ3bFsInLproMin_integr',\n",
    "                        'WasserZ3bLsInLproMin_integr',\n",
    "                        'WasserZ4FsInLproMin_integr',\n",
    "       'WasserZ4LsInLproMin_integr',\n",
    "      'WasserZ5LsInLproMin_integr',\n",
    "       'WasserZ5FsInLproMin_integr',\n",
    "      \n",
    "       'GiessLaengeSchmelzeInM', 'GiessLaengeSequenzInM',\n",
    "       'AusfLaengeSchmelzeInM', 'GiessGeschwInMproMin',\n",
    "        'LiquidusTempInC', 'SolidusTempInC',\n",
    "       'UeberhitzungMittelInK', \n",
    "       'SollGiessGeschwInMproMin',  'C-Aequiv01', 'C-Aequiv02',\n",
    "       'C-AequivP', \n",
    "       ]"
   ]
  },
  {
   "cell_type": "code",
   "execution_count": null,
   "metadata": {
    "scrolled": true
   },
   "outputs": [],
   "source": [
    "strang_data[numerical_attributes].describe().transpose()"
   ]
  },
  {
   "cell_type": "code",
   "execution_count": null,
   "metadata": {
    "scrolled": false
   },
   "outputs": [],
   "source": [
    "strang_data[strang_data['seq_id'] != '475229_str_2'][['TempMittelLsInC','TempMittelFsInC']].describe()"
   ]
  },
  {
   "cell_type": "code",
   "execution_count": null,
   "metadata": {},
   "outputs": [],
   "source": [
    "strang_data[['TempMittelLsInC','TempMittelFsInC']].describe()"
   ]
  },
  {
   "cell_type": "code",
   "execution_count": null,
   "metadata": {
    "scrolled": false
   },
   "outputs": [],
   "source": [
    "sns.set_style(\"white\")\n",
    "fig, ax1 = plt.subplots(1, 1, figsize=(6, 5),  sharex=True)\n",
    "#fig.suptitle('Distributions of Model Target Temperatures')\n",
    "sns.histplot(ax=ax1, data=strang_data, x='TempMittelLsInC', kde=True,color=sns.color_palette()[0] )\n",
    "ax1.set(xticks=[]) \n",
    "ax1.set_xlabel('Temperature [°C]', fontsize=15)\n",
    "ax1.set_ylabel('Count', fontsize=15)\n",
    "ax1.xaxis.grid(False)\n",
    "ax1.yaxis.grid(True)\n",
    "plt.yticks(fontsize=13)\n"
   ]
  },
  {
   "cell_type": "code",
   "execution_count": null,
   "metadata": {
    "scrolled": true
   },
   "outputs": [],
   "source": [
    "fig, ax1 = plt.subplots(1, 1, figsize=(6, 5),  sharex=True)\n",
    "#fig.suptitle('Distributions of Model Target Temperatures')\n",
    "\n",
    "sns.histplot(ax=ax1, data=strang_data, x='TempMittelFsInC', kde=True, color=sns.color_palette()[0] )\n",
    "ax1.set(xticks=[]) \n",
    "ax1.set_xlabel('Temperature [°C]', fontsize=15)\n",
    "ax1.set_ylabel('Count', fontsize=15)\n",
    "ax1.xaxis.grid(False)\n",
    "ax1.yaxis.grid(True)\n",
    "plt.yticks(fontsize=13)\n"
   ]
  },
  {
   "cell_type": "code",
   "execution_count": null,
   "metadata": {},
   "outputs": [],
   "source": [
    "from scipy.stats import norm\n",
    "from scipy import stats"
   ]
  },
  {
   "cell_type": "code",
   "execution_count": null,
   "metadata": {
    "scrolled": true
   },
   "outputs": [],
   "source": [
    "fig, ax1 = plt.subplots(1, 1, figsize=(6, 5),  sharex=True)\n",
    "sns.distplot(strang_data['TempMittelLsInC'],ax=ax1,fit=norm, color=sns.color_palette()[0])\n",
    "ax1.set(xticks=[]) \n",
    "ax1.set_xlabel('Temperature [°C]', fontsize=15)\n",
    "ax1.set_ylabel('Density', fontsize=15)\n",
    "ax1.xaxis.grid(False)\n",
    "ax1.yaxis.grid(True)\n",
    "plt.yticks(fontsize=13)\n"
   ]
  },
  {
   "cell_type": "code",
   "execution_count": null,
   "metadata": {
    "scrolled": true
   },
   "outputs": [],
   "source": [
    "fig, ax1 = plt.subplots(1, 1, figsize=(6, 5),  sharex=True)\n",
    "sns.distplot(strang_data['TempMittelLsInC'],ax=ax1, fit=norm, color=sns.color_palette()[0])\n",
    "ax1.set(xticks=[]) \n",
    "ax1.set_xlabel('Temperature [°C]', fontsize=15)\n",
    "ax1.set_ylabel('Density', fontsize=15)\n",
    "ax1.xaxis.grid(False)\n",
    "ax1.yaxis.grid(True)\n",
    "plt.yticks(fontsize=13)"
   ]
  },
  {
   "cell_type": "code",
   "execution_count": null,
   "metadata": {
    "scrolled": true
   },
   "outputs": [],
   "source": [
    "fig, ax1 = plt.subplots(1,  figsize=(6, 5),  sharex=True)\n",
    "res = stats.probplot(strang_data['TempMittelFsInC'], plot=plt)\n",
    "ax1.xaxis.grid(True)\n",
    "ax1.yaxis.grid(False)\n",
    "ax1.set(yticks=[]) \n",
    "ax1.set_title('')\n",
    "ax1.get_lines()[0].set_color(color=sns.color_palette()[0])\n",
    "ax1.set_xlabel('Theoretical Quantiles', fontsize=15)\n",
    "ax1.set_ylabel('Ordered Values', fontsize=15)\n",
    "plt.yticks(fontsize=13)\n",
    "plt.xticks(fontsize=13)\n"
   ]
  },
  {
   "cell_type": "code",
   "execution_count": null,
   "metadata": {
    "scrolled": true
   },
   "outputs": [],
   "source": [
    "fig, ax1 = plt.subplots(1,  figsize=(6, 5),  sharex=True)\n",
    "res = stats.probplot(strang_data['TempMittelLsInC'], plot=plt)\n",
    "ax1.xaxis.grid(True)\n",
    "ax1.yaxis.grid(False)\n",
    "ax1.set(yticks=[]) \n",
    "ax1.set_title('')\n",
    "ax1.get_lines()[0].set_color(color=sns.color_palette()[0])\n",
    "ax1.set_xlabel('Theoretical Quantiles', fontsize=15)\n",
    "ax1.set_ylabel('Ordered Values', fontsize=15)\n",
    "plt.yticks(fontsize=13)\n",
    "plt.xticks(fontsize=13)\n"
   ]
  },
  {
   "cell_type": "code",
   "execution_count": null,
   "metadata": {
    "scrolled": true
   },
   "outputs": [],
   "source": [
    "fig, ax1 = plt.subplots(1,  figsize=(8, 5),  sharex=True)\n",
    "data = strang_data.copy()\n",
    "data.rename(columns={'TempMittelLsInC':'Temperature of Loose Side',\n",
    "                                   'TempMittelFsInC':'Temperature of Fixed Side' },\n",
    "                  inplace=True),\n",
    "sns.boxplot(data=data,\n",
    "            order=['Temperature of Loose Side','Temperature of Fixed Side'], ax=ax1, color=sns.color_palette()[0] )\n",
    "ax1.set_ylabel('Temperature [°C]', fontsize=15)\n",
    "ax1.set(yticks=[]) \n",
    "plt.xticks([0, 1], ['Temperature of Loose Side', 'Temperature of Fixed Side'], fontsize=15 )\n"
   ]
  },
  {
   "cell_type": "code",
   "execution_count": null,
   "metadata": {},
   "outputs": [],
   "source": [
    "grouped_end = strang_data.groupby('seq_id')\n",
    "str_data = {}\n",
    "strang_data_test = pd.DataFrame()\n",
    "length_cc4 = 15.42\n",
    "for name, group in grouped_end:\n",
    "    group['max_seq_length'] = group['GiessLaengeSequenzInM'].max()\n",
    "    str_data[name] = group.copy()      \n",
    "    strang_data_test = pd.concat([strang_data_test,str_data[name]], axis=0)\n",
    "\n",
    "strang_data_test['rel_seq_len'] =  strang_data_test['GiessLaengeSequenzInM'] / strang_data_test['max_seq_length'] "
   ]
  },
  {
   "cell_type": "code",
   "execution_count": null,
   "metadata": {
    "scrolled": false
   },
   "outputs": [],
   "source": [
    "var = 'rel_seq_len'\n",
    "fig, ax1 = plt.subplots(1, 1, figsize=(6, 5),  sharex=True)\n",
    "sns.scatterplot(data=strang_data_test,\n",
    "                y='TempMittelLsInC', x=var, ax=ax1, s=10, color=sns.color_palette()[0])\n",
    "ax1.axhline(650, ls='--', color='black', alpha=0.7)\n",
    "ax1.axhline(765, ls='--', color='black',alpha=0.7)\n",
    "ax1.set_xlabel('Relative Sequence  Length', fontsize=15)\n",
    "ax1.set_ylabel('Temperature [°C]', fontsize=15)\n",
    "ax1.set(yticks=[]) \n",
    "plt.yticks(fontsize=13)\n",
    "plt.xticks(fontsize=13)\n",
    "\n"
   ]
  },
  {
   "cell_type": "code",
   "execution_count": null,
   "metadata": {
    "scrolled": true
   },
   "outputs": [],
   "source": [
    "var = 'rel_seq_len'\n",
    "fig, ax1 = plt.subplots(1, 1, figsize=(6, 5),  sharex=True)\n",
    "sns.scatterplot(data=strang_data_test,\n",
    "                y='TempMittelFsInC', x=var, ax=ax1,s=10, color=sns.color_palette()[0])\n",
    "ax1.axhline(652, ls='--', color='black', alpha=0.7)\n",
    "ax1.axhline(757, ls='--', color='black',alpha=0.7)\n",
    "ax1.set_xlabel('Relative Sequence  Length', fontsize=15)\n",
    "ax1.set_ylabel('Temperature [°C]', fontsize=15)\n",
    "ax1.set(yticks=[]) \n",
    "plt.yticks(fontsize=13)\n",
    "plt.xticks(fontsize=13)"
   ]
  },
  {
   "cell_type": "code",
   "execution_count": null,
   "metadata": {
    "scrolled": false
   },
   "outputs": [],
   "source": [
    "#correlation matrix\n",
    "data = strang_data[numerical_attributes]\n",
    "data.rename(columns={'WasserZ1FsInLproMin_integr':'WasserZ1Fs',\n",
    "                           'WasserZ1LsInLproMin_integr':'WasserZ1Ls',\n",
    "                           'WasserZ2aFsInLproMin_integr':'WasserZ2aFs',\n",
    "                           'WasserZ2aLsInLproMin_integr':'WasserZ2aLs',\n",
    "                           'WasserZ2bFsInLproMin_integr':'WasserZ2bFs',\n",
    "                           'WasserZ2bLsInLproMin_integr':'WasserZ2bLs',\n",
    "                           'WasserZ3aFsInLproMin_integr':'WasserZ3aFs',\n",
    "                           'WasserZ3aLsInLproMin_integr':'WasserZ3aLs',\n",
    "                           'WasserZ3bFsInLproMin_integr':'WasserZ3bFs',\n",
    "                           'WasserZ3bLsInLproMin_integr':'WasserZ3bLs',\n",
    "                           'WasserZ4FsInLproMin_integr':'WasserZ4Fs',\n",
    "                           'WasserZ4LsInLproMin_integr':'WasserZ4Ls',\n",
    "                           'WasserZ5FsInLproMin_integr':'WasserZ5Fs',\n",
    "                           'WasserZ5LsInLproMin_integr':'WasserZ5Ls',\n",
    "                          },\n",
    "                  inplace=True)\n",
    "\n",
    "\n",
    "\n",
    "corrmat = data.corr()\n",
    "\n",
    "f, ax = plt.subplots(figsize=(16, 15))\n",
    "sns.heatmap(corrmat, vmax=.8, square=True);\n",
    "plt.tight_layout"
   ]
  },
  {
   "cell_type": "code",
   "execution_count": null,
   "metadata": {},
   "outputs": [],
   "source": [
    "f.savefig('/home/di40438/bachelorarbeit/data/correlation_matrix.eps', format='eps',)"
   ]
  },
  {
   "cell_type": "code",
   "execution_count": null,
   "metadata": {},
   "outputs": [],
   "source": [
    "corrmat['TempMittelLsInC'].sort_values()"
   ]
  },
  {
   "cell_type": "code",
   "execution_count": null,
   "metadata": {
    "scrolled": true
   },
   "outputs": [],
   "source": [
    "corrmat['ZielTempTreiberInC'].sort_values()"
   ]
  },
  {
   "cell_type": "code",
   "execution_count": null,
   "metadata": {},
   "outputs": [],
   "source": [
    "water_keys =  ['WasserZ4FsInLproMin_integr',\n",
    " 'WasserZ4LsInLproMin_integr',\n",
    " 'WasserZ2bFsInLproMin_integr',\n",
    " 'WasserZ2bLsInLproMin_integr',\n",
    " 'WasserZ3bFsInLproMin_integr',\n",
    " 'WasserZ1FsInLproMin_integr',\n",
    " 'WasserZ3bLsInLproMin_integr',\n",
    " 'WasserZ1LsInLproMin_integr',\n",
    " 'WasserZ3aFsInLproMin_integr',\n",
    " 'WasserZ3aLsInLproMin_integr',\n",
    " 'WasserZ2aLsInLproMin_integr',\n",
    " 'WasserZ2aFsInLproMin_integr',\n",
    " 'WasserZ5LsInLproMin_integr',\n",
    " 'WasserZ5FsInLproMin_integr',\n",
    " ]"
   ]
  },
  {
   "cell_type": "code",
   "execution_count": null,
   "metadata": {},
   "outputs": [],
   "source": [
    "water_keys.sort()"
   ]
  },
  {
   "cell_type": "code",
   "execution_count": null,
   "metadata": {},
   "outputs": [],
   "source": [
    "water_data = strang_data[water_keys]\n",
    "water_data.rename(columns={'WasserZ1FsInLproMin_integr':'Z1_FS',\n",
    "                           'WasserZ1LsInLproMin_integr':'Z1_LS',\n",
    "                           'WasserZ2aFsInLproMin_integr':'Z2a_FS',\n",
    "                           'WasserZ2aLsInLproMin_integr':'Z2a_LS',\n",
    "                           'WasserZ2bFsInLproMin_integr':'Z2b_FS',\n",
    "                           'WasserZ2bLsInLproMin_integr':'Z2b_LS',\n",
    "                           'WasserZ3aFsInLproMin_integr':'Z3a_FS',\n",
    "                           'WasserZ3aLsInLproMin_integr':'Z3a_LS',\n",
    "                           'WasserZ3bFsInLproMin_integr':'Z3b_FS',\n",
    "                           'WasserZ3bLsInLproMin_integr':'Z3b_LS',\n",
    "                           'WasserZ4FsInLproMin_integr':'Z4_FS',\n",
    "                           'WasserZ4LsInLproMin_integr':'Z4_LS',\n",
    "                           'WasserZ5FsInLproMin_integr':'Z5_FS',\n",
    "                           'WasserZ5LsInLproMin_integr':'Z5_LS',\n",
    "                          },\n",
    "                  inplace=True)"
   ]
  },
  {
   "cell_type": "code",
   "execution_count": null,
   "metadata": {},
   "outputs": [],
   "source": [
    "fig, ax1 = plt.subplots(1, 1, figsize=(12, 5),  sharex=True)\n",
    "sns.boxplot(data=water_data, color=sns.color_palette()[0], ax=ax1)\n",
    "ax1.set_xlabel('Cooling Zones', fontsize=15)\n",
    "ax1.set_ylabel('Cooling Water [l]', fontsize=15)\n",
    "ax1.set(yticks=[]) \n",
    "plt.yticks(fontsize=13)\n",
    "plt.xticks(fontsize=13)"
   ]
  },
  {
   "cell_type": "markdown",
   "metadata": {},
   "source": [
    "### Look at single sequences"
   ]
  },
  {
   "cell_type": "code",
   "execution_count": null,
   "metadata": {
    "scrolled": false
   },
   "outputs": [],
   "source": [
    "seq_number = '474947_str_1'\n",
    "fig1, (ax1) = plt.subplots(1, figsize=(6, 5))\n",
    "ax1.axhline(700, ls='--', color='red', label='casting target temperature' )\n",
    "sns.lineplot(data=strang_data[strang_data['seq_id']==seq_number].reset_index(drop=True),\n",
    "             y='TempMittelLsInC',x=strang_data[strang_data['seq_id']==seq_number].reset_index(drop=True).index,\n",
    "              color='black',ax=ax1, label='model target temperature')\n",
    "ax1.set_xlabel('Minutes', fontsize=15)\n",
    "ax1.set_ylabel('Temperature [°C]',fontsize=15)\n",
    "ax1.set(yticks=[]) \n",
    "ax1.xaxis.grid(True)\n",
    "ax1.yaxis.grid(True)\n",
    "ax1.legend(prop={'size': 15})\n",
    "plt.yticks(fontsize=13)\n",
    "plt.xticks(fontsize=13)\n"
   ]
  },
  {
   "cell_type": "code",
   "execution_count": null,
   "metadata": {
    "scrolled": false
   },
   "outputs": [],
   "source": [
    "seq_number = '474947_str_1'\n",
    "fig2, (ax1) = plt.subplots(1, figsize=(6, 5))\n",
    "ax1.axhline(700, ls='--', color='red', label='casting target temperature' )\n",
    "sns.lineplot(data=strang_data[strang_data['seq_id']==seq_number].reset_index(drop=True),\n",
    "             y='TempMittelFsInC',x=strang_data[strang_data['seq_id']==seq_number].reset_index(drop=True).index,\n",
    "             color='black', ax=ax1, label='model target temperature')\n",
    "ax1.set_xlabel('Minutes', fontsize=15)\n",
    "ax1.set_ylabel('Temperature [°C]',fontsize=15)\n",
    "ax1.set(yticks=[]) \n",
    "ax1.xaxis.grid(True)\n",
    "ax1.yaxis.grid(True)\n",
    "ax1.legend(prop={'size': 15})\n",
    "plt.yticks(fontsize=13)\n",
    "plt.xticks(fontsize=13)\n"
   ]
  },
  {
   "cell_type": "code",
   "execution_count": null,
   "metadata": {
    "scrolled": false
   },
   "outputs": [],
   "source": [
    "seq_number = '474947_str_1'\n",
    "fig5, (ax1) = plt.subplots(1, figsize=(6, 5))\n",
    "sns.lineplot(data=strang_data[strang_data['seq_id']==seq_number].reset_index(drop=True),\n",
    "             y='GiessGeschwInMproMin',x=strang_data[strang_data['seq_id']==seq_number].reset_index(drop=True).index,\n",
    "             ax=ax1, color='black')\n",
    "ax1.set_xlabel('Minutes', fontsize=15)\n",
    "ax1.set_ylabel('Casting Speed [m/min]', fontsize=15)\n",
    "ax1.set(yticks=[]) \n",
    "plt.yticks(fontsize=13)\n",
    "plt.xticks(fontsize=13)\n"
   ]
  },
  {
   "cell_type": "code",
   "execution_count": null,
   "metadata": {
    "scrolled": false
   },
   "outputs": [],
   "source": [
    "seq_number = '474947_str_1'\n",
    "fig6, (ax1) = plt.subplots(1,1, figsize=(6, 5))\n",
    "sns.lineplot(data=strang_data[strang_data['seq_id']==seq_number].reset_index(drop=True),\n",
    "             y='WasserZ5LsInLproMin_integr',x=strang_data[strang_data['seq_id']==seq_number].reset_index(drop=True).index,\n",
    "             ax=ax1, label='cooling water Z5')\n",
    "sns.lineplot(data=strang_data[strang_data['seq_id']==seq_number].reset_index(drop=True),\n",
    "             y='WasserZ4LsInLproMin_integr',x=strang_data[strang_data['seq_id']==seq_number].reset_index(drop=True).index,\n",
    "             ax=ax1, label='cooling water Z4')\n",
    "sns.lineplot(data=strang_data[strang_data['seq_id']==seq_number].reset_index(drop=True),\n",
    "             y='WasserZ3bLsInLproMin_integr',x=strang_data[strang_data['seq_id']==seq_number].reset_index(drop=True).index,\n",
    "             ax=ax1, label='cooling water Z3b')\n",
    "sns.lineplot(data=strang_data[strang_data['seq_id']==seq_number].reset_index(drop=True),\n",
    "             y='WasserZ3aLsInLproMin_integr',x=strang_data[strang_data['seq_id']==seq_number].reset_index(drop=True).index,\n",
    "             ax=ax1, label='cooling water Z3a')\n",
    "sns.lineplot(data=strang_data[strang_data['seq_id']==seq_number].reset_index(drop=True),\n",
    "             y='WasserZ2bLsInLproMin_integr',x=strang_data[strang_data['seq_id']==seq_number].reset_index(drop=True).index,\n",
    "             ax=ax1, label='cooling water Z2b')\n",
    "sns.lineplot(data=strang_data[strang_data['seq_id']==seq_number].reset_index(drop=True),\n",
    "             y='WasserZ2aLsInLproMin_integr',x=strang_data[strang_data['seq_id']==seq_number].reset_index(drop=True).index,\n",
    "             ax=ax1, label='cooling water Z2a')\n",
    "sns.lineplot(data=strang_data[strang_data['seq_id']==seq_number].reset_index(drop=True),\n",
    "             y='WasserZ1LsInLproMin_integr',x=strang_data[strang_data['seq_id']==seq_number].reset_index(drop=True).index,\n",
    "             ax=ax1, label='cooling water Z1')\n",
    "\n",
    "ax1.set_xlabel('Minutes', fontsize=15)\n",
    "ax1.set_ylabel('Cooling Water [l]', fontsize=15)\n",
    "ax1.set(yticks=[]) \n",
    "ax1.legend(prop={'size': 10})\n",
    "ax1.legend(loc='upper left')\n",
    "plt.yticks(fontsize=13)\n",
    "plt.xticks(fontsize=13)\n",
    "\n"
   ]
  }
 ],
 "metadata": {
  "kernelspec": {
   "display_name": "Python 3",
   "language": "python",
   "name": "python3"
  },
  "language_info": {
   "codemirror_mode": {
    "name": "ipython",
    "version": 3
   },
   "file_extension": ".py",
   "mimetype": "text/x-python",
   "name": "python",
   "nbconvert_exporter": "python",
   "pygments_lexer": "ipython3",
   "version": "3.9.5"
  }
 },
 "nbformat": 4,
 "nbformat_minor": 4
}
