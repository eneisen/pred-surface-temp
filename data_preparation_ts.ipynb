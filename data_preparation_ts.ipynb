{
 "cells": [
  {
   "cell_type": "code",
   "execution_count": 1,
   "metadata": {
    "scrolled": true
   },
   "outputs": [],
   "source": [
    "import pandas as pd\n",
    "import numpy as np\n",
    "import matplotlib.pyplot as plt\n",
    "from IPython.display import display\n",
    "from scipy.interpolate import interp1d\n",
    "import seaborn as sns\n",
    "import pickle\n",
    "from sklearn.preprocessing import OneHotEncoder\n",
    "from scipy.stats import norm\n",
    "from scipy import stats"
   ]
  },
  {
   "cell_type": "code",
   "execution_count": 2,
   "metadata": {},
   "outputs": [],
   "source": [
    "pd.set_option('display.max_columns', None)\n",
    "pd.set_option('display.max_rows', 1000)"
   ]
  },
  {
   "cell_type": "markdown",
   "metadata": {},
   "source": [
    "### Define Keys"
   ]
  },
  {
   "cell_type": "code",
   "execution_count": 3,
   "metadata": {},
   "outputs": [],
   "source": [
    "\n",
    "integrate_keys_all = ['Str1GiessGeschwInMproMin',\n",
    " 'Str1WasserZ1DiefflenInLproMin',\n",
    " 'Str1WasserZ1DillingenInLproMin',\n",
    " 'Str1WasserZ1FsInLproMin',\n",
    " 'Str1WasserZ1LsInLproMin',\n",
    " 'Str1WasserZ2aFsInLproMin',\n",
    " 'Str1WasserZ2aLsInLproMin',\n",
    " 'Str1WasserZ2bFsInLproMin',\n",
    " 'Str1WasserZ2bLsInLproMin',\n",
    " 'Str1WasserZ3aFsInLproMin',\n",
    " 'Str1WasserZ3aLsInLproMin',\n",
    " 'Str1WasserZ3bFsInLproMin',\n",
    " 'Str1WasserZ3bLsInLproMin',\n",
    " 'Str1WasserZ4FsInLproMin',\n",
    " 'Str1WasserZ4LsInLproMin',\n",
    " 'Str1WasserZ5FsInLproMin',\n",
    " 'Str1WasserZ5LsInLproMin',\n",
    " 'Str2GiessGeschwInMproMin',\n",
    " 'Str2WasserZ1DiefflenInLproMin',\n",
    " 'Str2WasserZ1DillingenInLproMin',\n",
    " 'Str2WasserZ1FsInLproMin',\n",
    " 'Str2WasserZ1LsInLproMin',\n",
    " 'Str2WasserZ2aFsInLproMin',\n",
    " 'Str2WasserZ2aLsInLproMin',\n",
    " 'Str2WasserZ2bFsInLproMin',\n",
    " 'Str2WasserZ2bLsInLproMin',\n",
    " 'Str2WasserZ3aFsInLproMin',\n",
    " 'Str2WasserZ3aLsInLproMin',\n",
    " 'Str2WasserZ3bFsInLproMin',\n",
    " 'Str2WasserZ3bLsInLproMin',\n",
    " 'Str2WasserZ4FsInLproMin',\n",
    " 'Str2WasserZ4LsInLproMin',\n",
    " 'Str2WasserZ5FsInLproMin',\n",
    " 'Str2WasserZ5LsInLproMin']\n",
    "\n",
    "\n",
    "delta_keys_all = ['Str1GiessLaengeSequenzInM',\n",
    "              'Str2GiessLaengeSequenzInM',\n",
    "              'Str2AusfLaengeSchmelzeInM',\n",
    "              'Str1AusfLaengeSchmelzeInM']"
   ]
  },
  {
   "cell_type": "markdown",
   "metadata": {},
   "source": [
    "#### Strand 1 keys"
   ]
  },
  {
   "cell_type": "code",
   "execution_count": 4,
   "metadata": {},
   "outputs": [],
   "source": [
    "str1_keys = ['TundishTemperaturInC',\n",
    " 'Str1TempMittelLsInC',\n",
    " 'Str1TempMittelFsInC',\n",
    " 'Str1WasserZ4FsInLproMin',\n",
    " 'Str1WasserZ4LsInLproMin',\n",
    " 'Str1WasserZ2bFsInLproMin',\n",
    " 'Str1WasserZ2bLsInLproMin',\n",
    " 'Str1WasserZ3bFsInLproMin',\n",
    " 'Str1WasserZ1FsInLproMin',\n",
    " 'Str1WasserZ3bLsInLproMin',\n",
    " 'Str1WasserZ1LsInLproMin',\n",
    " 'Str1WasserZ3aFsInLproMin',\n",
    " 'Str1WasserZ3aLsInLproMin',\n",
    " 'Str1WasserZ2aLsInLproMin',\n",
    " 'Str1WasserZ2aFsInLproMin',\n",
    " 'Str1WasserZ5LsInLproMin',\n",
    " 'Str1WasserZ5FsInLproMin',\n",
    " 'Str1WasserZ1DiefflenInLproMin',\n",
    " 'Str1WasserZ1DillingenInLproMin',\n",
    " 'Str1GiessLaengeSchmelzeInM',\n",
    " 'Str1GiessLaengeSequenzInM',\n",
    " 'Str1AusfLaengeSchmelzeInM',\n",
    " 'Str1GiessGeschwInMproMin',]\n",
    "\n",
    "delta_keys_1 = ['Str1GiessLaengeSequenzInM',\n",
    "              'Str1AusfLaengeSchmelzeInM']\n",
    "\n",
    "integrate_keys_1 = [e for e in str1_keys if e not in ('TundishTemperaturInC',\n",
    "                                                 'Str1TempMittelLsInC',\n",
    "                                                 'Str1TempMittelFsInC',\n",
    "                                                 'Str1GiessLaengeSchmelzeInM',\n",
    "                                                 'Str1GiessLaengeSequenzInM',\n",
    "                                                 'Str1AusfLaengeSchmelzeInM',)]  \n",
    "temperature_keys_1 = ['Str1TempMittelLsInC',\n",
    "                    'Str1TempMittelFsInC',]\n",
    "\n",
    "cols_schmelzen_str1 = ['ChargenNr',\n",
    " 'ChargenNrErsteSchmInSeq',\n",
    " 'GiessBeginnSchmelze',\n",
    " 'GiessBeginn_DateTime',\n",
    " 'GiessEndeSchmelze',\n",
    " 'GiessEnde_DateTime',\n",
    " 'EndeSchmelze',\n",
    " 'Ende_DateTime',\n",
    " 'NrSchmelzeInSequenz',\n",
    " 'LiquidusTempInC',\n",
    " 'SolidusTempInC',\n",
    " 'UeberhitzungMittelInK',\n",
    " 'ZielTempTreiberInC',\n",
    " 'Str1SollGiessGeschwInMproMin',\n",
    " 'Str1Format',\n",
    " 'C-Aequiv01',\n",
    " 'C-Aequiv02',\n",
    " 'C-AequivP']"
   ]
  },
  {
   "cell_type": "markdown",
   "metadata": {},
   "source": [
    "#### Strand 2 keys"
   ]
  },
  {
   "cell_type": "code",
   "execution_count": 5,
   "metadata": {},
   "outputs": [],
   "source": [
    "str2_keys = [\n",
    " 'TundishTemperaturInC',\n",
    " 'Str2TempMittelLsInC',\n",
    " 'Str2TempMittelFsInC',\n",
    " 'Str2WasserZ1FsInLproMin',\n",
    " 'Str2WasserZ1LsInLproMin',\n",
    " 'Str2WasserZ2bFsInLproMin',\n",
    " 'Str2WasserZ4FsInLproMin',\n",
    " 'Str2WasserZ4LsInLproMin',\n",
    " 'Str2WasserZ3bLsInLproMin',\n",
    " 'Str2WasserZ3bFsInLproMin',\n",
    " 'Str2WasserZ1DiefflenInLproMin',\n",
    " 'Str2WasserZ2bLsInLproMin',\n",
    " 'Str2WasserZ1DillingenInLproMin',\n",
    " 'Str2WasserZ2aLsInLproMin',\n",
    " 'Str2WasserZ2aFsInLproMin',\n",
    " 'Str2WasserZ5FsInLproMin',\n",
    " 'Str2GiessLaengeSchmelzeInM',\n",
    " 'Str2WasserZ5LsInLproMin',\n",
    " 'Str2GiessLaengeSequenzInM',\n",
    " 'Str2WasserZ3aFsInLproMin',\n",
    " 'Str2WasserZ3aLsInLproMin',\n",
    " 'Str2AusfLaengeSchmelzeInM',\n",
    " 'Str2GiessGeschwInMproMin']\n",
    "\n",
    "delta_keys_2 = ['Str2GiessLaengeSequenzInM',\n",
    "              'Str2AusfLaengeSchmelzeInM',]\n",
    "            \n",
    "integrate_keys_2 = [e for e in str2_keys if e not in ('TundishTemperaturInC',\n",
    "                                                 'Str2TempMittelLsInC',\n",
    "                                                 'Str2TempMittelFsInC',\n",
    "                                                 'Str2GiessLaengeSchmelzeInM',\n",
    "                                                 'Str2GiessLaengeSequenzInM',\n",
    "                                                 'Str2AusfLaengeSchmelzeInM',\n",
    "                                                 )]\n",
    "\n",
    "temperature_keys_2 = ['Str2TempMittelLsInC',\n",
    "                    'Str2TempMittelFsInC',]\n",
    "            \n",
    "cols_schmelzen_str2 = ['ChargenNr',\n",
    " 'ChargenNrErsteSchmInSeq',\n",
    " 'GiessBeginnSchmelze',\n",
    " 'GiessBeginn_DateTime',\n",
    " 'GiessEndeSchmelze',\n",
    " 'GiessEnde_DateTime',\n",
    " 'EndeSchmelze',\n",
    " 'Ende_DateTime',\n",
    " 'NrSchmelzeInSequenz',\n",
    " 'LiquidusTempInC',\n",
    " 'SolidusTempInC',\n",
    " 'UeberhitzungMittelInK',\n",
    " 'ZielTempTreiberInC',\n",
    " 'Str2SollGiessGeschwInMproMin',\n",
    " 'Str2Format',\n",
    " 'C-Aequiv01',\n",
    " 'C-Aequiv02',\n",
    " 'C-AequivP']"
   ]
  },
  {
   "cell_type": "markdown",
   "metadata": {},
   "source": [
    "## Combinde time series and cross section data"
   ]
  },
  {
   "cell_type": "markdown",
   "metadata": {},
   "source": [
    "### Prepare Time Series Data\n",
    "Since only 10 data samples can be shown, the first data preparation steps where we combine all the data, cannot be done. To demonstrate the functionality of the code, we transform the data in 1s steps and perform the first steps. Because of the limited data, the time series data and the cross correlation data cannot be combined.\n",
    "For the rest of the code we use the first 10 samples of the original combined data, as we will see later."
   ]
  },
  {
   "cell_type": "markdown",
   "metadata": {},
   "source": [
    "### This preparation is independent from the rest and only demostrates the functionality oft the code. The data used for the rest of the code is already prepared."
   ]
  },
  {
   "cell_type": "code",
   "execution_count": 6,
   "metadata": {},
   "outputs": [],
   "source": [
    "from pathlib import Path\n",
    "data_dir = Path(\"../data/ts_data/\")\n",
    "\n",
    "data = {}\n",
    "for csv_file in data_dir.glob(\"*.csv\"):\n",
    "        \n",
    "    this_csv = pd.read_csv(csv_file, delimiter=\",\")\n",
    "    \n",
    "    this_csv['DATE_TIME'] = pd.to_datetime(this_csv['TIME'],unit='s').dt.tz_localize(\"UTC\")\n",
    "    this_csv = this_csv.set_index('DATE_TIME', drop=False).sort_index()\n",
    "    \n",
    "    data[csv_file.stem] = this_csv.sort_values(\"TIME\")"
   ]
  },
  {
   "cell_type": "markdown",
   "metadata": {},
   "source": [
    "### Preprocess Time Series Data"
   ]
  },
  {
   "cell_type": "code",
   "execution_count": 7,
   "metadata": {},
   "outputs": [],
   "source": [
    "frequency = '1s'\n",
    "\n",
    "rng = pd.date_range(start='2019-03-01 00:07:00+00:00', end='2019-03-01 00:09:00+00:00', freq=frequency)\n",
    "df_times = pd.DataFrame({'DateTime': rng})\n",
    "df_times['ts'] = df_times.DateTime.values.astype(np.int64) // 10**9    #np arry by values, then 10**9 for s"
   ]
  },
  {
   "cell_type": "markdown",
   "metadata": {},
   "source": [
    "### For demonstration only for strand 1"
   ]
  },
  {
   "cell_type": "code",
   "execution_count": 8,
   "metadata": {},
   "outputs": [],
   "source": [
    "keys = str1_keys\n",
    "delta_keys = delta_keys_1\n",
    "integrate_keys = integrate_keys_1\n",
    "GiessLaengeSchmelzeInM = \"Str1GiessLaengeSchmelzeInM\"\n",
    "GiessLaengeSequenzInM = \"Str1GiessLaengeSequenzInM\"\n",
    "AusfLaengeSchmelzeInM = 'Str1AusfLaengeSchmelzeInM'\n",
    "cols_schmelzen = cols_schmelzen_str1\n",
    "temperature = 'Str1TempMittelLsInC'\n",
    "temp_keys = temperature_keys_1"
   ]
  },
  {
   "cell_type": "markdown",
   "metadata": {},
   "source": [
    "### Interpolation"
   ]
  },
  {
   "cell_type": "code",
   "execution_count": 9,
   "metadata": {
    "scrolled": true
   },
   "outputs": [],
   "source": [
    "data_interval = {}\n",
    "for i in keys:\n",
    "    datetime = data[i]['TIME'].to_numpy()\n",
    "    value = data[i][i].to_numpy()\n",
    "    interpolate = interp1d(datetime,value, kind='linear')\n",
    "    new_datetime = df_times['ts'].to_numpy()\n",
    "   \n",
    "    interp_array = interpolate(new_datetime)\n",
    "    df_interp = pd.DataFrame({'DATE_TIME':new_datetime , i: interp_array, 'TIME': new_datetime})\n",
    "    df_interp['DATE_TIME'] = pd.to_datetime(df_interp['DATE_TIME'],unit='s').dt.tz_localize(\"UTC\")\n",
    "    data_interval[i] = df_interp"
   ]
  },
  {
   "cell_type": "markdown",
   "metadata": {},
   "source": [
    "### Integration"
   ]
  },
  {
   "cell_type": "code",
   "execution_count": 10,
   "metadata": {},
   "outputs": [],
   "source": [
    "import scipy\n",
    "def integrate(X):\n",
    "        Y = [interpolate(x) for x in X]\n",
    "        return scipy.integrate.trapz(Y,X, dx=1)\n",
    "\n",
    "\n",
    "def trapz_integration(end_s):\n",
    "    end_m = end_s / 60\n",
    "    begin_m = end_m - 1\n",
    "    try:\n",
    "        return integrate([begin_m, end_m])\n",
    "    except ValueError:\n",
    "        return np.nan\n",
    "\n",
    "for i in integrate_keys:\n",
    "    minutes = data[i]['TIME'].to_numpy() / 60\n",
    "    value = data[i][i].to_numpy()\n",
    "    interpolate = interp1d(minutes,value, kind='linear')\n",
    "    data_interval[i][i + '_integr'] = data_interval[i][\"TIME\"].apply(trapz_integration)"
   ]
  },
  {
   "cell_type": "markdown",
   "metadata": {},
   "source": [
    "### Mean for the temperatures"
   ]
  },
  {
   "cell_type": "code",
   "execution_count": 11,
   "metadata": {},
   "outputs": [],
   "source": [
    "def temp_mean(end_s):\n",
    "    end_m = end_s / 60\n",
    "    begin_m = end_m - 1\n",
    "    try:\n",
    "        return (1 / (end_m - begin_m)) * integrate([begin_m, end_m])\n",
    "    except ValueError:\n",
    "        return np.nan\n",
    "\n",
    "for i in temp_keys:\n",
    "    minutes = data[i]['TIME'].to_numpy() / 60\n",
    "    value = data[i][i].to_numpy()\n",
    "    interpolate = interp1d(minutes,value, kind='linear')\n",
    "    data_interval[i][i + '_old'] = data_interval[i][i]\n",
    "    data_interval[i][i] = data_interval[i][\"TIME\"].apply(temp_mean)"
   ]
  },
  {
   "cell_type": "markdown",
   "metadata": {},
   "source": [
    "### Merging TS-Datasets"
   ]
  },
  {
   "cell_type": "code",
   "execution_count": 12,
   "metadata": {},
   "outputs": [],
   "source": [
    "from functools import reduce\n",
    "df_merged = reduce(lambda  left,right: pd.merge(left,right,on=['DATE_TIME', 'TIME'],\n",
    "                                            how='outer'), data_interval.values())\n",
    "df_merged = df_merged.set_index('DATE_TIME', drop=False).sort_index()\n",
    "    "
   ]
  },
  {
   "cell_type": "markdown",
   "metadata": {},
   "source": [
    "### Import and further Preprocessing of cross section data"
   ]
  },
  {
   "cell_type": "code",
   "execution_count": 13,
   "metadata": {},
   "outputs": [],
   "source": [
    "df_schmelzen = pd.read_csv(\"../data/df_schmelzen.csv\", delimiter=\",\")"
   ]
  },
  {
   "cell_type": "markdown",
   "metadata": {},
   "source": [
    "#### Add 90 minutes to the end of the last melting process of a sequence"
   ]
  },
  {
   "cell_type": "code",
   "execution_count": 14,
   "metadata": {},
   "outputs": [],
   "source": [
    "df_schmelzen['EndeSchmelze'] = df_schmelzen['GiessEndeSchmelze']\n",
    "\n",
    "df_schmelzen['ChargenNrErsteSchmInSeq_shifted'] = df_schmelzen['ChargenNrErsteSchmInSeq'].shift(-1)\n",
    "df_schmelzen = df_schmelzen.fillna(0)\n",
    "\n",
    "def add_time_to_end(row):               \n",
    "        if row['ChargenNrErsteSchmInSeq'] !=  row['ChargenNrErsteSchmInSeq_shifted']:\n",
    "            row['EndeSchmelze'] = row['EndeSchmelze'] + 90*60   #add 90 min to end of last 'GiessEnde' \n",
    "        return row\n",
    "\n",
    "df_schmelzen = df_schmelzen.apply(add_time_to_end, axis=1)\n",
    "\n",
    "df_schmelzen['Ende_DateTime'] = pd.to_datetime(df_schmelzen['EndeSchmelze'],unit='s').dt.tz_localize(\"UTC\")\n",
    "\n",
    "df_schmelzen = df_schmelzen.drop(\"ChargenNrErsteSchmInSeq_shifted\", axis=1)\n",
    "\n",
    "df_schmelzen = df_schmelzen[cols_schmelzen]"
   ]
  },
  {
   "cell_type": "markdown",
   "metadata": {},
   "source": [
    "### Combine Datasets\n",
    "Because only limited data is available, the here prepared time series data cannot be combind with cross section data. \n",
    "We therefore use the 10 first samples of the original combined data as we will see later.\n"
   ]
  },
  {
   "cell_type": "code",
   "execution_count": 15,
   "metadata": {},
   "outputs": [],
   "source": [
    "# merged_rows = []\n",
    "\n",
    "# for _, row in df_merged.iterrows():\n",
    "#     schmelze = df_schmelzen[(df_schmelzen[\"GiessBeginn_DateTime\"] < row[\"DATE_TIME\"]) & (df_schmelzen[\"Ende_DateTime\"] >= row[\"DATE_TIME\"])]\n",
    "#     if len(schmelze) != 1:\n",
    "#         continue\n",
    "#     merged_rows.append(pd.concat([row.to_frame().transpose().reset_index(drop=True), schmelze.reset_index(drop=True)], axis=1))\n",
    "\n",
    "# combined_df = pd.concat(merged_rows)\n",
    "# combined_df = combined_df.reset_index(drop=True)"
   ]
  },
  {
   "cell_type": "markdown",
   "metadata": {},
   "source": [
    "# Further data preparation"
   ]
  },
  {
   "cell_type": "markdown",
   "metadata": {},
   "source": [
    "From now on we use the first 10 samples of the original combined data, after the first meter of the strand has passes the pyrometer, to have 10 meaning full samples."
   ]
  },
  {
   "cell_type": "markdown",
   "metadata": {},
   "source": [
    "## Data for Strand 1"
   ]
  },
  {
   "cell_type": "markdown",
   "metadata": {},
   "source": [
    "### Read combined data"
   ]
  },
  {
   "cell_type": "code",
   "execution_count": 16,
   "metadata": {},
   "outputs": [],
   "source": [
    "combined_df = pd.read_csv(\"../data/combined_df_str1.csv\", delimiter=\",\")"
   ]
  },
  {
   "cell_type": "markdown",
   "metadata": {},
   "source": [
    "### Set keys"
   ]
  },
  {
   "cell_type": "code",
   "execution_count": 17,
   "metadata": {},
   "outputs": [],
   "source": [
    "keys = str1_keys\n",
    "delta_keys = delta_keys_1\n",
    "integrate_keys = integrate_keys_1\n",
    "GiessLaengeSchmelzeInM = \"Str1GiessLaengeSchmelzeInM\"\n",
    "GiessLaengeSequenzInM = \"Str1GiessLaengeSequenzInM\"\n",
    "AusfLaengeSchmelzeInM = 'Str1AusfLaengeSchmelzeInM'\n",
    "cols_schmelzen = cols_schmelzen_str1\n",
    "temperature = 'Str1TempMittelLsInC'\n",
    "temp_keys = temperature_keys_1"
   ]
  },
  {
   "cell_type": "markdown",
   "metadata": {},
   "source": [
    "## Calculate delta of length attributes"
   ]
  },
  {
   "cell_type": "markdown",
   "metadata": {},
   "source": [
    "### delta for length of each melt"
   ]
  },
  {
   "cell_type": "code",
   "execution_count": 18,
   "metadata": {
    "scrolled": false
   },
   "outputs": [],
   "source": [
    "grouped = combined_df[GiessLaengeSchmelzeInM].groupby(combined_df['ChargenNr'])\n",
    "\n",
    "schmelzen_length = {}\n",
    "for name, group in grouped:\n",
    "    schmelzen_length[name] = pd.DataFrame(group)\n",
    "    schmelzen_length[name][GiessLaengeSchmelzeInM +'_delta'] = schmelzen_length[name].diff()\n",
    "    if schmelzen_length[name][GiessLaengeSchmelzeInM].iloc[0] == 0:\n",
    "        schmelzen_length[name] = schmelzen_length[name].fillna(0)\n",
    "    else:\n",
    "          schmelzen_length[name] = schmelzen_length[name].fillna(\n",
    "                            schmelzen_length[name][GiessLaengeSchmelzeInM +'_delta'].iloc[1])\n",
    "                \n",
    "schmelzen_merged = pd.DataFrame()\n",
    "for char_nr in list(schmelzen_length.keys()):\n",
    "     schmelzen_merged = pd.concat([schmelzen_merged,schmelzen_length[char_nr]], axis=0)"
   ]
  },
  {
   "cell_type": "markdown",
   "metadata": {},
   "source": [
    "### delta for length of sequence and  length extraction"
   ]
  },
  {
   "cell_type": "code",
   "execution_count": 19,
   "metadata": {},
   "outputs": [],
   "source": [
    "sequence_merged = {}\n",
    "for key in delta_keys:\n",
    "    grouped = combined_df[key].groupby(combined_df['ChargenNrErsteSchmInSeq'])\n",
    "    sequence_length = {}\n",
    "    for name, group in grouped:\n",
    "        sequence_length[name] = pd.DataFrame(group)\n",
    "        sequence_length[name][key +'_delta'] = sequence_length[name].diff()\n",
    "        if sequence_length[name][key].iloc[0] == 0:\n",
    "            sequence_length[name] = sequence_length[name].fillna(0)\n",
    "        else:\n",
    "            sequence_length[name] = sequence_length[name].fillna(\n",
    "                                sequence_length[name][key +'_delta'].iloc[1])\n",
    "    for seq_nr in list(sequence_length.keys()):\n",
    "         sequence_merged[key] = pd.concat(list(sequence_length.values()), axis=0)"
   ]
  },
  {
   "cell_type": "markdown",
   "metadata": {},
   "source": [
    "### Combine deltas with data"
   ]
  },
  {
   "cell_type": "code",
   "execution_count": 20,
   "metadata": {
    "scrolled": true
   },
   "outputs": [],
   "source": [
    "conc1 = pd.concat([sequence_merged[delta_keys[0]][delta_keys[0] +'_delta'],sequence_merged[\n",
    "    delta_keys[1]][delta_keys[1] +'_delta']], axis=1)\n",
    "conc2 = pd.concat([conc1,schmelzen_merged[GiessLaengeSchmelzeInM +'_delta']], axis=1)\n",
    "combined_df = pd.concat([combined_df,conc2], axis=1)"
   ]
  },
  {
   "cell_type": "markdown",
   "metadata": {},
   "source": [
    "## Outlier detection: \n",
    "### Get Outliers concerning lenght of melts"
   ]
  },
  {
   "cell_type": "markdown",
   "metadata": {},
   "source": [
    "#### Look at maximum of melt length\n",
    "Since we only have 10 data samples and therefore not the whole sequence, the maximum length of the sequences is small. We can not conduct the outlier analysis on only those 10 samples, since we would label the sequence at hand as an outlier and delete it. For all the data, the code looks as follows:"
   ]
  },
  {
   "cell_type": "code",
   "execution_count": 21,
   "metadata": {},
   "outputs": [],
   "source": [
    "# combined_df_max = combined_df_grouped[laengeSchmelze].max().to_frame()\n",
    "# laengeSchmelze_max = laengeSchmelze + '_max'\n",
    "# combined_df_max = combined_df_max.rename(columns={laengeSchmelze: laengeSchmelze_max})\n",
    "# combined_df_max = combined_df_max.reset_index(drop=False)\n",
    "\n",
    "# schmelzen_drop = combined_df_max[combined_df_max[laengeSchmelze_max]<10]\n",
    "# schmelzen_drop = schmelzen_drop['ChargenNr'].to_numpy()\n",
    "# schmelzen_drop"
   ]
  },
  {
   "cell_type": "code",
   "execution_count": 22,
   "metadata": {},
   "outputs": [],
   "source": [
    "schmelzen_drop = []"
   ]
  },
  {
   "cell_type": "markdown",
   "metadata": {},
   "source": [
    "#### look at minimum of melt length\n",
    "Again the outlier analyse on only those 10 samples does not make sense. Anyway looking at the minimum length, there is no outlier in the 10 samples"
   ]
  },
  {
   "cell_type": "code",
   "execution_count": 23,
   "metadata": {},
   "outputs": [],
   "source": [
    "combined_df_grouped = combined_df.groupby(combined_df['ChargenNr'])\n",
    "combined_df_min = combined_df_grouped[GiessLaengeSchmelzeInM].min().to_frame()\n",
    "laengeSchmelze_min = GiessLaengeSchmelzeInM + '_min'\n",
    "combined_df_min = combined_df_min.rename(columns={GiessLaengeSchmelzeInM: laengeSchmelze_min})\n",
    "combined_df_min = combined_df_min.reset_index(drop=False)\n",
    "\n",
    "s = combined_df_min[combined_df_min[laengeSchmelze_min]>10]\n",
    "s = s['ChargenNr'].to_numpy()\n",
    "schmelzen_drop = np.append(schmelzen_drop,s)"
   ]
  },
  {
   "cell_type": "markdown",
   "metadata": {},
   "source": [
    "#### identify the sequences of schmelzen_drop"
   ]
  },
  {
   "cell_type": "code",
   "execution_count": 24,
   "metadata": {},
   "outputs": [
    {
     "data": {
      "text/plain": [
       "Series([], Name: ChargenNrErsteSchmInSeq, dtype: int64)"
      ]
     },
     "execution_count": 24,
     "metadata": {},
     "output_type": "execute_result"
    }
   ],
   "source": [
    "schmelzen = combined_df.copy()\n",
    "schmelzen = schmelzen.set_index('ChargenNr',drop=True)\n",
    "\n",
    "seq_drop = schmelzen.loc[schmelzen_drop]\n",
    "\n",
    "seq_drop = seq_drop['ChargenNrErsteSchmInSeq']\n",
    "seq_drop = seq_drop.drop_duplicates(keep='first')\n",
    "seq_drop = seq_drop.reset_index(drop=True)\n",
    "seq_drop"
   ]
  },
  {
   "cell_type": "markdown",
   "metadata": {},
   "source": [
    "#### delete sequences with outliers"
   ]
  },
  {
   "cell_type": "code",
   "execution_count": 25,
   "metadata": {},
   "outputs": [],
   "source": [
    "combined_df = combined_df.set_index(combined_df['ChargenNrErsteSchmInSeq'],drop=True)\n",
    "df_str_1 = combined_df.drop(seq_drop, axis=0)\n",
    "df_str_1 = df_str_1.reset_index(drop=True)"
   ]
  },
  {
   "cell_type": "markdown",
   "metadata": {},
   "source": [
    "### Rename Columns"
   ]
  },
  {
   "cell_type": "code",
   "execution_count": 26,
   "metadata": {},
   "outputs": [],
   "source": [
    "df_str_1['strang_nr'] = 1\n",
    "df_str_1 = df_str_1.sort_values(\"TIME\")\n",
    "df_str_1 = df_str_1.reset_index(drop=True)\n",
    "\n",
    "df_str_1.rename(columns={'delta_x':'GiessLaengeSchmelzeInM_delta', 'delta_y':'GiessLaengeSequenzInM_delta',\n",
    "             'delta':'AusfLaengeSchmelzeInM_delta'}, inplace=True)\n",
    "\n",
    "df_str_1.columns = df_str_1.columns.str.replace('Str1', '') "
   ]
  },
  {
   "cell_type": "markdown",
   "metadata": {},
   "source": [
    "## Data for Strand 2"
   ]
  },
  {
   "cell_type": "markdown",
   "metadata": {},
   "source": [
    "### Read combined data"
   ]
  },
  {
   "cell_type": "code",
   "execution_count": 27,
   "metadata": {},
   "outputs": [],
   "source": [
    "combined_df = pd.read_csv(\"../data/combined_df_str2.csv\", delimiter=\",\")"
   ]
  },
  {
   "cell_type": "markdown",
   "metadata": {},
   "source": [
    "### Set keys"
   ]
  },
  {
   "cell_type": "code",
   "execution_count": 28,
   "metadata": {},
   "outputs": [],
   "source": [
    "keys = str2_keys\n",
    "delta_keys = delta_keys_2\n",
    "integrate_keys = integrate_keys_2\n",
    "GiessLaengeSchmelzeInM = \"Str2GiessLaengeSchmelzeInM\"\n",
    "GiessLaengeSequenzInM = \"Str2GiessLaengeSequenzInM\"\n",
    "AusfLaengeSchmelzeInM = 'Str2AusfLaengeSchmelzeInM'\n",
    "cols_schmelzen = cols_schmelzen_str2\n",
    "temperature = 'Str2TempMittelLsInC'\n",
    "temp_keys = temperature_keys_2"
   ]
  },
  {
   "cell_type": "markdown",
   "metadata": {},
   "source": [
    "## Calculate delta of length attributes"
   ]
  },
  {
   "cell_type": "markdown",
   "metadata": {},
   "source": [
    "### delta for length of each melt"
   ]
  },
  {
   "cell_type": "code",
   "execution_count": 29,
   "metadata": {
    "scrolled": false
   },
   "outputs": [],
   "source": [
    "grouped = combined_df[GiessLaengeSchmelzeInM].groupby(combined_df['ChargenNr'])\n",
    "\n",
    "schmelzen_length = {}\n",
    "for name, group in grouped:\n",
    "    schmelzen_length[name] = pd.DataFrame(group)\n",
    "    schmelzen_length[name][GiessLaengeSchmelzeInM +'_delta'] = schmelzen_length[name].diff()\n",
    "    if schmelzen_length[name][GiessLaengeSchmelzeInM].iloc[0] == 0:\n",
    "        schmelzen_length[name] = schmelzen_length[name].fillna(0)\n",
    "    else:\n",
    "          schmelzen_length[name] = schmelzen_length[name].fillna(\n",
    "                            schmelzen_length[name][GiessLaengeSchmelzeInM +'_delta'].iloc[1])\n",
    "                \n",
    "schmelzen_merged = pd.DataFrame()\n",
    "for char_nr in list(schmelzen_length.keys()):\n",
    "     schmelzen_merged = pd.concat([schmelzen_merged,schmelzen_length[char_nr]], axis=0)"
   ]
  },
  {
   "cell_type": "markdown",
   "metadata": {},
   "source": [
    "### delta for length of sequence and  length extraction"
   ]
  },
  {
   "cell_type": "code",
   "execution_count": 30,
   "metadata": {},
   "outputs": [],
   "source": [
    "sequence_merged = {}\n",
    "for key in delta_keys:\n",
    "    grouped = combined_df[key].groupby(combined_df['ChargenNrErsteSchmInSeq'])\n",
    "    sequence_length = {}\n",
    "    for name, group in grouped:\n",
    "        sequence_length[name] = pd.DataFrame(group)\n",
    "        sequence_length[name][key +'_delta'] = sequence_length[name].diff()\n",
    "        if sequence_length[name][key].iloc[0] == 0:\n",
    "            sequence_length[name] = sequence_length[name].fillna(0)\n",
    "        else:\n",
    "            sequence_length[name] = sequence_length[name].fillna(\n",
    "                                sequence_length[name][key +'_delta'].iloc[1])\n",
    "    for seq_nr in list(sequence_length.keys()):\n",
    "         sequence_merged[key] = pd.concat(list(sequence_length.values()), axis=0)"
   ]
  },
  {
   "cell_type": "markdown",
   "metadata": {},
   "source": [
    "### Combine deltas with data"
   ]
  },
  {
   "cell_type": "code",
   "execution_count": 31,
   "metadata": {
    "scrolled": true
   },
   "outputs": [],
   "source": [
    "conc1 = pd.concat([sequence_merged[delta_keys[0]][delta_keys[0] +'_delta'],sequence_merged[\n",
    "    delta_keys[1]][delta_keys[1] +'_delta']], axis=1)\n",
    "conc2 = pd.concat([conc1,schmelzen_merged[GiessLaengeSchmelzeInM +'_delta']], axis=1)\n",
    "combined_df = pd.concat([combined_df,conc2], axis=1)"
   ]
  },
  {
   "cell_type": "markdown",
   "metadata": {},
   "source": [
    "### Outlier detection: \n",
    "#### Get Outliers concerning lenght of melts"
   ]
  },
  {
   "cell_type": "markdown",
   "metadata": {},
   "source": [
    "#### Look at maximum of melt length\n",
    "Since we only have 10 data samples and therefore not the whole sequence, the maximum length of the sequences is small. We can not conduct the outlier analysis on only those 10 samples, since we would label the sequence at hand as an outlier and delete it. For all the data, the code looks as follows:"
   ]
  },
  {
   "cell_type": "code",
   "execution_count": 32,
   "metadata": {},
   "outputs": [],
   "source": [
    "# combined_df_grouped = combined_df.groupby(combined_df['ChargenNr'])\n",
    "# combined_df_max = combined_df_grouped[laengeSchmelze].max().to_frame()\n",
    "# laengeSchmelze_max = laengeSchmelze + '_max'\n",
    "# combined_df_max = combined_df_max.rename(columns={laengeSchmelze: laengeSchmelze_max})\n",
    "# combined_df_max = combined_df_max.reset_index(drop=False)\n",
    "\n",
    "# schmelzen_drop = combined_df_max[combined_df_max[laengeSchmelze_max]<10]\n",
    "# schmelzen_drop = schmelzen_drop['ChargenNr'].to_numpy()\n",
    "# schmelzen_drop"
   ]
  },
  {
   "cell_type": "code",
   "execution_count": 33,
   "metadata": {},
   "outputs": [],
   "source": [
    "schmelzen_drop = []"
   ]
  },
  {
   "cell_type": "markdown",
   "metadata": {},
   "source": [
    "#### look at minimum of melt length\n",
    "Again the outlier analyse on only those 10 samples does not make sense. Anyway looking at the minimum length, there is no outlier in the 10 samples"
   ]
  },
  {
   "cell_type": "code",
   "execution_count": 34,
   "metadata": {},
   "outputs": [],
   "source": [
    "combined_df_grouped = combined_df.groupby(combined_df['ChargenNr'])\n",
    "combined_df_min = combined_df_grouped[GiessLaengeSchmelzeInM].min().to_frame()\n",
    "laengeSchmelze_min = GiessLaengeSchmelzeInM + '_min'\n",
    "combined_df_min = combined_df_min.rename(columns={GiessLaengeSchmelzeInM: laengeSchmelze_min})\n",
    "combined_df_min = combined_df_min.reset_index(drop=False)\n",
    "\n",
    "s = combined_df_min[combined_df_min[laengeSchmelze_min]>10]\n",
    "s = s['ChargenNr'].to_numpy()\n",
    "schmelzen_drop = np.append(schmelzen_drop,s)"
   ]
  },
  {
   "cell_type": "markdown",
   "metadata": {},
   "source": [
    "#### identify the sequences of schmelzen_drop"
   ]
  },
  {
   "cell_type": "code",
   "execution_count": 35,
   "metadata": {},
   "outputs": [
    {
     "data": {
      "text/plain": [
       "Series([], Name: ChargenNrErsteSchmInSeq, dtype: int64)"
      ]
     },
     "execution_count": 35,
     "metadata": {},
     "output_type": "execute_result"
    }
   ],
   "source": [
    "schmelzen = combined_df.copy()\n",
    "schmelzen = schmelzen.set_index('ChargenNr',drop=True)\n",
    "\n",
    "seq_drop = schmelzen.loc[schmelzen_drop]\n",
    "\n",
    "seq_drop = seq_drop['ChargenNrErsteSchmInSeq']\n",
    "seq_drop = seq_drop.drop_duplicates(keep='first')\n",
    "seq_drop = seq_drop.reset_index(drop=True)\n",
    "seq_drop"
   ]
  },
  {
   "cell_type": "markdown",
   "metadata": {},
   "source": [
    "#### delete sequences with outliers"
   ]
  },
  {
   "cell_type": "code",
   "execution_count": 36,
   "metadata": {},
   "outputs": [],
   "source": [
    "combined_df = combined_df.set_index(combined_df['ChargenNrErsteSchmInSeq'],drop=True)\n",
    "df_str_2 = combined_df.drop(seq_drop, axis=0)\n",
    "df_str_2 = df_str_2.reset_index(drop=True)"
   ]
  },
  {
   "cell_type": "markdown",
   "metadata": {},
   "source": [
    "### Rename columns"
   ]
  },
  {
   "cell_type": "code",
   "execution_count": 37,
   "metadata": {},
   "outputs": [],
   "source": [
    "df_str_2['strang_nr'] = 2\n",
    "df_str_2 = df_str_2.sort_values(\"TIME\")\n",
    "df_str_2 = df_str_2.reset_index(drop=True)\n",
    "\n",
    "df_str_2.rename(columns={'delta_x':'GiessLaengeSchmelzeInM_delta', 'delta_y':'GiessLaengeSequenzInM_delta',\n",
    "             'delta':'AusfLaengeSchmelzeInM_delta'}, inplace=True)\n",
    "\n",
    "df_str_2.columns = df_str_2.columns.str.replace('Str2', '') \n",
    "\n",
    "df_str_2 = df_str_2.reset_index(drop=True)"
   ]
  },
  {
   "cell_type": "markdown",
   "metadata": {},
   "source": [
    "## Combinde DataFrames"
   ]
  },
  {
   "cell_type": "markdown",
   "metadata": {},
   "source": [
    "### Concat DataFrames"
   ]
  },
  {
   "cell_type": "code",
   "execution_count": 38,
   "metadata": {},
   "outputs": [],
   "source": [
    "cc4_data = pd.concat([df_str_1,df_str_2],axis=0)\n",
    "cc4_data = cc4_data.reset_index(drop=True)"
   ]
  },
  {
   "cell_type": "markdown",
   "metadata": {},
   "source": [
    "### Put for each sequences data for strang1 and strang2 togehther"
   ]
  },
  {
   "cell_type": "code",
   "execution_count": 39,
   "metadata": {},
   "outputs": [],
   "source": [
    "strang_data = pd.DataFrame()\n",
    "grouped_seq = cc4_data.groupby('ChargenNrErsteSchmInSeq')\n",
    "for seq_name, seq_group in grouped_seq:\n",
    "    grouped_str = seq_group.groupby('strang_nr')\n",
    "    for str_name, str_group in grouped_str:\n",
    "        str_gr = str_group.sort_values(\"TIME\")\n",
    "        strang_data= pd.concat([strang_data,str_gr], axis=0)"
   ]
  },
  {
   "cell_type": "markdown",
   "metadata": {},
   "source": [
    "#### new column with sequences number and strand number"
   ]
  },
  {
   "cell_type": "code",
   "execution_count": 40,
   "metadata": {},
   "outputs": [],
   "source": [
    "def seq_and_str_nr(row):\n",
    "    row['seq_id'] = str(row['ChargenNrErsteSchmInSeq']) + '_str_' + str(row['strang_nr'])\n",
    "    return row\n",
    "\n",
    "strang_data = strang_data.apply(seq_and_str_nr, axis=1)\n",
    "strang_data = strang_data.reset_index(drop=True)"
   ]
  },
  {
   "cell_type": "markdown",
   "metadata": {},
   "source": [
    "## Ende Data when last Melt has passed Pyrometer"
   ]
  },
  {
   "cell_type": "code",
   "execution_count": 41,
   "metadata": {},
   "outputs": [],
   "source": [
    "grouped_end = strang_data.groupby('seq_id')\n",
    "str_data = {}\n",
    "strang_data = pd.DataFrame()\n",
    "length_cc4 = 15.42\n",
    "for name, group in grouped_end:\n",
    "    sequ_max = group['GiessLaengeSequenzInM'].max()\n",
    "    ausför_max = group['AusfLaengeSchmelzeInM'].max()\n",
    "    str_data[name] = group[(group['GiessLaengeSequenzInM'] <= sequ_max-ausför_max+length_cc4)]    #last melt has reached pyrometer         \n",
    "    strang_data = pd.concat([strang_data,str_data[name]], axis=0)"
   ]
  },
  {
   "cell_type": "markdown",
   "metadata": {},
   "source": [
    "### One-Hot encoding for Format"
   ]
  },
  {
   "cell_type": "code",
   "execution_count": 42,
   "metadata": {},
   "outputs": [],
   "source": [
    "formats = np.array(strang_data['Format'])\n",
    "format_endocer = OneHotEncoder()\n",
    "format_1hot = format_endocer.fit_transform(formats.reshape(-1, 1))\n",
    "df_format = pd.DataFrame(format_1hot.toarray(), columns=format_endocer.get_feature_names())\n",
    "df_format.rename(columns={'x0_1825':'Format_1825', 'x0_2230':'Format_2230', 'x0_2234':'Format_2234', 'x0_2235':'Format_2235' }, inplace=True)\n",
    "\n",
    "strang_data = pd.concat((strang_data, df_format), axis=1)"
   ]
  },
  {
   "cell_type": "markdown",
   "metadata": {},
   "source": [
    "### Save data (already saved)"
   ]
  },
  {
   "cell_type": "code",
   "execution_count": 43,
   "metadata": {},
   "outputs": [],
   "source": [
    "#strang_data.to_csv(\"/../data/ts_data/ts_data.csv\", index=False)"
   ]
  },
  {
   "cell_type": "markdown",
   "metadata": {},
   "source": [
    "### Data Exploration"
   ]
  },
  {
   "cell_type": "code",
   "execution_count": 44,
   "metadata": {},
   "outputs": [],
   "source": [
    "sns.set_style(\"white\")"
   ]
  },
  {
   "cell_type": "markdown",
   "metadata": {},
   "source": [
    "### Cross Section Data"
   ]
  },
  {
   "cell_type": "code",
   "execution_count": 45,
   "metadata": {},
   "outputs": [],
   "source": [
    "cross_section_attr = ['ChargenNr', 'ChargenNrErsteSchmInSeq', 'GiessBeginnSchmelze',\n",
    "       'GiessBeginn_DateTime', 'GiessEndeSchmelze', 'GiessEnde_DateTime',\n",
    "       'NrSchmelzeInSequenz', 'LiquidusTempInC', 'SolidusTempInC',\n",
    "       'UeberhitzungMittelInK', 'ZielTempTreiberInC',\n",
    "       'SollGiessGeschwInMproMin','Format_2235',\n",
    "       'C-Aequiv01', 'C-Aequiv02', 'C-AequivP', 'seq_id', 'TempMittelLsInC', 'TempMittelFsInC']\n",
    "\n",
    "cross_section_data = strang_data[cross_section_attr]\n",
    "\n",
    "cross_section_data = cross_section_data.drop_duplicates(subset=['seq_id'], keep='first')"
   ]
  },
  {
   "cell_type": "code",
   "execution_count": 46,
   "metadata": {},
   "outputs": [],
   "source": [
    "keys_test = ['TundishTemperaturInC', 'TIME', 'TempMittelLsInC',\n",
    "       'TempMittelFsInC', \n",
    "      'WasserZ4FsInLproMin_integr',\n",
    "        'WasserZ4LsInLproMin_integr',\n",
    "      'WasserZ2bFsInLproMin_integr',\n",
    "       'WasserZ2bLsInLproMin_integr',\n",
    "        'WasserZ3bFsInLproMin_integr',\n",
    "       'WasserZ1FsInLproMin_integr',\n",
    "       'WasserZ3bLsInLproMin_integr',\n",
    "        'WasserZ1LsInLproMin_integr',\n",
    "       'WasserZ3aFsInLproMin_integr',\n",
    "        'WasserZ3aLsInLproMin_integr',\n",
    "       'WasserZ2aLsInLproMin_integr',\n",
    "       'WasserZ2aFsInLproMin_integr',\n",
    "       'WasserZ5LsInLproMin_integr',\n",
    "       'WasserZ5FsInLproMin_integr',\n",
    "       'GiessLaengeSchmelzeInM', 'GiessLaengeSequenzInM',\n",
    "       'AusfLaengeSchmelzeInM', 'GiessGeschwInMproMin',\n",
    "       'ChargenNr', 'ChargenNrErsteSchmInSeq',\n",
    "       'GiessBeginnSchmelze',  'GiessEndeSchmelze',\n",
    "    \n",
    "       'NrSchmelzeInSequenz', 'LiquidusTempInC', 'SolidusTempInC',\n",
    "       'UeberhitzungMittelInK', 'ZielTempTreiberInC',\n",
    "       'SollGiessGeschwInMproMin', 'Format', 'C-Aequiv01', 'C-Aequiv02',\n",
    "       'C-AequivP', 'GiessLaengeSequenzInM_delta',\n",
    "       'AusfLaengeSchmelzeInM_delta', 'GiessLaengeSchmelzeInM_delta',\n",
    "        ]"
   ]
  },
  {
   "cell_type": "code",
   "execution_count": 47,
   "metadata": {},
   "outputs": [],
   "source": [
    "seq_ids = strang_data.groupby('ChargenNr')\n",
    "seq_id_test_data = list(seq_ids.groups.keys())"
   ]
  },
  {
   "cell_type": "code",
   "execution_count": 48,
   "metadata": {},
   "outputs": [],
   "source": [
    "numerical_attributes = [  'TempMittelLsInC',\n",
    "        'TempMittelFsInC', 'ZielTempTreiberInC',\n",
    "                        'TundishTemperaturInC',\n",
    "                           'WasserZ1LsInLproMin_integr',\n",
    "     \n",
    "                           'WasserZ1FsInLproMin_integr',\n",
    "        'WasserZ2aLsInLproMin_integr',\n",
    "       'WasserZ2aFsInLproMin_integr',\n",
    "      'WasserZ2bFsInLproMin_integr',\n",
    "      'WasserZ2bLsInLproMin_integr',\n",
    "     'WasserZ3aFsInLproMin_integr',\n",
    "   \n",
    "       'WasserZ3aLsInLproMin_integr',\n",
    "                          'WasserZ3bFsInLproMin_integr',\n",
    "                        'WasserZ3bLsInLproMin_integr',\n",
    "                        'WasserZ4FsInLproMin_integr',\n",
    "       'WasserZ4LsInLproMin_integr',\n",
    "      'WasserZ5LsInLproMin_integr',\n",
    "       'WasserZ5FsInLproMin_integr',\n",
    "      \n",
    "       'GiessLaengeSchmelzeInM', 'GiessLaengeSequenzInM',\n",
    "       'AusfLaengeSchmelzeInM', 'GiessGeschwInMproMin',\n",
    "        'LiquidusTempInC', 'SolidusTempInC',\n",
    "       'UeberhitzungMittelInK', \n",
    "       'SollGiessGeschwInMproMin',  'C-Aequiv01', 'C-Aequiv02',\n",
    "       'C-AequivP', \n",
    "       ]"
   ]
  },
  {
   "cell_type": "code",
   "execution_count": 49,
   "metadata": {},
   "outputs": [
    {
     "data": {
      "text/html": [
       "<div>\n",
       "<style scoped>\n",
       "    .dataframe tbody tr th:only-of-type {\n",
       "        vertical-align: middle;\n",
       "    }\n",
       "\n",
       "    .dataframe tbody tr th {\n",
       "        vertical-align: top;\n",
       "    }\n",
       "\n",
       "    .dataframe thead th {\n",
       "        text-align: right;\n",
       "    }\n",
       "</style>\n",
       "<table border=\"1\" class=\"dataframe\">\n",
       "  <thead>\n",
       "    <tr style=\"text-align: right;\">\n",
       "      <th></th>\n",
       "      <th>TempMittelLsInC</th>\n",
       "      <th>TempMittelFsInC</th>\n",
       "    </tr>\n",
       "  </thead>\n",
       "  <tbody>\n",
       "    <tr>\n",
       "      <th>count</th>\n",
       "      <td>20.000000</td>\n",
       "      <td>20.000000</td>\n",
       "    </tr>\n",
       "    <tr>\n",
       "      <th>mean</th>\n",
       "      <td>767.602249</td>\n",
       "      <td>769.613149</td>\n",
       "    </tr>\n",
       "    <tr>\n",
       "      <th>std</th>\n",
       "      <td>8.110898</td>\n",
       "      <td>9.450039</td>\n",
       "    </tr>\n",
       "    <tr>\n",
       "      <th>min</th>\n",
       "      <td>755.942857</td>\n",
       "      <td>742.784615</td>\n",
       "    </tr>\n",
       "    <tr>\n",
       "      <th>25%</th>\n",
       "      <td>762.284768</td>\n",
       "      <td>769.362109</td>\n",
       "    </tr>\n",
       "    <tr>\n",
       "      <th>50%</th>\n",
       "      <td>762.756623</td>\n",
       "      <td>772.302083</td>\n",
       "    </tr>\n",
       "    <tr>\n",
       "      <th>75%</th>\n",
       "      <td>774.739362</td>\n",
       "      <td>775.503371</td>\n",
       "    </tr>\n",
       "    <tr>\n",
       "      <th>max</th>\n",
       "      <td>783.464342</td>\n",
       "      <td>780.477284</td>\n",
       "    </tr>\n",
       "  </tbody>\n",
       "</table>\n",
       "</div>"
      ],
      "text/plain": [
       "       TempMittelLsInC  TempMittelFsInC\n",
       "count        20.000000        20.000000\n",
       "mean        767.602249       769.613149\n",
       "std           8.110898         9.450039\n",
       "min         755.942857       742.784615\n",
       "25%         762.284768       769.362109\n",
       "50%         762.756623       772.302083\n",
       "75%         774.739362       775.503371\n",
       "max         783.464342       780.477284"
      ]
     },
     "execution_count": 49,
     "metadata": {},
     "output_type": "execute_result"
    }
   ],
   "source": [
    "strang_data[['TempMittelLsInC','TempMittelFsInC']].describe()"
   ]
  },
  {
   "cell_type": "code",
   "execution_count": 50,
   "metadata": {
    "scrolled": false
   },
   "outputs": [
    {
     "data": {
      "text/plain": [
       "(array([ 0.,  2.,  4.,  6.,  8., 10., 12.]),\n",
       " [Text(0, 0, ''),\n",
       "  Text(0, 0, ''),\n",
       "  Text(0, 0, ''),\n",
       "  Text(0, 0, ''),\n",
       "  Text(0, 0, ''),\n",
       "  Text(0, 0, ''),\n",
       "  Text(0, 0, '')])"
      ]
     },
     "execution_count": 50,
     "metadata": {},
     "output_type": "execute_result"
    },
    {
     "data": {
      "image/png": "[encoded data removed]",
      "text/plain": [
       "<Figure size 432x360 with 1 Axes>"
      ]
     },
     "metadata": {},
     "output_type": "display_data"
    }
   ],
   "source": [
    "sns.set_style(\"white\")\n",
    "fig, ax1 = plt.subplots(1, 1, figsize=(6, 5),  sharex=True)\n",
    "#fig.suptitle('Distributions of Model Target Temperatures')\n",
    "sns.histplot(ax=ax1, data=strang_data, x='TempMittelLsInC', kde=True,color=sns.color_palette()[0] )\n",
    "ax1.set(xticks=[]) \n",
    "ax1.set_xlabel('Temperature [°C]', fontsize=15)\n",
    "ax1.set_ylabel('Count', fontsize=15)\n",
    "ax1.xaxis.grid(False)\n",
    "ax1.yaxis.grid(True)\n",
    "plt.yticks(fontsize=13)\n"
   ]
  },
  {
   "cell_type": "code",
   "execution_count": 51,
   "metadata": {
    "scrolled": true
   },
   "outputs": [
    {
     "data": {
      "text/plain": [
       "(array([0., 1., 2., 3., 4., 5., 6., 7., 8.]),\n",
       " [Text(0, 0, ''),\n",
       "  Text(0, 0, ''),\n",
       "  Text(0, 0, ''),\n",
       "  Text(0, 0, ''),\n",
       "  Text(0, 0, ''),\n",
       "  Text(0, 0, ''),\n",
       "  Text(0, 0, ''),\n",
       "  Text(0, 0, ''),\n",
       "  Text(0, 0, '')])"
      ]
     },
     "execution_count": 51,
     "metadata": {},
     "output_type": "execute_result"
    },
    {
     "data": {
      "image/png": "[encoded data removed]",
      "text/plain": [
       "<Figure size 432x360 with 1 Axes>"
      ]
     },
     "metadata": {},
     "output_type": "display_data"
    }
   ],
   "source": [
    "fig, ax1 = plt.subplots(1, 1, figsize=(6, 5),  sharex=True)\n",
    "#fig.suptitle('Distributions of Model Target Temperatures')\n",
    "\n",
    "sns.histplot(ax=ax1, data=strang_data, x='TempMittelFsInC', kde=True, color=sns.color_palette()[0] )\n",
    "ax1.set(xticks=[]) \n",
    "ax1.set_xlabel('Temperature [°C]', fontsize=15)\n",
    "ax1.set_ylabel('Count', fontsize=15)\n",
    "ax1.xaxis.grid(False)\n",
    "ax1.yaxis.grid(True)\n",
    "plt.yticks(fontsize=13)\n"
   ]
  },
  {
   "cell_type": "code",
   "execution_count": 52,
   "metadata": {
    "scrolled": true
   },
   "outputs": [
    {
     "data": {
      "text/plain": [
       "(array([-2.5, -2. , -1.5, -1. , -0.5,  0. ,  0.5,  1. ,  1.5,  2. ,  2.5]),\n",
       " [Text(0, 0, ''),\n",
       "  Text(0, 0, ''),\n",
       "  Text(0, 0, ''),\n",
       "  Text(0, 0, ''),\n",
       "  Text(0, 0, ''),\n",
       "  Text(0, 0, ''),\n",
       "  Text(0, 0, ''),\n",
       "  Text(0, 0, ''),\n",
       "  Text(0, 0, ''),\n",
       "  Text(0, 0, ''),\n",
       "  Text(0, 0, '')])"
      ]
     },
     "execution_count": 52,
     "metadata": {},
     "output_type": "execute_result"
    },
    {
     "data": {
      "image/png": "[encoded data removed]",
      "text/plain": [
       "<Figure size 432x360 with 1 Axes>"
      ]
     },
     "metadata": {},
     "output_type": "display_data"
    }
   ],
   "source": [
    "fig, ax1 = plt.subplots(1,  figsize=(6, 5),  sharex=True)\n",
    "res = stats.probplot(strang_data['TempMittelFsInC'], plot=plt)\n",
    "ax1.xaxis.grid(True)\n",
    "ax1.yaxis.grid(False)\n",
    "ax1.set(yticks=[]) \n",
    "ax1.set_title('')\n",
    "ax1.get_lines()[0].set_color(color=sns.color_palette()[0])\n",
    "ax1.set_xlabel('Theoretical Quantiles', fontsize=15)\n",
    "ax1.set_ylabel('Ordered Values', fontsize=15)\n",
    "plt.yticks(fontsize=13)\n",
    "plt.xticks(fontsize=13)\n"
   ]
  },
  {
   "cell_type": "code",
   "execution_count": 53,
   "metadata": {
    "scrolled": true
   },
   "outputs": [
    {
     "data": {
      "text/plain": [
       "(array([-2.5, -2. , -1.5, -1. , -0.5,  0. ,  0.5,  1. ,  1.5,  2. ,  2.5]),\n",
       " [Text(0, 0, ''),\n",
       "  Text(0, 0, ''),\n",
       "  Text(0, 0, ''),\n",
       "  Text(0, 0, ''),\n",
       "  Text(0, 0, ''),\n",
       "  Text(0, 0, ''),\n",
       "  Text(0, 0, ''),\n",
       "  Text(0, 0, ''),\n",
       "  Text(0, 0, ''),\n",
       "  Text(0, 0, ''),\n",
       "  Text(0, 0, '')])"
      ]
     },
     "execution_count": 53,
     "metadata": {},
     "output_type": "execute_result"
    },
    {
     "data": {
      "image/png": "[encoded data removed]",
      "text/plain": [
       "<Figure size 432x360 with 1 Axes>"
      ]
     },
     "metadata": {},
     "output_type": "display_data"
    }
   ],
   "source": [
    "fig, ax1 = plt.subplots(1,  figsize=(6, 5),  sharex=True)\n",
    "res = stats.probplot(strang_data['TempMittelLsInC'], plot=plt)\n",
    "ax1.xaxis.grid(True)\n",
    "ax1.yaxis.grid(False)\n",
    "ax1.set(yticks=[]) \n",
    "ax1.set_title('')\n",
    "ax1.get_lines()[0].set_color(color=sns.color_palette()[0])\n",
    "ax1.set_xlabel('Theoretical Quantiles', fontsize=15)\n",
    "ax1.set_ylabel('Ordered Values', fontsize=15)\n",
    "plt.yticks(fontsize=13)\n",
    "plt.xticks(fontsize=13)\n"
   ]
  },
  {
   "cell_type": "code",
   "execution_count": 54,
   "metadata": {},
   "outputs": [
    {
     "data": {
      "text/plain": [
       "([<matplotlib.axis.XTick at 0x1f86f9af7f0>,\n",
       "  <matplotlib.axis.XTick at 0x1f86f9af7c0>],\n",
       " [Text(0, 0, 'Temperature of Loose Side'),\n",
       "  Text(1, 0, 'Temperature of Fixed Side')])"
      ]
     },
     "execution_count": 54,
     "metadata": {},
     "output_type": "execute_result"
    },
    {
     "data": {
      "image/png": "[encoded data removed]",
      "text/plain": [
       "<Figure size 576x360 with 1 Axes>"
      ]
     },
     "metadata": {},
     "output_type": "display_data"
    }
   ],
   "source": [
    "fig, ax1 = plt.subplots(1,  figsize=(8, 5),  sharex=True)\n",
    "data = strang_data.copy()\n",
    "data.rename(columns={'TempMittelLsInC':'Temperature of Loose Side',\n",
    "                                   'TempMittelFsInC':'Temperature of Fixed Side' },\n",
    "                  inplace=True),\n",
    "sns.boxplot(data=data,\n",
    "            order=['Temperature of Loose Side','Temperature of Fixed Side'], ax=ax1, color=sns.color_palette()[0] )\n",
    "ax1.set_ylabel('Temperature [°C]', fontsize=15)\n",
    "ax1.set(yticks=[]) \n",
    "plt.xticks([0, 1], ['Temperature of Loose Side', 'Temperature of Fixed Side'], fontsize=15 )\n"
   ]
  },
  {
   "cell_type": "code",
   "execution_count": 55,
   "metadata": {
    "scrolled": false
   },
   "outputs": [
    {
     "data": {
      "text/plain": [
       "(array([0.84, 0.86, 0.88, 0.9 , 0.92, 0.94, 0.96, 0.98, 1.  , 1.02]),\n",
       " [Text(0, 0, ''),\n",
       "  Text(0, 0, ''),\n",
       "  Text(0, 0, ''),\n",
       "  Text(0, 0, ''),\n",
       "  Text(0, 0, ''),\n",
       "  Text(0, 0, ''),\n",
       "  Text(0, 0, ''),\n",
       "  Text(0, 0, ''),\n",
       "  Text(0, 0, ''),\n",
       "  Text(0, 0, '')])"
      ]
     },
     "execution_count": 55,
     "metadata": {},
     "output_type": "execute_result"
    },
    {
     "data": {
      "image/png": "[encoded data removed]",
      "text/plain": [
       "<Figure size 432x360 with 1 Axes>"
      ]
     },
     "metadata": {},
     "output_type": "display_data"
    }
   ],
   "source": [
    "grouped_end = strang_data.groupby('seq_id')\n",
    "str_data = {}\n",
    "strang_data_test = pd.DataFrame()\n",
    "length_cc4 = 15.42\n",
    "for name, group in grouped_end:\n",
    "    group['max_seq_length'] = group['GiessLaengeSequenzInM'].max()\n",
    "    str_data[name] = group.copy()      \n",
    "    strang_data_test = pd.concat([strang_data_test,str_data[name]], axis=0)\n",
    "\n",
    "strang_data_test['rel_seq_len'] =  strang_data_test['GiessLaengeSequenzInM'] / strang_data_test['max_seq_length'] \n",
    "\n",
    "var = 'rel_seq_len'\n",
    "fig, ax1 = plt.subplots(1, 1, figsize=(6, 5),  sharex=True)\n",
    "sns.scatterplot(data=strang_data_test,\n",
    "                y='TempMittelLsInC', x=var, ax=ax1, s=10, color=sns.color_palette()[0])\n",
    "ax1.axhline(650, ls='--', color='black', alpha=0.7)\n",
    "ax1.axhline(765, ls='--', color='black',alpha=0.7)\n",
    "ax1.set_xlabel('Relative Sequence  Length', fontsize=15)\n",
    "ax1.set_ylabel('Temperature [°C]', fontsize=15)\n",
    "ax1.set(yticks=[]) \n",
    "plt.yticks(fontsize=13)\n",
    "plt.xticks(fontsize=13)"
   ]
  },
  {
   "cell_type": "code",
   "execution_count": 56,
   "metadata": {},
   "outputs": [
    {
     "data": {
      "text/plain": [
       "(array([0.84, 0.86, 0.88, 0.9 , 0.92, 0.94, 0.96, 0.98, 1.  , 1.02]),\n",
       " [Text(0, 0, ''),\n",
       "  Text(0, 0, ''),\n",
       "  Text(0, 0, ''),\n",
       "  Text(0, 0, ''),\n",
       "  Text(0, 0, ''),\n",
       "  Text(0, 0, ''),\n",
       "  Text(0, 0, ''),\n",
       "  Text(0, 0, ''),\n",
       "  Text(0, 0, ''),\n",
       "  Text(0, 0, '')])"
      ]
     },
     "execution_count": 56,
     "metadata": {},
     "output_type": "execute_result"
    },
    {
     "data": {
      "image/png": "[encoded data removed]",
      "text/plain": [
       "<Figure size 432x360 with 1 Axes>"
      ]
     },
     "metadata": {},
     "output_type": "display_data"
    }
   ],
   "source": [
    "grouped_end = strang_data.groupby('seq_id')\n",
    "str_data = {}\n",
    "strang_data_test = pd.DataFrame()\n",
    "length_cc4 = 15.42\n",
    "for name, group in grouped_end:\n",
    "    group['max_seq_length'] = group['GiessLaengeSequenzInM'].max()\n",
    "    str_data[name] = group.copy()      \n",
    "    strang_data_test = pd.concat([strang_data_test,str_data[name]], axis=0)\n",
    "\n",
    "strang_data_test['rel_seq_len'] =  strang_data_test['GiessLaengeSequenzInM'] / strang_data_test['max_seq_length'] \n",
    "\n",
    "var = 'rel_seq_len'\n",
    "fig, ax1 = plt.subplots(1, 1, figsize=(6, 5),  sharex=True)\n",
    "sns.scatterplot(data=strang_data_test,\n",
    "                y='TempMittelLsInC', x=var, ax=ax1, s=10, color=sns.color_palette()[0])\n",
    "ax1.axhline(650, ls='--', color='black', alpha=0.7)\n",
    "ax1.axhline(765, ls='--', color='black',alpha=0.7)\n",
    "ax1.set_xlabel('Relative Sequence  Length', fontsize=15)\n",
    "ax1.set_ylabel('Temperature [°C]', fontsize=15)\n",
    "ax1.set(yticks=[]) \n",
    "plt.yticks(fontsize=13)\n",
    "plt.xticks(fontsize=13)\n",
    "\n"
   ]
  },
  {
   "cell_type": "code",
   "execution_count": 57,
   "metadata": {
    "scrolled": true
   },
   "outputs": [
    {
     "data": {
      "text/plain": [
       "(array([0.84, 0.86, 0.88, 0.9 , 0.92, 0.94, 0.96, 0.98, 1.  , 1.02]),\n",
       " [Text(0, 0, ''),\n",
       "  Text(0, 0, ''),\n",
       "  Text(0, 0, ''),\n",
       "  Text(0, 0, ''),\n",
       "  Text(0, 0, ''),\n",
       "  Text(0, 0, ''),\n",
       "  Text(0, 0, ''),\n",
       "  Text(0, 0, ''),\n",
       "  Text(0, 0, ''),\n",
       "  Text(0, 0, '')])"
      ]
     },
     "execution_count": 57,
     "metadata": {},
     "output_type": "execute_result"
    },
    {
     "data": {
      "image/png": "[encoded data removed]",
      "text/plain": [
       "<Figure size 432x360 with 1 Axes>"
      ]
     },
     "metadata": {},
     "output_type": "display_data"
    }
   ],
   "source": [
    "var = 'rel_seq_len'\n",
    "fig, ax1 = plt.subplots(1, 1, figsize=(6, 5),  sharex=True)\n",
    "sns.scatterplot(data=strang_data_test,\n",
    "                y='TempMittelFsInC', x=var, ax=ax1,s=10, color=sns.color_palette()[0])\n",
    "ax1.axhline(652, ls='--', color='black', alpha=0.7)\n",
    "ax1.axhline(757, ls='--', color='black',alpha=0.7)\n",
    "ax1.set_xlabel('Relative Sequence  Length', fontsize=15)\n",
    "ax1.set_ylabel('Temperature [°C]', fontsize=15)\n",
    "ax1.set(yticks=[]) \n",
    "plt.yticks(fontsize=13)\n",
    "plt.xticks(fontsize=13)"
   ]
  },
  {
   "cell_type": "code",
   "execution_count": 58,
   "metadata": {
    "scrolled": false
   },
   "outputs": [
    {
     "name": "stderr",
     "output_type": "stream",
     "text": [
      "C:\\Users\\Enrico\\AppData\\Roaming\\Python\\Python38\\site-packages\\pandas\\core\\frame.py:4438: SettingWithCopyWarning: \n",
      "A value is trying to be set on a copy of a slice from a DataFrame\n",
      "\n",
      "See the caveats in the documentation: https://pandas.pydata.org/pandas-docs/stable/user_guide/indexing.html#returning-a-view-versus-a-copy\n",
      "  return super().rename(\n"
     ]
    },
    {
     "data": {
      "text/plain": [
       "<function matplotlib.pyplot.tight_layout(*, pad=1.08, h_pad=None, w_pad=None, rect=None)>"
      ]
     },
     "execution_count": 58,
     "metadata": {},
     "output_type": "execute_result"
    },
    {
     "data": {
      "image/png": "[encoded data removed]",
      "text/plain": [
       "<Figure size 720x720 with 2 Axes>"
      ]
     },
     "metadata": {},
     "output_type": "display_data"
    }
   ],
   "source": [
    "#correlation matrix\n",
    "data = strang_data[numerical_attributes]\n",
    "data.rename(columns={'WasserZ1FsInLproMin_integr':'Z1_FS',\n",
    "                           'WasserZ1LsInLproMin_integr':'WasserZ1Ls',\n",
    "                           'WasserZ2aFsInLproMin_integr':'WasserZ2aFs',\n",
    "                           'WasserZ2aLsInLproMin_integr':'WasserZ2aLs',\n",
    "                           'WasserZ2bFsInLproMin_integr':'WasserZ2bFs',\n",
    "                           'WasserZ2bLsInLproMin_integr':'WasserZ2bLs',\n",
    "                           'WasserZ3aFsInLproMin_integr':'WasserZ3aFs',\n",
    "                           'WasserZ3aLsInLproMin_integr':'WasserZ3aLs',\n",
    "                           'WasserZ3bFsInLproMin_integr':'WasserZ3bFs',\n",
    "                           'WasserZ3bLsInLproMin_integr':'WasserZ3bLs',\n",
    "                           'WasserZ4FsInLproMin_integr':'WasserZ4Fs',\n",
    "                           'WasserZ4LsInLproMin_integr':'WasserZ4Ls',\n",
    "                           'WasserZ5FsInLproMin_integr':'WasserZ5Fs',\n",
    "                           'WasserZ5LsInLproMin_integr':'WasserZ5Ls',\n",
    "                          },\n",
    "                  inplace=True)\n",
    "\n",
    "\n",
    "\n",
    "corrmat = data.corr()\n",
    "\n",
    "f, ax = plt.subplots(figsize=(10, 10))\n",
    "sns.heatmap(corrmat, vmax=.5, square=True);\n",
    "plt.tight_layout"
   ]
  },
  {
   "cell_type": "code",
   "execution_count": 59,
   "metadata": {},
   "outputs": [],
   "source": [
    "water_keys =  ['WasserZ4FsInLproMin_integr',\n",
    " 'WasserZ4LsInLproMin_integr',\n",
    " 'WasserZ2bFsInLproMin_integr',\n",
    " 'WasserZ2bLsInLproMin_integr',\n",
    " 'WasserZ3bFsInLproMin_integr',\n",
    " 'WasserZ1FsInLproMin_integr',\n",
    " 'WasserZ3bLsInLproMin_integr',\n",
    " 'WasserZ1LsInLproMin_integr',\n",
    " 'WasserZ3aFsInLproMin_integr',\n",
    " 'WasserZ3aLsInLproMin_integr',\n",
    " 'WasserZ2aLsInLproMin_integr',\n",
    " 'WasserZ2aFsInLproMin_integr',\n",
    " 'WasserZ5LsInLproMin_integr',\n",
    " 'WasserZ5FsInLproMin_integr',\n",
    " ]\n",
    "\n",
    "water_data = strang_data[water_keys]\n",
    "water_data.rename(columns={'WasserZ1FsInLproMin_integr':'Z1_FS',\n",
    "                           'WasserZ1LsInLproMin_integr':'Z1_LS',\n",
    "                           'WasserZ2aFsInLproMin_integr':'Z2a_FS',\n",
    "                           'WasserZ2aLsInLproMin_integr':'Z2a_LS',\n",
    "                           'WasserZ2bFsInLproMin_integr':'Z2b_FS',\n",
    "                           'WasserZ2bLsInLproMin_integr':'Z2b_LS',\n",
    "                           'WasserZ3aFsInLproMin_integr':'Z3a_FS',\n",
    "                           'WasserZ3aLsInLproMin_integr':'Z3a_LS',\n",
    "                           'WasserZ3bFsInLproMin_integr':'Z3b_FS',\n",
    "                           'WasserZ3bLsInLproMin_integr':'Z3b_LS',\n",
    "                           'WasserZ4FsInLproMin_integr':'Z4_FS',\n",
    "                           'WasserZ4LsInLproMin_integr':'Z4_LS',\n",
    "                           'WasserZ5FsInLproMin_integr':'Z5_FS',\n",
    "                           'WasserZ5LsInLproMin_integr':'Z5_LS',\n",
    "                          },\n",
    "                  inplace=True)"
   ]
  },
  {
   "cell_type": "code",
   "execution_count": 60,
   "metadata": {},
   "outputs": [
    {
     "data": {
      "text/plain": [
       "(array([ 0,  1,  2,  3,  4,  5,  6,  7,  8,  9, 10, 11, 12, 13]),\n",
       " [Text(0, 0, 'Z4_FS'),\n",
       "  Text(1, 0, 'Z4_LS'),\n",
       "  Text(2, 0, 'Z2b_FS'),\n",
       "  Text(3, 0, 'Z2b_LS'),\n",
       "  Text(4, 0, 'Z3b_FS'),\n",
       "  Text(5, 0, 'Z1_FS'),\n",
       "  Text(6, 0, 'Z3b_LS'),\n",
       "  Text(7, 0, 'Z1_LS'),\n",
       "  Text(8, 0, 'Z3a_FS'),\n",
       "  Text(9, 0, 'Z3a_LS'),\n",
       "  Text(10, 0, 'Z2a_LS'),\n",
       "  Text(11, 0, 'Z2a_FS'),\n",
       "  Text(12, 0, 'Z5_LS'),\n",
       "  Text(13, 0, 'Z5_FS')])"
      ]
     },
     "execution_count": 60,
     "metadata": {},
     "output_type": "execute_result"
    },
    {
     "data": {
      "image/png": "[encoded data removed]",
      "text/plain": [
       "<Figure size 864x360 with 1 Axes>"
      ]
     },
     "metadata": {},
     "output_type": "display_data"
    }
   ],
   "source": [
    "fig, ax1 = plt.subplots(1, 1, figsize=(12, 5),  sharex=True)\n",
    "sns.boxplot(data=water_data, color=sns.color_palette()[0], ax=ax1)\n",
    "ax1.set_xlabel('Cooling Zones', fontsize=15)\n",
    "ax1.set_ylabel('Cooling Water [l]', fontsize=15)\n",
    "ax1.set(yticks=[]) \n",
    "plt.yticks(fontsize=13)\n",
    "plt.xticks(fontsize=13)"
   ]
  },
  {
   "cell_type": "markdown",
   "metadata": {},
   "source": [
    "### Look at single sequences"
   ]
  },
  {
   "cell_type": "code",
   "execution_count": 61,
   "metadata": {},
   "outputs": [
    {
     "data": {
      "text/html": [
       "<div>\n",
       "<style scoped>\n",
       "    .dataframe tbody tr th:only-of-type {\n",
       "        vertical-align: middle;\n",
       "    }\n",
       "\n",
       "    .dataframe tbody tr th {\n",
       "        vertical-align: top;\n",
       "    }\n",
       "\n",
       "    .dataframe thead th {\n",
       "        text-align: right;\n",
       "    }\n",
       "</style>\n",
       "<table border=\"1\" class=\"dataframe\">\n",
       "  <thead>\n",
       "    <tr style=\"text-align: right;\">\n",
       "      <th></th>\n",
       "      <th>DATE_TIME</th>\n",
       "      <th>TundishTemperaturInC</th>\n",
       "      <th>TIME</th>\n",
       "      <th>TempMittelLsInC</th>\n",
       "      <th>TempMittelLsInC_old</th>\n",
       "      <th>TempMittelFsInC</th>\n",
       "      <th>TempMittelFsInC_old</th>\n",
       "      <th>WasserZ4FsInLproMin</th>\n",
       "      <th>WasserZ4FsInLproMin_integr</th>\n",
       "      <th>WasserZ4LsInLproMin</th>\n",
       "      <th>WasserZ4LsInLproMin_integr</th>\n",
       "      <th>WasserZ2bFsInLproMin</th>\n",
       "      <th>WasserZ2bFsInLproMin_integr</th>\n",
       "      <th>WasserZ2bLsInLproMin</th>\n",
       "      <th>WasserZ2bLsInLproMin_integr</th>\n",
       "      <th>WasserZ3bFsInLproMin</th>\n",
       "      <th>WasserZ3bFsInLproMin_integr</th>\n",
       "      <th>WasserZ1FsInLproMin</th>\n",
       "      <th>WasserZ1FsInLproMin_integr</th>\n",
       "      <th>WasserZ3bLsInLproMin</th>\n",
       "      <th>WasserZ3bLsInLproMin_integr</th>\n",
       "      <th>WasserZ1LsInLproMin</th>\n",
       "      <th>WasserZ1LsInLproMin_integr</th>\n",
       "      <th>WasserZ3aFsInLproMin</th>\n",
       "      <th>WasserZ3aFsInLproMin_integr</th>\n",
       "      <th>WasserZ3aLsInLproMin</th>\n",
       "      <th>WasserZ3aLsInLproMin_integr</th>\n",
       "      <th>WasserZ2aLsInLproMin</th>\n",
       "      <th>WasserZ2aLsInLproMin_integr</th>\n",
       "      <th>WasserZ2aFsInLproMin</th>\n",
       "      <th>WasserZ2aFsInLproMin_integr</th>\n",
       "      <th>WasserZ5LsInLproMin</th>\n",
       "      <th>WasserZ5LsInLproMin_integr</th>\n",
       "      <th>WasserZ5FsInLproMin</th>\n",
       "      <th>WasserZ5FsInLproMin_integr</th>\n",
       "      <th>WasserZ1DiefflenInLproMin</th>\n",
       "      <th>WasserZ1DiefflenInLproMin_integr</th>\n",
       "      <th>WasserZ1DillingenInLproMin</th>\n",
       "      <th>WasserZ1DillingenInLproMin_integr</th>\n",
       "      <th>GiessLaengeSchmelzeInM</th>\n",
       "      <th>GiessLaengeSequenzInM</th>\n",
       "      <th>AusfLaengeSchmelzeInM</th>\n",
       "      <th>GiessGeschwInMproMin</th>\n",
       "      <th>GiessGeschwInMproMin_integr</th>\n",
       "      <th>ChargenNr</th>\n",
       "      <th>ChargenNrErsteSchmInSeq</th>\n",
       "      <th>GiessBeginnSchmelze</th>\n",
       "      <th>GiessBeginn_DateTime</th>\n",
       "      <th>GiessEndeSchmelze</th>\n",
       "      <th>GiessEnde_DateTime</th>\n",
       "      <th>EndeSchmelze</th>\n",
       "      <th>Ende_DateTime</th>\n",
       "      <th>NrSchmelzeInSequenz</th>\n",
       "      <th>LiquidusTempInC</th>\n",
       "      <th>SolidusTempInC</th>\n",
       "      <th>UeberhitzungMittelInK</th>\n",
       "      <th>ZielTempTreiberInC</th>\n",
       "      <th>SollGiessGeschwInMproMin</th>\n",
       "      <th>Format</th>\n",
       "      <th>C-Aequiv01</th>\n",
       "      <th>C-Aequiv02</th>\n",
       "      <th>C-AequivP</th>\n",
       "      <th>GiessLaengeSequenzInM_delta</th>\n",
       "      <th>AusfLaengeSchmelzeInM_delta</th>\n",
       "      <th>GiessLaengeSchmelzeInM_delta</th>\n",
       "      <th>strang_nr</th>\n",
       "      <th>seq_id</th>\n",
       "      <th>Format_2235</th>\n",
       "    </tr>\n",
       "  </thead>\n",
       "  <tbody>\n",
       "    <tr>\n",
       "      <th>0</th>\n",
       "      <td>2019-05-15 12:34:00+00:00</td>\n",
       "      <td>1578.0</td>\n",
       "      <td>1557923640</td>\n",
       "      <td>755.942857</td>\n",
       "      <td>757.871429</td>\n",
       "      <td>742.784615</td>\n",
       "      <td>744.861538</td>\n",
       "      <td>74.886566</td>\n",
       "      <td>74.886566</td>\n",
       "      <td>76.689434</td>\n",
       "      <td>76.665506</td>\n",
       "      <td>163.090939</td>\n",
       "      <td>163.051954</td>\n",
       "      <td>166.846600</td>\n",
       "      <td>166.991845</td>\n",
       "      <td>106.398389</td>\n",
       "      <td>104.909320</td>\n",
       "      <td>305.525558</td>\n",
       "      <td>308.814268</td>\n",
       "      <td>90.135542</td>\n",
       "      <td>89.911391</td>\n",
       "      <td>335.899460</td>\n",
       "      <td>339.779634</td>\n",
       "      <td>118.393186</td>\n",
       "      <td>118.368855</td>\n",
       "      <td>119.146644</td>\n",
       "      <td>119.130424</td>\n",
       "      <td>181.729786</td>\n",
       "      <td>178.693377</td>\n",
       "      <td>174.114357</td>\n",
       "      <td>172.980478</td>\n",
       "      <td>79.069299</td>\n",
       "      <td>78.958822</td>\n",
       "      <td>78.526595</td>\n",
       "      <td>78.460309</td>\n",
       "      <td>49.900090</td>\n",
       "      <td>49.844144</td>\n",
       "      <td>49.664922</td>\n",
       "      <td>49.407342</td>\n",
       "      <td>2.768705</td>\n",
       "      <td>16.633295</td>\n",
       "      <td>0.0</td>\n",
       "      <td>0.314564</td>\n",
       "      <td>0.315025</td>\n",
       "      <td>471720</td>\n",
       "      <td>471719</td>\n",
       "      <td>1.557923e+09</td>\n",
       "      <td>2019-05-15 12:25:25.250000+00:00</td>\n",
       "      <td>1.557926e+09</td>\n",
       "      <td>2019-05-15 13:18:27.960000038+00:00</td>\n",
       "      <td>1.557926e+09</td>\n",
       "      <td>2019-05-15 13:18:27.960000+00:00</td>\n",
       "      <td>2</td>\n",
       "      <td>1517.8</td>\n",
       "      <td>1469.713</td>\n",
       "      <td>39.2</td>\n",
       "      <td>720</td>\n",
       "      <td>0.315</td>\n",
       "      <td>2235</td>\n",
       "      <td>0.3245</td>\n",
       "      <td>0.33695</td>\n",
       "      <td>0.140286</td>\n",
       "      <td>0.315737</td>\n",
       "      <td>0.0</td>\n",
       "      <td>0.315148</td>\n",
       "      <td>1</td>\n",
       "      <td>471719_str_1</td>\n",
       "      <td>1.0</td>\n",
       "    </tr>\n",
       "    <tr>\n",
       "      <th>1</th>\n",
       "      <td>2019-05-15 12:35:00+00:00</td>\n",
       "      <td>1578.0</td>\n",
       "      <td>1557923700</td>\n",
       "      <td>761.562987</td>\n",
       "      <td>765.254545</td>\n",
       "      <td>750.493269</td>\n",
       "      <td>756.125000</td>\n",
       "      <td>74.886566</td>\n",
       "      <td>74.886566</td>\n",
       "      <td>76.737291</td>\n",
       "      <td>76.713363</td>\n",
       "      <td>163.270294</td>\n",
       "      <td>163.180617</td>\n",
       "      <td>167.006111</td>\n",
       "      <td>166.926356</td>\n",
       "      <td>103.217814</td>\n",
       "      <td>104.808102</td>\n",
       "      <td>312.551411</td>\n",
       "      <td>309.038485</td>\n",
       "      <td>89.441899</td>\n",
       "      <td>89.788720</td>\n",
       "      <td>345.500903</td>\n",
       "      <td>340.700182</td>\n",
       "      <td>118.441849</td>\n",
       "      <td>118.417518</td>\n",
       "      <td>119.179085</td>\n",
       "      <td>119.162865</td>\n",
       "      <td>171.071740</td>\n",
       "      <td>176.400763</td>\n",
       "      <td>171.861645</td>\n",
       "      <td>172.988001</td>\n",
       "      <td>79.290254</td>\n",
       "      <td>79.179776</td>\n",
       "      <td>84.656269</td>\n",
       "      <td>81.591432</td>\n",
       "      <td>50.011982</td>\n",
       "      <td>49.956036</td>\n",
       "      <td>50.180080</td>\n",
       "      <td>49.922501</td>\n",
       "      <td>3.083852</td>\n",
       "      <td>16.949032</td>\n",
       "      <td>0.0</td>\n",
       "      <td>0.314168</td>\n",
       "      <td>0.314366</td>\n",
       "      <td>471720</td>\n",
       "      <td>471719</td>\n",
       "      <td>1.557923e+09</td>\n",
       "      <td>2019-05-15 12:25:25.250000+00:00</td>\n",
       "      <td>1.557926e+09</td>\n",
       "      <td>2019-05-15 13:18:27.960000038+00:00</td>\n",
       "      <td>1.557926e+09</td>\n",
       "      <td>2019-05-15 13:18:27.960000+00:00</td>\n",
       "      <td>2</td>\n",
       "      <td>1517.8</td>\n",
       "      <td>1469.713</td>\n",
       "      <td>39.2</td>\n",
       "      <td>720</td>\n",
       "      <td>0.315</td>\n",
       "      <td>2235</td>\n",
       "      <td>0.3245</td>\n",
       "      <td>0.33695</td>\n",
       "      <td>0.140286</td>\n",
       "      <td>0.315737</td>\n",
       "      <td>0.0</td>\n",
       "      <td>0.315148</td>\n",
       "      <td>1</td>\n",
       "      <td>471719_str_1</td>\n",
       "      <td>1.0</td>\n",
       "    </tr>\n",
       "    <tr>\n",
       "      <th>2</th>\n",
       "      <td>2019-05-15 12:36:00+00:00</td>\n",
       "      <td>1578.0</td>\n",
       "      <td>1557923760</td>\n",
       "      <td>768.127273</td>\n",
       "      <td>771.000000</td>\n",
       "      <td>758.612500</td>\n",
       "      <td>761.100000</td>\n",
       "      <td>74.886566</td>\n",
       "      <td>74.886566</td>\n",
       "      <td>76.785148</td>\n",
       "      <td>76.761219</td>\n",
       "      <td>163.449650</td>\n",
       "      <td>163.359972</td>\n",
       "      <td>167.290090</td>\n",
       "      <td>167.148100</td>\n",
       "      <td>107.013481</td>\n",
       "      <td>105.115648</td>\n",
       "      <td>301.952163</td>\n",
       "      <td>307.251787</td>\n",
       "      <td>90.066398</td>\n",
       "      <td>89.754148</td>\n",
       "      <td>331.501435</td>\n",
       "      <td>338.501169</td>\n",
       "      <td>118.490511</td>\n",
       "      <td>118.466180</td>\n",
       "      <td>119.211527</td>\n",
       "      <td>119.195306</td>\n",
       "      <td>168.589164</td>\n",
       "      <td>169.830452</td>\n",
       "      <td>165.636417</td>\n",
       "      <td>168.749031</td>\n",
       "      <td>77.669412</td>\n",
       "      <td>78.479833</td>\n",
       "      <td>76.692354</td>\n",
       "      <td>80.674312</td>\n",
       "      <td>50.123874</td>\n",
       "      <td>50.067928</td>\n",
       "      <td>50.980903</td>\n",
       "      <td>50.580492</td>\n",
       "      <td>3.397459</td>\n",
       "      <td>17.263328</td>\n",
       "      <td>0.0</td>\n",
       "      <td>0.313426</td>\n",
       "      <td>0.313797</td>\n",
       "      <td>471720</td>\n",
       "      <td>471719</td>\n",
       "      <td>1.557923e+09</td>\n",
       "      <td>2019-05-15 12:25:25.250000+00:00</td>\n",
       "      <td>1.557926e+09</td>\n",
       "      <td>2019-05-15 13:18:27.960000038+00:00</td>\n",
       "      <td>1.557926e+09</td>\n",
       "      <td>2019-05-15 13:18:27.960000+00:00</td>\n",
       "      <td>2</td>\n",
       "      <td>1517.8</td>\n",
       "      <td>1469.713</td>\n",
       "      <td>39.2</td>\n",
       "      <td>720</td>\n",
       "      <td>0.315</td>\n",
       "      <td>2235</td>\n",
       "      <td>0.3245</td>\n",
       "      <td>0.33695</td>\n",
       "      <td>0.140286</td>\n",
       "      <td>0.314296</td>\n",
       "      <td>0.0</td>\n",
       "      <td>0.313607</td>\n",
       "      <td>1</td>\n",
       "      <td>471719_str_1</td>\n",
       "      <td>1.0</td>\n",
       "    </tr>\n",
       "    <tr>\n",
       "      <th>3</th>\n",
       "      <td>2019-05-15 12:37:00+00:00</td>\n",
       "      <td>1578.0</td>\n",
       "      <td>1557923820</td>\n",
       "      <td>772.271277</td>\n",
       "      <td>773.542553</td>\n",
       "      <td>762.600000</td>\n",
       "      <td>764.100000</td>\n",
       "      <td>74.886566</td>\n",
       "      <td>74.886566</td>\n",
       "      <td>76.833005</td>\n",
       "      <td>76.809076</td>\n",
       "      <td>163.629005</td>\n",
       "      <td>163.539328</td>\n",
       "      <td>167.574068</td>\n",
       "      <td>167.432079</td>\n",
       "      <td>104.866174</td>\n",
       "      <td>105.939828</td>\n",
       "      <td>313.902069</td>\n",
       "      <td>307.927116</td>\n",
       "      <td>91.223211</td>\n",
       "      <td>90.644804</td>\n",
       "      <td>344.744344</td>\n",
       "      <td>338.122889</td>\n",
       "      <td>118.539174</td>\n",
       "      <td>118.514842</td>\n",
       "      <td>119.243968</td>\n",
       "      <td>119.227747</td>\n",
       "      <td>182.049859</td>\n",
       "      <td>175.319512</td>\n",
       "      <td>175.574759</td>\n",
       "      <td>170.605588</td>\n",
       "      <td>77.686658</td>\n",
       "      <td>77.678035</td>\n",
       "      <td>77.008525</td>\n",
       "      <td>76.850439</td>\n",
       "      <td>50.235766</td>\n",
       "      <td>50.179820</td>\n",
       "      <td>49.374021</td>\n",
       "      <td>50.177462</td>\n",
       "      <td>3.711918</td>\n",
       "      <td>17.576509</td>\n",
       "      <td>0.0</td>\n",
       "      <td>0.313921</td>\n",
       "      <td>0.313673</td>\n",
       "      <td>471720</td>\n",
       "      <td>471719</td>\n",
       "      <td>1.557923e+09</td>\n",
       "      <td>2019-05-15 12:25:25.250000+00:00</td>\n",
       "      <td>1.557926e+09</td>\n",
       "      <td>2019-05-15 13:18:27.960000038+00:00</td>\n",
       "      <td>1.557926e+09</td>\n",
       "      <td>2019-05-15 13:18:27.960000+00:00</td>\n",
       "      <td>2</td>\n",
       "      <td>1517.8</td>\n",
       "      <td>1469.713</td>\n",
       "      <td>39.2</td>\n",
       "      <td>720</td>\n",
       "      <td>0.315</td>\n",
       "      <td>2235</td>\n",
       "      <td>0.3245</td>\n",
       "      <td>0.33695</td>\n",
       "      <td>0.140286</td>\n",
       "      <td>0.313181</td>\n",
       "      <td>0.0</td>\n",
       "      <td>0.314459</td>\n",
       "      <td>1</td>\n",
       "      <td>471719_str_1</td>\n",
       "      <td>1.0</td>\n",
       "    </tr>\n",
       "    <tr>\n",
       "      <th>4</th>\n",
       "      <td>2019-05-15 12:38:00+00:00</td>\n",
       "      <td>1578.0</td>\n",
       "      <td>1557923880</td>\n",
       "      <td>774.340426</td>\n",
       "      <td>775.138298</td>\n",
       "      <td>766.300000</td>\n",
       "      <td>768.500000</td>\n",
       "      <td>74.886566</td>\n",
       "      <td>74.886566</td>\n",
       "      <td>76.880861</td>\n",
       "      <td>76.856933</td>\n",
       "      <td>163.808361</td>\n",
       "      <td>163.718683</td>\n",
       "      <td>167.858047</td>\n",
       "      <td>167.716058</td>\n",
       "      <td>104.594964</td>\n",
       "      <td>104.730569</td>\n",
       "      <td>300.852657</td>\n",
       "      <td>307.377363</td>\n",
       "      <td>91.936397</td>\n",
       "      <td>91.579804</td>\n",
       "      <td>329.371126</td>\n",
       "      <td>337.057735</td>\n",
       "      <td>118.587836</td>\n",
       "      <td>118.563505</td>\n",
       "      <td>119.276409</td>\n",
       "      <td>119.260188</td>\n",
       "      <td>180.554403</td>\n",
       "      <td>181.302131</td>\n",
       "      <td>173.296816</td>\n",
       "      <td>174.435788</td>\n",
       "      <td>77.703904</td>\n",
       "      <td>77.695281</td>\n",
       "      <td>77.324695</td>\n",
       "      <td>77.166610</td>\n",
       "      <td>50.347657</td>\n",
       "      <td>50.291711</td>\n",
       "      <td>49.294089</td>\n",
       "      <td>49.334055</td>\n",
       "      <td>4.027656</td>\n",
       "      <td>17.891919</td>\n",
       "      <td>0.0</td>\n",
       "      <td>0.317381</td>\n",
       "      <td>0.315651</td>\n",
       "      <td>471720</td>\n",
       "      <td>471719</td>\n",
       "      <td>1.557923e+09</td>\n",
       "      <td>2019-05-15 12:25:25.250000+00:00</td>\n",
       "      <td>1.557926e+09</td>\n",
       "      <td>2019-05-15 13:18:27.960000038+00:00</td>\n",
       "      <td>1.557926e+09</td>\n",
       "      <td>2019-05-15 13:18:27.960000+00:00</td>\n",
       "      <td>2</td>\n",
       "      <td>1517.8</td>\n",
       "      <td>1469.713</td>\n",
       "      <td>39.2</td>\n",
       "      <td>720</td>\n",
       "      <td>0.315</td>\n",
       "      <td>2235</td>\n",
       "      <td>0.3245</td>\n",
       "      <td>0.33695</td>\n",
       "      <td>0.140286</td>\n",
       "      <td>0.315410</td>\n",
       "      <td>0.0</td>\n",
       "      <td>0.315738</td>\n",
       "      <td>1</td>\n",
       "      <td>471719_str_1</td>\n",
       "      <td>1.0</td>\n",
       "    </tr>\n",
       "  </tbody>\n",
       "</table>\n",
       "</div>"
      ],
      "text/plain": [
       "                   DATE_TIME  TundishTemperaturInC        TIME  \\\n",
       "0  2019-05-15 12:34:00+00:00                1578.0  1557923640   \n",
       "1  2019-05-15 12:35:00+00:00                1578.0  1557923700   \n",
       "2  2019-05-15 12:36:00+00:00                1578.0  1557923760   \n",
       "3  2019-05-15 12:37:00+00:00                1578.0  1557923820   \n",
       "4  2019-05-15 12:38:00+00:00                1578.0  1557923880   \n",
       "\n",
       "   TempMittelLsInC  TempMittelLsInC_old  TempMittelFsInC  TempMittelFsInC_old  \\\n",
       "0       755.942857           757.871429       742.784615           744.861538   \n",
       "1       761.562987           765.254545       750.493269           756.125000   \n",
       "2       768.127273           771.000000       758.612500           761.100000   \n",
       "3       772.271277           773.542553       762.600000           764.100000   \n",
       "4       774.340426           775.138298       766.300000           768.500000   \n",
       "\n",
       "   WasserZ4FsInLproMin  WasserZ4FsInLproMin_integr  WasserZ4LsInLproMin  \\\n",
       "0            74.886566                   74.886566            76.689434   \n",
       "1            74.886566                   74.886566            76.737291   \n",
       "2            74.886566                   74.886566            76.785148   \n",
       "3            74.886566                   74.886566            76.833005   \n",
       "4            74.886566                   74.886566            76.880861   \n",
       "\n",
       "   WasserZ4LsInLproMin_integr  WasserZ2bFsInLproMin  \\\n",
       "0                   76.665506            163.090939   \n",
       "1                   76.713363            163.270294   \n",
       "2                   76.761219            163.449650   \n",
       "3                   76.809076            163.629005   \n",
       "4                   76.856933            163.808361   \n",
       "\n",
       "   WasserZ2bFsInLproMin_integr  WasserZ2bLsInLproMin  \\\n",
       "0                   163.051954            166.846600   \n",
       "1                   163.180617            167.006111   \n",
       "2                   163.359972            167.290090   \n",
       "3                   163.539328            167.574068   \n",
       "4                   163.718683            167.858047   \n",
       "\n",
       "   WasserZ2bLsInLproMin_integr  WasserZ3bFsInLproMin  \\\n",
       "0                   166.991845            106.398389   \n",
       "1                   166.926356            103.217814   \n",
       "2                   167.148100            107.013481   \n",
       "3                   167.432079            104.866174   \n",
       "4                   167.716058            104.594964   \n",
       "\n",
       "   WasserZ3bFsInLproMin_integr  WasserZ1FsInLproMin  \\\n",
       "0                   104.909320           305.525558   \n",
       "1                   104.808102           312.551411   \n",
       "2                   105.115648           301.952163   \n",
       "3                   105.939828           313.902069   \n",
       "4                   104.730569           300.852657   \n",
       "\n",
       "   WasserZ1FsInLproMin_integr  WasserZ3bLsInLproMin  \\\n",
       "0                  308.814268             90.135542   \n",
       "1                  309.038485             89.441899   \n",
       "2                  307.251787             90.066398   \n",
       "3                  307.927116             91.223211   \n",
       "4                  307.377363             91.936397   \n",
       "\n",
       "   WasserZ3bLsInLproMin_integr  WasserZ1LsInLproMin  \\\n",
       "0                    89.911391           335.899460   \n",
       "1                    89.788720           345.500903   \n",
       "2                    89.754148           331.501435   \n",
       "3                    90.644804           344.744344   \n",
       "4                    91.579804           329.371126   \n",
       "\n",
       "   WasserZ1LsInLproMin_integr  WasserZ3aFsInLproMin  \\\n",
       "0                  339.779634            118.393186   \n",
       "1                  340.700182            118.441849   \n",
       "2                  338.501169            118.490511   \n",
       "3                  338.122889            118.539174   \n",
       "4                  337.057735            118.587836   \n",
       "\n",
       "   WasserZ3aFsInLproMin_integr  WasserZ3aLsInLproMin  \\\n",
       "0                   118.368855            119.146644   \n",
       "1                   118.417518            119.179085   \n",
       "2                   118.466180            119.211527   \n",
       "3                   118.514842            119.243968   \n",
       "4                   118.563505            119.276409   \n",
       "\n",
       "   WasserZ3aLsInLproMin_integr  WasserZ2aLsInLproMin  \\\n",
       "0                   119.130424            181.729786   \n",
       "1                   119.162865            171.071740   \n",
       "2                   119.195306            168.589164   \n",
       "3                   119.227747            182.049859   \n",
       "4                   119.260188            180.554403   \n",
       "\n",
       "   WasserZ2aLsInLproMin_integr  WasserZ2aFsInLproMin  \\\n",
       "0                   178.693377            174.114357   \n",
       "1                   176.400763            171.861645   \n",
       "2                   169.830452            165.636417   \n",
       "3                   175.319512            175.574759   \n",
       "4                   181.302131            173.296816   \n",
       "\n",
       "   WasserZ2aFsInLproMin_integr  WasserZ5LsInLproMin  \\\n",
       "0                   172.980478            79.069299   \n",
       "1                   172.988001            79.290254   \n",
       "2                   168.749031            77.669412   \n",
       "3                   170.605588            77.686658   \n",
       "4                   174.435788            77.703904   \n",
       "\n",
       "   WasserZ5LsInLproMin_integr  WasserZ5FsInLproMin  \\\n",
       "0                   78.958822            78.526595   \n",
       "1                   79.179776            84.656269   \n",
       "2                   78.479833            76.692354   \n",
       "3                   77.678035            77.008525   \n",
       "4                   77.695281            77.324695   \n",
       "\n",
       "   WasserZ5FsInLproMin_integr  WasserZ1DiefflenInLproMin  \\\n",
       "0                   78.460309                  49.900090   \n",
       "1                   81.591432                  50.011982   \n",
       "2                   80.674312                  50.123874   \n",
       "3                   76.850439                  50.235766   \n",
       "4                   77.166610                  50.347657   \n",
       "\n",
       "   WasserZ1DiefflenInLproMin_integr  WasserZ1DillingenInLproMin  \\\n",
       "0                         49.844144                   49.664922   \n",
       "1                         49.956036                   50.180080   \n",
       "2                         50.067928                   50.980903   \n",
       "3                         50.179820                   49.374021   \n",
       "4                         50.291711                   49.294089   \n",
       "\n",
       "   WasserZ1DillingenInLproMin_integr  GiessLaengeSchmelzeInM  \\\n",
       "0                          49.407342                2.768705   \n",
       "1                          49.922501                3.083852   \n",
       "2                          50.580492                3.397459   \n",
       "3                          50.177462                3.711918   \n",
       "4                          49.334055                4.027656   \n",
       "\n",
       "   GiessLaengeSequenzInM  AusfLaengeSchmelzeInM  GiessGeschwInMproMin  \\\n",
       "0              16.633295                    0.0              0.314564   \n",
       "1              16.949032                    0.0              0.314168   \n",
       "2              17.263328                    0.0              0.313426   \n",
       "3              17.576509                    0.0              0.313921   \n",
       "4              17.891919                    0.0              0.317381   \n",
       "\n",
       "   GiessGeschwInMproMin_integr  ChargenNr  ChargenNrErsteSchmInSeq  \\\n",
       "0                     0.315025     471720                   471719   \n",
       "1                     0.314366     471720                   471719   \n",
       "2                     0.313797     471720                   471719   \n",
       "3                     0.313673     471720                   471719   \n",
       "4                     0.315651     471720                   471719   \n",
       "\n",
       "   GiessBeginnSchmelze              GiessBeginn_DateTime  GiessEndeSchmelze  \\\n",
       "0         1.557923e+09  2019-05-15 12:25:25.250000+00:00       1.557926e+09   \n",
       "1         1.557923e+09  2019-05-15 12:25:25.250000+00:00       1.557926e+09   \n",
       "2         1.557923e+09  2019-05-15 12:25:25.250000+00:00       1.557926e+09   \n",
       "3         1.557923e+09  2019-05-15 12:25:25.250000+00:00       1.557926e+09   \n",
       "4         1.557923e+09  2019-05-15 12:25:25.250000+00:00       1.557926e+09   \n",
       "\n",
       "                    GiessEnde_DateTime  EndeSchmelze  \\\n",
       "0  2019-05-15 13:18:27.960000038+00:00  1.557926e+09   \n",
       "1  2019-05-15 13:18:27.960000038+00:00  1.557926e+09   \n",
       "2  2019-05-15 13:18:27.960000038+00:00  1.557926e+09   \n",
       "3  2019-05-15 13:18:27.960000038+00:00  1.557926e+09   \n",
       "4  2019-05-15 13:18:27.960000038+00:00  1.557926e+09   \n",
       "\n",
       "                      Ende_DateTime  NrSchmelzeInSequenz  LiquidusTempInC  \\\n",
       "0  2019-05-15 13:18:27.960000+00:00                    2           1517.8   \n",
       "1  2019-05-15 13:18:27.960000+00:00                    2           1517.8   \n",
       "2  2019-05-15 13:18:27.960000+00:00                    2           1517.8   \n",
       "3  2019-05-15 13:18:27.960000+00:00                    2           1517.8   \n",
       "4  2019-05-15 13:18:27.960000+00:00                    2           1517.8   \n",
       "\n",
       "   SolidusTempInC  UeberhitzungMittelInK  ZielTempTreiberInC  \\\n",
       "0        1469.713                   39.2                 720   \n",
       "1        1469.713                   39.2                 720   \n",
       "2        1469.713                   39.2                 720   \n",
       "3        1469.713                   39.2                 720   \n",
       "4        1469.713                   39.2                 720   \n",
       "\n",
       "   SollGiessGeschwInMproMin  Format  C-Aequiv01  C-Aequiv02  C-AequivP  \\\n",
       "0                     0.315    2235      0.3245     0.33695   0.140286   \n",
       "1                     0.315    2235      0.3245     0.33695   0.140286   \n",
       "2                     0.315    2235      0.3245     0.33695   0.140286   \n",
       "3                     0.315    2235      0.3245     0.33695   0.140286   \n",
       "4                     0.315    2235      0.3245     0.33695   0.140286   \n",
       "\n",
       "   GiessLaengeSequenzInM_delta  AusfLaengeSchmelzeInM_delta  \\\n",
       "0                     0.315737                          0.0   \n",
       "1                     0.315737                          0.0   \n",
       "2                     0.314296                          0.0   \n",
       "3                     0.313181                          0.0   \n",
       "4                     0.315410                          0.0   \n",
       "\n",
       "   GiessLaengeSchmelzeInM_delta  strang_nr        seq_id  Format_2235  \n",
       "0                      0.315148          1  471719_str_1          1.0  \n",
       "1                      0.315148          1  471719_str_1          1.0  \n",
       "2                      0.313607          1  471719_str_1          1.0  \n",
       "3                      0.314459          1  471719_str_1          1.0  \n",
       "4                      0.315738          1  471719_str_1          1.0  "
      ]
     },
     "execution_count": 61,
     "metadata": {},
     "output_type": "execute_result"
    }
   ],
   "source": [
    "strang_data.head()"
   ]
  },
  {
   "cell_type": "code",
   "execution_count": 62,
   "metadata": {
    "scrolled": true
   },
   "outputs": [
    {
     "data": {
      "text/plain": [
       "(array([-2.5,  0. ,  2.5,  5. ,  7.5, 10. , 12.5, 15. , 17.5, 20. ]),\n",
       " [Text(0, 0, ''),\n",
       "  Text(0, 0, ''),\n",
       "  Text(0, 0, ''),\n",
       "  Text(0, 0, ''),\n",
       "  Text(0, 0, ''),\n",
       "  Text(0, 0, ''),\n",
       "  Text(0, 0, ''),\n",
       "  Text(0, 0, ''),\n",
       "  Text(0, 0, ''),\n",
       "  Text(0, 0, '')])"
      ]
     },
     "execution_count": 62,
     "metadata": {},
     "output_type": "execute_result"
    },
    {
     "data": {
      "image/png": "[encoded data removed]",
      "text/plain": [
       "<Figure size 432x360 with 1 Axes>"
      ]
     },
     "metadata": {},
     "output_type": "display_data"
    }
   ],
   "source": [
    "fig1, (ax1) = plt.subplots(1, figsize=(6, 5))\n",
    "sns.lineplot(data=strang_data.reset_index(drop=True),\n",
    "             y='TempMittelLsInC',x=strang_data.reset_index(drop=True).index,\n",
    "             ax=ax1, label='model target temperature')\n",
    "ax1.axhline(720, ls='--', color='red', label='casting target temperature' )\n",
    "ax1.set_xlabel('Minutes', fontsize=15)\n",
    "ax1.set_ylabel('Temperature [°C]',fontsize=15)\n",
    "ax1.set(yticks=[]) \n",
    "ax1.xaxis.grid(True)\n",
    "ax1.yaxis.grid(True)\n",
    "ax1.legend(prop={'size': 15})\n",
    "plt.yticks(fontsize=13)\n",
    "plt.xticks(fontsize=13)"
   ]
  },
  {
   "cell_type": "code",
   "execution_count": 63,
   "metadata": {
    "scrolled": true
   },
   "outputs": [
    {
     "data": {
      "text/plain": [
       "(array([-2.5,  0. ,  2.5,  5. ,  7.5, 10. , 12.5, 15. , 17.5, 20. ]),\n",
       " [Text(0, 0, ''),\n",
       "  Text(0, 0, ''),\n",
       "  Text(0, 0, ''),\n",
       "  Text(0, 0, ''),\n",
       "  Text(0, 0, ''),\n",
       "  Text(0, 0, ''),\n",
       "  Text(0, 0, ''),\n",
       "  Text(0, 0, ''),\n",
       "  Text(0, 0, ''),\n",
       "  Text(0, 0, '')])"
      ]
     },
     "execution_count": 63,
     "metadata": {},
     "output_type": "execute_result"
    },
    {
     "data": {
      "image/png": "[encoded data removed]",
      "text/plain": [
       "<Figure size 432x360 with 1 Axes>"
      ]
     },
     "metadata": {},
     "output_type": "display_data"
    }
   ],
   "source": [
    "fig1, (ax1) = plt.subplots(1, figsize=(6, 5))\n",
    "sns.lineplot(data=strang_data.reset_index(drop=True),\n",
    "             y='TempMittelFsInC',x=strang_data.reset_index(drop=True).index,\n",
    "             ax=ax1, label='model target temperature')\n",
    "ax1.axhline(720, ls='--', color='red', label='casting target temperature' )\n",
    "ax1.set_xlabel('Minutes', fontsize=15)\n",
    "ax1.set_ylabel('Temperature [°C]',fontsize=15)\n",
    "ax1.set(yticks=[]) \n",
    "ax1.xaxis.grid(True)\n",
    "ax1.yaxis.grid(True)\n",
    "ax1.legend(prop={'size': 15})\n",
    "plt.yticks(fontsize=13)\n",
    "plt.xticks(fontsize=13)"
   ]
  },
  {
   "cell_type": "code",
   "execution_count": 64,
   "metadata": {
    "scrolled": false
   },
   "outputs": [
    {
     "data": {
      "text/plain": [
       "(array([-2.5,  0. ,  2.5,  5. ,  7.5, 10. , 12.5, 15. , 17.5, 20. ]),\n",
       " [Text(0, 0, ''),\n",
       "  Text(0, 0, ''),\n",
       "  Text(0, 0, ''),\n",
       "  Text(0, 0, ''),\n",
       "  Text(0, 0, ''),\n",
       "  Text(0, 0, ''),\n",
       "  Text(0, 0, ''),\n",
       "  Text(0, 0, ''),\n",
       "  Text(0, 0, ''),\n",
       "  Text(0, 0, '')])"
      ]
     },
     "execution_count": 64,
     "metadata": {},
     "output_type": "execute_result"
    },
    {
     "data": {
      "image/png": "[encoded data removed]",
      "text/plain": [
       "<Figure size 432x360 with 1 Axes>"
      ]
     },
     "metadata": {},
     "output_type": "display_data"
    }
   ],
   "source": [
    "fig5, (ax1) = plt.subplots(1, figsize=(6, 5))\n",
    "sns.lineplot(data=strang_data.reset_index(drop=True),\n",
    "             y='GiessGeschwInMproMin',x=strang_data.reset_index(drop=True).index,\n",
    "             ax=ax1, color='black')\n",
    "ax1.set_xlabel('Minutes', fontsize=15)\n",
    "ax1.set_ylabel('Casting Speed [m/min]', fontsize=15)\n",
    "ax1.set(yticks=[]) \n",
    "plt.yticks(fontsize=13)\n",
    "plt.xticks(fontsize=13)"
   ]
  },
  {
   "cell_type": "code",
   "execution_count": 65,
   "metadata": {
    "scrolled": false
   },
   "outputs": [
    {
     "data": {
      "text/plain": [
       "(array([-2.5,  0. ,  2.5,  5. ,  7.5, 10. , 12.5, 15. , 17.5, 20. ]),\n",
       " [Text(0, 0, ''),\n",
       "  Text(0, 0, ''),\n",
       "  Text(0, 0, ''),\n",
       "  Text(0, 0, ''),\n",
       "  Text(0, 0, ''),\n",
       "  Text(0, 0, ''),\n",
       "  Text(0, 0, ''),\n",
       "  Text(0, 0, ''),\n",
       "  Text(0, 0, ''),\n",
       "  Text(0, 0, '')])"
      ]
     },
     "execution_count": 65,
     "metadata": {},
     "output_type": "execute_result"
    },
    {
     "data": {
      "image/png": "[encoded data removed]",
      "text/plain": [
       "<Figure size 432x360 with 1 Axes>"
      ]
     },
     "metadata": {},
     "output_type": "display_data"
    }
   ],
   "source": [
    "seq_number = '474947_str_1'\n",
    "fig6, (ax1) = plt.subplots(1,1, figsize=(6, 5))\n",
    "sns.lineplot(data=strang_data.reset_index(drop=True),\n",
    "             y='WasserZ5LsInLproMin_integr',x=strang_data.reset_index(drop=True).index,\n",
    "             ax=ax1, label='cooling water Z5')\n",
    "sns.lineplot(data=strang_data.reset_index(drop=True),\n",
    "             y='WasserZ4LsInLproMin_integr',x=strang_data.reset_index(drop=True).index,\n",
    "             ax=ax1, label='cooling water Z4')\n",
    "sns.lineplot(data=strang_data.reset_index(drop=True),\n",
    "             y='WasserZ3bLsInLproMin_integr',x=strang_data.reset_index(drop=True).index,\n",
    "             ax=ax1, label='cooling water Z3b')\n",
    "sns.lineplot(data=strang_data.reset_index(drop=True),\n",
    "             y='WasserZ3aLsInLproMin_integr',x=strang_data.reset_index(drop=True).index,\n",
    "             ax=ax1, label='cooling water Z3a')\n",
    "sns.lineplot(data=strang_data.reset_index(drop=True),\n",
    "             y='WasserZ2bLsInLproMin_integr',x=strang_data.reset_index(drop=True).index,\n",
    "             ax=ax1, label='cooling water Z2b')\n",
    "sns.lineplot(data=strang_data.reset_index(drop=True),\n",
    "             y='WasserZ2aLsInLproMin_integr',x=strang_data.reset_index(drop=True).index,\n",
    "             ax=ax1, label='cooling water Z2a')\n",
    "sns.lineplot(data=strang_data.reset_index(drop=True),\n",
    "             y='WasserZ1LsInLproMin_integr',x=strang_data.reset_index(drop=True).index,\n",
    "             ax=ax1, label='cooling water Z1')\n",
    "\n",
    "ax1.set_xlabel('Minutes', fontsize=15)\n",
    "ax1.set_ylabel('Cooling Water [l]', fontsize=15)\n",
    "ax1.set(yticks=[]) \n",
    "ax1.legend(prop={'size': 10})\n",
    "ax1.legend(loc='upper left')\n",
    "plt.yticks(fontsize=13)\n",
    "plt.xticks(fontsize=13)\n",
    "\n"
   ]
  }
 ],
 "metadata": {
  "kernelspec": {
   "display_name": "Python 3",
   "language": "python",
   "name": "python3"
  },
  "language_info": {
   "codemirror_mode": {
    "name": "ipython",
    "version": 3
   },
   "file_extension": ".py",
   "mimetype": "text/x-python",
   "name": "python",
   "nbconvert_exporter": "python",
   "pygments_lexer": "ipython3",
   "version": "3.8.3"
  }
 },
 "nbformat": 4,
 "nbformat_minor": 4
}
