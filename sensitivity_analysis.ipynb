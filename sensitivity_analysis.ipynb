{
 "cells": [
  {
   "cell_type": "code",
   "execution_count": 33,
   "metadata": {},
   "outputs": [],
   "source": [
    "import numpy as np\n",
    "import pandas as pd\n",
    "import matplotlib.pyplot as plt\n",
    "from numpy import asarray\n",
    "from numpy import save\n",
    "from numpy import load\n",
    "import tensorflow as tf\n",
    "import tensorflow.keras as keras\n",
    "import pickle\n",
    "import joblib\n",
    "from sklearn.metrics import mean_squared_error\n",
    "import seaborn as sns"
   ]
  },
  {
   "cell_type": "code",
   "execution_count": 34,
   "metadata": {},
   "outputs": [],
   "source": [
    "pd.set_option('display.max_columns', None)\n",
    "pd.set_option('display.max_rows', 100)"
   ]
  },
  {
   "cell_type": "code",
   "execution_count": 35,
   "metadata": {},
   "outputs": [],
   "source": [
    "sns.set_style(\"white\")"
   ]
  },
  {
   "cell_type": "markdown",
   "metadata": {},
   "source": [
    "### Load Data"
   ]
  },
  {
   "cell_type": "code",
   "execution_count": 36,
   "metadata": {},
   "outputs": [],
   "source": [
    "with open ('../data/lstm_mlp/label_keys', 'rb') as fp:\n",
    "    label_keys = pickle.load(fp)\n",
    "with open ('../data/lstm_mlp/feature_keys', 'rb') as fp:\n",
    "    feature_keys = pickle.load(fp)    \n",
    "\n",
    "train_unsc = pd.read_pickle(\"../data/lstm_mlp/train_unsc_ts.pkl\")\n",
    "valid_unsc = pd.read_pickle(\"../data/lstm_mlp/valid_unsc_ts.pkl\")\n",
    "test_unsc = pd.read_pickle(\"../data/lstm_mlp/test_unsc_ts.pkl\")\n",
    "all_train_unsc = pd.read_pickle(\"../data/lstm_mlp/all_train_unsc_ts.pkl\")\n",
    "\n",
    "scaler_x = joblib.load(\"../data/lstm_mlp/scaler_all_train_x.save\") \n",
    "scaler_y = joblib.load(\"../data/lstm_mlp/scaler_all_train_y.save\") \n",
    "\n",
    "scaler_train_x = joblib.load(\"../data/lstm_mlp/scaler_train_valid_x.save\") \n",
    "scaler_train_y = joblib.load(\"../data/lstm_mlp/scaler_train_valid_y.save\")\n",
    "\n",
    "train_norm = pd.read_pickle(\"../data/lstm_mlp/train_scaled.pkl\")\n",
    "valid_norm = pd.read_pickle(\"../data/lstm_mlp/valid_scaled.pkl\")\n",
    "test_norm = pd.read_pickle(\"../data/lstm_mlp/test_scaled.pkl\")\n",
    "all_train_norm = pd.read_pickle(\"../data/lstm_mlp/all_train_scaled.pkl\")\n",
    "\n",
    "train_x = load('../data/lstm_mlp/train_x_norm.npy')\n",
    "train_y = load('../data/lstm_mlp/train_y_norm.npy')\n",
    "valid_x = load('../data/lstm_mlp/valid_x_norm.npy')\n",
    "valid_y = load('../data/lstm_mlp/valid_y_norm.npy')\n",
    "test_x = load('../data/lstm_mlp/test_x_norm.npy')\n",
    "test_y = load('../data/lstm_mlp/test_y_norm.npy')\n",
    "all_train_x = load('../data/lstm_mlp/all_train_x_norm.npy')\n",
    "all_train_y = load('../data/lstm_mlp/all_train_y_norm.npy')\n",
    "\n",
    "cc4_data = pd.read_csv(\"../data/ts_data.csv\") "
   ]
  },
  {
   "cell_type": "markdown",
   "metadata": {},
   "source": [
    "### Load Model LSTM Dropout Model"
   ]
  },
  {
   "cell_type": "code",
   "execution_count": 37,
   "metadata": {},
   "outputs": [
    {
     "name": "stdout",
     "output_type": "stream",
     "text": [
      "WARNING:tensorflow:SavedModel saved prior to TF 2.5 detected when loading Keras model. Please ensure that you are saving the model with model.save() or tf.keras.models.save_model(), *NOT* tf.saved_model.save(). To confirm, there should be a file named \"keras_metadata.pb\" in the SavedModel directory.\n"
     ]
    }
   ],
   "source": [
    "model = keras.models.load_model(\"../data/lstm_mlp/lstm_models/LSTMDropout_model_test\")"
   ]
  },
  {
   "cell_type": "markdown",
   "metadata": {},
   "source": [
    "### Prepare data to look at single sequences"
   ]
  },
  {
   "cell_type": "code",
   "execution_count": 38,
   "metadata": {},
   "outputs": [],
   "source": [
    "## transform data so that each sequence so that we have measured values and prediction \n",
    "## for each sequence separately\n",
    "\n",
    "## transform into (samples, time steps, features) format\n",
    "def lstm_format(data):\n",
    "    length_cc4 = 15.42\n",
    "    seq_len = 5  #only 5 time steps in the past\n",
    "    features = []\n",
    "    labels = []\n",
    "    data_set = {}\n",
    "\n",
    "    for _, group in data.groupby('seq_id'):\n",
    "        for i in range(len(group)-(seq_len-1)):\n",
    "            features.append(group[feature_keys].iloc[i:i+seq_len].to_numpy())  \n",
    "            labels.append(group[label_keys].iloc[i+(seq_len-1)].to_numpy())\n",
    "\n",
    "    data_set['x'] = np.stack(features)\n",
    "    data_set['y'] = np.stack(labels)\n",
    "    return data_set\n",
    "\n",
    "test_seq = test_norm['seq_id'].drop_duplicates()\n",
    "\n",
    "x = {}\n",
    "y = {}\n",
    "for seq in test_seq:\n",
    "    df = lstm_format(test_norm[test_norm['seq_id']==seq])\n",
    "    x[seq]= df['x'].copy()\n",
    "    y[seq] = df['y'].copy()\n",
    "\n",
    "## predicted and measured values\n",
    "prediction = {}\n",
    "real_values = {}\n",
    "rmse = {}\n",
    "for seq in test_seq:\n",
    "    prediction[seq] = scaler_y.inverse_transform(model.predict(x[seq]))\n",
    "    real_values[seq] = scaler_y.inverse_transform(y[seq])\n",
    "    rmse[seq] = np.sqrt(mean_squared_error( prediction[seq],  real_values[seq]))  \n",
    "\n",
    "error = []\n",
    "for seq in test_seq:\n",
    "    error.append((rmse[seq], seq))"
   ]
  },
  {
   "cell_type": "code",
   "execution_count": 39,
   "metadata": {},
   "outputs": [
    {
     "data": {
      "text/plain": [
       "[(2.2555111276099185, '471719_str_2'),\n",
       " (2.2555111276099185, '471724_str_2'),\n",
       " (2.2555111276099185, '471728_str_2'),\n",
       " (2.7590317555287607, '471719_str_1'),\n",
       " (2.7590317555287607, '471724_str_1'),\n",
       " (2.7590317555287607, '471728_str_1')]"
      ]
     },
     "execution_count": 39,
     "metadata": {},
     "output_type": "execute_result"
    }
   ],
   "source": [
    "sorted(error)"
   ]
  },
  {
   "cell_type": "code",
   "execution_count": 40,
   "metadata": {},
   "outputs": [],
   "source": [
    "water_keys = ['WasserZ4FsInLproMin_integr', 'WasserZ4LsInLproMin_integr',\n",
    "       'WasserZ2bFsInLproMin_integr', 'WasserZ2bLsInLproMin_integr',\n",
    "       'WasserZ3bFsInLproMin_integr', 'WasserZ1FsInLproMin_integr',\n",
    "       'WasserZ3bLsInLproMin_integr', 'WasserZ1LsInLproMin_integr',\n",
    "       'WasserZ3aFsInLproMin_integr', 'WasserZ3aLsInLproMin_integr',\n",
    "       'WasserZ2aLsInLproMin_integr', 'WasserZ2aFsInLproMin_integr',\n",
    "       'WasserZ5LsInLproMin_integr', 'WasserZ5FsInLproMin_integr',\n",
    "       \n",
    "             ]\n",
    "not_water_keys = [e for e in feature_keys if e not in water_keys]"
   ]
  },
  {
   "cell_type": "markdown",
   "metadata": {},
   "source": [
    "### Change values of specific features"
   ]
  },
  {
   "cell_type": "code",
   "execution_count": 41,
   "metadata": {
    "scrolled": true
   },
   "outputs": [],
   "source": [
    "## Function that plots the measured temperature, the original prediciton and the new prediction\n",
    "def new_predicition_plot(test_change_unsc, test_change_unsc_2, descr_change, descr_change_2):\n",
    "    id_test = test_change_unsc['seq_id'].to_frame()\n",
    "    id_test =id_test.reset_index(drop=True)\n",
    "\n",
    "    test_change_x = scaler_x.transform(test_change_unsc[feature_keys])\n",
    "    test_change_x = pd.DataFrame(test_change_x, columns=(feature_keys))\n",
    "    test_change_y = scaler_y.transform(test_change_unsc[label_keys])\n",
    "    test_change_y = pd.DataFrame(test_change_y, columns=(label_keys))\n",
    "\n",
    "    test_change = pd.concat([test_change_y,test_change_x],axis=1)\n",
    "    test_change = pd.concat([test_change,id_test],axis=1)\n",
    "    test_change = test_change.reset_index(drop=True)\n",
    "\n",
    "    df = lstm_format(test_change)\n",
    "    x_change = df['x'].copy()\n",
    "\n",
    "    prediction_change = scaler_y.inverse_transform(model.predict(x_change))\n",
    "    rmse_change = np.sqrt(mean_squared_error(prediction_change, real_values[seq])) \n",
    "    print(\"new RMSE\",descr_change, \" :\" , rmse_change)\n",
    "    \n",
    "    test_change_x_2 = scaler_x.transform(test_change_unsc_2[feature_keys])\n",
    "    test_change_x_2 = pd.DataFrame(test_change_x_2, columns=(feature_keys))\n",
    "    test_change_y_2 = scaler_y.transform(test_change_unsc_2[label_keys])\n",
    "    test_change_y_2 = pd.DataFrame(test_change_y_2, columns=(label_keys))\n",
    "\n",
    "    test_change_2 = pd.concat([test_change_y_2,test_change_x_2],axis=1)\n",
    "    test_change_2 = pd.concat([test_change_2,id_test],axis=1)\n",
    "    test_change_2 = test_change_2.reset_index(drop=True)\n",
    "\n",
    "    df_2 = lstm_format(test_change_2)\n",
    "    x_change_2 = df_2['x'].copy()\n",
    "\n",
    "    prediction_change_2 = scaler_y.inverse_transform(model.predict(x_change_2))\n",
    "    rmse_change_2 = np.sqrt(mean_squared_error(prediction_change_2, real_values[seq]  )) \n",
    "    print(\"new RMSE\",descr_change_2, \" :\" , rmse_change_2)\n",
    "    \n",
    "    fig, (ax1) = plt.subplots(1, 1, figsize=(6, 5),  sharex=True, sharey=True)\n",
    "    ax1.plot(real_values[seq][:,:1], color='black', label='measured')\n",
    "    ax1.plot(prediction[seq][:,:1], color='blue', label='original predicted')\n",
    "\n",
    "    ax1.plot(prediction_change[:,:1], color='red', label=descr_change)\n",
    "    ax1.plot(prediction_change_2[:,:1], color='green', label=descr_change_2)\n",
    "\n",
    "    ax1.set_xlabel('Minutes', fontsize=15)\n",
    "    ax1.set_ylabel('Temperature [°C]',fontsize=15)\n",
    "    ax1.xaxis.grid(True)\n",
    "    ax1.yaxis.grid(True)\n",
    "    ax1.legend(loc='best', prop={'size': 13})\n",
    "    ax1.set(yticks=[])"
   ]
  },
  {
   "cell_type": "markdown",
   "metadata": {},
   "source": [
    "### Change casting target temperature"
   ]
  },
  {
   "cell_type": "markdown",
   "metadata": {},
   "source": [
    "Features that can be changed:"
   ]
  },
  {
   "cell_type": "code",
   "execution_count": 42,
   "metadata": {},
   "outputs": [
    {
     "data": {
      "text/plain": [
       "['TundishTemperaturInC',\n",
       " 'WasserZ4FsInLproMin_integr',\n",
       " 'WasserZ4LsInLproMin_integr',\n",
       " 'WasserZ2bFsInLproMin_integr',\n",
       " 'WasserZ2bLsInLproMin_integr',\n",
       " 'WasserZ3bFsInLproMin_integr',\n",
       " 'WasserZ1FsInLproMin_integr',\n",
       " 'WasserZ3bLsInLproMin_integr',\n",
       " 'WasserZ1LsInLproMin_integr',\n",
       " 'WasserZ3aFsInLproMin_integr',\n",
       " 'WasserZ3aLsInLproMin_integr',\n",
       " 'WasserZ2aLsInLproMin_integr',\n",
       " 'WasserZ2aFsInLproMin_integr',\n",
       " 'WasserZ5LsInLproMin_integr',\n",
       " 'WasserZ5FsInLproMin_integr',\n",
       " 'GiessLaengeSchmelzeInM',\n",
       " 'GiessLaengeSequenzInM',\n",
       " 'AusfLaengeSchmelzeInM',\n",
       " 'LiquidusTempInC',\n",
       " 'SolidusTempInC',\n",
       " 'UeberhitzungMittelInK',\n",
       " 'ZielTempTreiberInC',\n",
       " 'SollGiessGeschwInMproMin',\n",
       " 'C-Aequiv01',\n",
       " 'C-Aequiv02',\n",
       " 'C-AequivP',\n",
       " 'GiessLaengeSequenzInM_delta',\n",
       " 'AusfLaengeSchmelzeInM_delta',\n",
       " 'Format_2235']"
      ]
     },
     "execution_count": 42,
     "metadata": {},
     "output_type": "execute_result"
    }
   ],
   "source": [
    "feature_keys"
   ]
  },
  {
   "cell_type": "code",
   "execution_count": 43,
   "metadata": {
    "scrolled": false
   },
   "outputs": [
    {
     "name": "stdout",
     "output_type": "stream",
     "text": [
      "new RMSE high casting target temp  : 22.414618101212017\n",
      "new RMSE low casting target temp  : 22.039537365790398\n"
     ]
    },
    {
     "data": {
      "image/png": "[encoded data removed]",
      "text/plain": [
       "<Figure size 432x360 with 1 Axes>"
      ]
     },
     "metadata": {},
     "output_type": "display_data"
    }
   ],
   "source": [
    "seq = '471719_str_2'  ## choose sequence \n",
    "test_change_unsc = test_unsc[test_unsc['seq_id']==seq].copy() ##test data of chosen sequence\n",
    "test_change_unsc_2 = test_change_unsc.copy()\n",
    "\n",
    "features_changed =  ['ZielTempTreiberInC']  ## choose features to change\n",
    "features_changed_2 = ['ZielTempTreiberInC'] ## choose second features to change\n",
    "\n",
    "descr_change = \"high casting target temp\" ## description of first new prediction in plot\n",
    "descr_change_2 = \"low casting target temp\" ## description of second new prediction in plot\n",
    "\n",
    "for col in features_changed:\n",
    "    test_change_unsc[col].values[:] = cc4_data[col].min() /1.5   ## set value for each feature\n",
    "    test_change_unsc_2[col].values[:] = cc4_data[col].max() *1.5\n",
    "    \n",
    "new_predicition_plot(test_change_unsc, test_change_unsc_2, descr_change, descr_change_2 )"
   ]
  },
  {
   "cell_type": "markdown",
   "metadata": {},
   "source": [
    "### Change cooling water quantities"
   ]
  },
  {
   "cell_type": "markdown",
   "metadata": {},
   "source": [
    "All cooling water features:"
   ]
  },
  {
   "cell_type": "code",
   "execution_count": 44,
   "metadata": {},
   "outputs": [
    {
     "data": {
      "text/plain": [
       "['WasserZ4FsInLproMin_integr',\n",
       " 'WasserZ4LsInLproMin_integr',\n",
       " 'WasserZ2bFsInLproMin_integr',\n",
       " 'WasserZ2bLsInLproMin_integr',\n",
       " 'WasserZ3bFsInLproMin_integr',\n",
       " 'WasserZ1FsInLproMin_integr',\n",
       " 'WasserZ3bLsInLproMin_integr',\n",
       " 'WasserZ1LsInLproMin_integr',\n",
       " 'WasserZ3aFsInLproMin_integr',\n",
       " 'WasserZ3aLsInLproMin_integr',\n",
       " 'WasserZ2aLsInLproMin_integr',\n",
       " 'WasserZ2aFsInLproMin_integr',\n",
       " 'WasserZ5LsInLproMin_integr',\n",
       " 'WasserZ5FsInLproMin_integr']"
      ]
     },
     "execution_count": 44,
     "metadata": {},
     "output_type": "execute_result"
    }
   ],
   "source": [
    "water_keys"
   ]
  },
  {
   "cell_type": "code",
   "execution_count": 45,
   "metadata": {
    "scrolled": false
   },
   "outputs": [
    {
     "name": "stdout",
     "output_type": "stream",
     "text": [
      "new RMSE low cooling water all zones  : 10.696708474443756\n",
      "new RMSE high cooling water all zones  : 12.355638112667934\n"
     ]
    },
    {
     "data": {
      "image/png": "[encoded data removed]",
      "text/plain": [
       "<Figure size 432x360 with 1 Axes>"
      ]
     },
     "metadata": {},
     "output_type": "display_data"
    }
   ],
   "source": [
    "seq = '471719_str_2'  ## choose sequence \n",
    "test_change_unsc = test_unsc[test_unsc['seq_id']==seq].copy() ##test data of chosen sequence\n",
    "test_change_unsc_2 = test_change_unsc.copy()\n",
    "\n",
    "features_changed =  water_keys  ## choose features to change\n",
    "features_changed_2 = water_keys ## choose second features to change\n",
    "\n",
    "descr_change = \"low cooling water all zones\" ## description of first new prediction in plot\n",
    "descr_change_2 = \"high cooling water all zones\" ## description of second new prediction in plot\n",
    "\n",
    "for col in features_changed:\n",
    "    test_change_unsc[col].values[:] = cc4_data[col].min()   ## set value for each feature\n",
    "    test_change_unsc_2[col].values[:] = cc4_data[col].max() \n",
    "    \n",
    "new_predicition_plot(test_change_unsc, test_change_unsc_2, descr_change, descr_change_2 )"
   ]
  },
  {
   "cell_type": "markdown",
   "metadata": {},
   "source": [
    "### Change casting speed"
   ]
  },
  {
   "cell_type": "code",
   "execution_count": 46,
   "metadata": {},
   "outputs": [
    {
     "data": {
      "text/plain": [
       "['TundishTemperaturInC',\n",
       " 'WasserZ4FsInLproMin_integr',\n",
       " 'WasserZ4LsInLproMin_integr',\n",
       " 'WasserZ2bFsInLproMin_integr',\n",
       " 'WasserZ2bLsInLproMin_integr',\n",
       " 'WasserZ3bFsInLproMin_integr',\n",
       " 'WasserZ1FsInLproMin_integr',\n",
       " 'WasserZ3bLsInLproMin_integr',\n",
       " 'WasserZ1LsInLproMin_integr',\n",
       " 'WasserZ3aFsInLproMin_integr',\n",
       " 'WasserZ3aLsInLproMin_integr',\n",
       " 'WasserZ2aLsInLproMin_integr',\n",
       " 'WasserZ2aFsInLproMin_integr',\n",
       " 'WasserZ5LsInLproMin_integr',\n",
       " 'WasserZ5FsInLproMin_integr',\n",
       " 'GiessLaengeSchmelzeInM',\n",
       " 'GiessLaengeSequenzInM',\n",
       " 'AusfLaengeSchmelzeInM',\n",
       " 'LiquidusTempInC',\n",
       " 'SolidusTempInC',\n",
       " 'UeberhitzungMittelInK',\n",
       " 'ZielTempTreiberInC',\n",
       " 'SollGiessGeschwInMproMin',\n",
       " 'C-Aequiv01',\n",
       " 'C-Aequiv02',\n",
       " 'C-AequivP',\n",
       " 'GiessLaengeSequenzInM_delta',\n",
       " 'AusfLaengeSchmelzeInM_delta',\n",
       " 'Format_2235']"
      ]
     },
     "execution_count": 46,
     "metadata": {},
     "output_type": "execute_result"
    }
   ],
   "source": [
    "feature_keys"
   ]
  },
  {
   "cell_type": "code",
   "execution_count": 47,
   "metadata": {
    "scrolled": true
   },
   "outputs": [
    {
     "name": "stdout",
     "output_type": "stream",
     "text": [
      "new RMSE low casting speed  : 20.510355760664837\n",
      "new RMSE high casting speed  : 5.077276169483227\n"
     ]
    },
    {
     "data": {
      "image/png": "[encoded data removed]",
      "text/plain": [
       "<Figure size 432x360 with 1 Axes>"
      ]
     },
     "metadata": {},
     "output_type": "display_data"
    }
   ],
   "source": [
    "seq = '471719_str_2'  ## choose sequence \n",
    "test_change_unsc = test_unsc[test_unsc['seq_id']==seq].copy() ##test data of chosen sequence\n",
    "test_change_unsc_2 = test_change_unsc.copy()\n",
    "\n",
    "features_changed =  ['SollGiessGeschwInMproMin','GiessLaengeSequenzInM_delta']   ## choose features to change\n",
    "features_changed_2 = ['SollGiessGeschwInMproMin','GiessLaengeSequenzInM_delta'] ## choose second features to change\n",
    "\n",
    "descr_change = \"low casting speed\" ## description of first new prediction in plot\n",
    "descr_change_2 = \"high casting speed\" ## description of second new prediction in plot\n",
    "\n",
    "for col in features_changed:\n",
    "    test_change_unsc[col].values[:] = cc4_data[col].min() /2   ## set value for each feature\n",
    "    test_change_unsc_2[col].values[:] = cc4_data[col].max() *2\n",
    "    \n",
    "new_predicition_plot(test_change_unsc, test_change_unsc_2, descr_change, descr_change_2 )"
   ]
  },
  {
   "cell_type": "markdown",
   "metadata": {},
   "source": [
    "### Effect of changes to average predicted temperature"
   ]
  },
  {
   "cell_type": "markdown",
   "metadata": {},
   "source": [
    "#### Mean of new predicted temperature for whole test set\n",
    "Here for casting target temperature as an example:"
   ]
  },
  {
   "cell_type": "code",
   "execution_count": 48,
   "metadata": {},
   "outputs": [],
   "source": [
    "## Set values to change\n",
    "all_test_change_unsc = test_unsc.copy()\n",
    "features_changed = ['ZielTempTreiberInC']\n",
    "for col in features_changed:\n",
    "    all_test_change_unsc[col].values[:] = cc4_data[col].min() / 2"
   ]
  },
  {
   "cell_type": "code",
   "execution_count": 49,
   "metadata": {},
   "outputs": [
    {
     "name": "stdout",
     "output_type": "stream",
     "text": [
      "Mean of new predicted temperature for whole test set:\n"
     ]
    },
    {
     "data": {
      "text/plain": [
       "749.3637"
      ]
     },
     "execution_count": 49,
     "metadata": {},
     "output_type": "execute_result"
    }
   ],
   "source": [
    "id_test = all_test_change_unsc['seq_id'].to_frame()\n",
    "id_test =id_test.reset_index(drop=True)\n",
    "\n",
    "test_change_x = scaler_x.transform(all_test_change_unsc[feature_keys])\n",
    "test_change_x = pd.DataFrame(test_change_x, columns=(feature_keys))\n",
    "test_change_y = scaler_y.transform(all_test_change_unsc[label_keys])\n",
    "test_change_y = pd.DataFrame(test_change_y, columns=(label_keys))\n",
    "\n",
    "test_change = pd.concat([test_change_y,test_change_x],axis=1)\n",
    "test_change = pd.concat([test_change,id_test],axis=1)\n",
    "test_change = test_change.reset_index(drop=True)\n",
    "\n",
    "df = lstm_format(test_change)\n",
    "x_change= df['x'].copy()\n",
    "\n",
    "prediction_change = scaler_y.inverse_transform(model.predict(x_change))\n",
    "print('Mean of new predicted temperature for whole test set:')\n",
    "prediction_change.mean()"
   ]
  },
  {
   "cell_type": "markdown",
   "metadata": {},
   "source": [
    "#### Mean of original predicted temperature for whole test set"
   ]
  },
  {
   "cell_type": "code",
   "execution_count": 50,
   "metadata": {
    "scrolled": true
   },
   "outputs": [
    {
     "name": "stdout",
     "output_type": "stream",
     "text": [
      "Mean of original predicted temperature for whole test set:\n"
     ]
    },
    {
     "data": {
      "text/plain": [
       "773.2701"
      ]
     },
     "execution_count": 50,
     "metadata": {},
     "output_type": "execute_result"
    }
   ],
   "source": [
    "original_prediction = scaler_y.inverse_transform(model.predict(test_x))\n",
    "print('Mean of original predicted temperature for whole test set:')\n",
    "original_prediction.mean()"
   ]
  },
  {
   "cell_type": "markdown",
   "metadata": {},
   "source": [
    "#### Mean of original predicted temperature for a sequence\n",
    "Since we only have limited data, no differences between mean for whole test set or mean for each sequence"
   ]
  },
  {
   "cell_type": "code",
   "execution_count": 51,
   "metadata": {},
   "outputs": [
    {
     "name": "stdout",
     "output_type": "stream",
     "text": [
      "Mean of new predicted temperature for each sequences:\n"
     ]
    },
    {
     "data": {
      "text/plain": [
       "749.3638"
      ]
     },
     "execution_count": 51,
     "metadata": {},
     "output_type": "execute_result"
    }
   ],
   "source": [
    "test_seq = test_change['seq_id'].drop_duplicates()  ## als sequence ids in test set\n",
    "\n",
    "x_all_changed = {}\n",
    "y_all_changed = {}\n",
    "for seq in test_seq:\n",
    "    df = lstm_format(test_change[test_change['seq_id']==seq])\n",
    "    x_all_changed[seq]= df['x'].copy()\n",
    "    y_all_changed[seq] = df['y'].copy()\n",
    "mean_temp = []\n",
    "prediction_all_changed = {}  ## new predictions for each sequence in test set\n",
    "for seq in test_seq:\n",
    "    prediction_all_changed[seq] = scaler_y.inverse_transform(model.predict(x_all_changed[seq]))\n",
    "    mean_temp.append(prediction_all_changed[seq].mean())\n",
    "    \n",
    "print('Mean of new predicted temperature for each sequences:')\n",
    "np.mean(mean_temp)  ##mean over all sequences in test set"
   ]
  },
  {
   "cell_type": "code",
   "execution_count": 52,
   "metadata": {
    "scrolled": true
   },
   "outputs": [
    {
     "name": "stdout",
     "output_type": "stream",
     "text": [
      "Mean of original predicted temperature for each sequences:\n"
     ]
    },
    {
     "data": {
      "text/plain": [
       "773.27"
      ]
     },
     "execution_count": 52,
     "metadata": {},
     "output_type": "execute_result"
    }
   ],
   "source": [
    "mean_prediciton = []\n",
    "for seq in test_seq:\n",
    "     mean_prediciton.append(prediction[seq].mean())\n",
    "        \n",
    "print('Mean of original predicted temperature for each sequences:')\n",
    "np.mean(mean_prediciton)"
   ]
  },
  {
   "cell_type": "markdown",
   "metadata": {},
   "source": [
    "### Looking at Properties of a single sequence"
   ]
  },
  {
   "cell_type": "code",
   "execution_count": 53,
   "metadata": {},
   "outputs": [],
   "source": [
    "## Choose sequences\n",
    "seq_number = '471719_str_2'"
   ]
  },
  {
   "cell_type": "markdown",
   "metadata": {},
   "source": [
    "Cooling water curves:"
   ]
  },
  {
   "cell_type": "code",
   "execution_count": 54,
   "metadata": {
    "scrolled": true
   },
   "outputs": [
    {
     "data": {
      "text/plain": [
       "<matplotlib.legend.Legend at 0x142c37a3310>"
      ]
     },
     "execution_count": 54,
     "metadata": {},
     "output_type": "execute_result"
    },
    {
     "data": {
      "image/png": "[encoded data removed]",
      "text/plain": [
       "<Figure size 432x360 with 1 Axes>"
      ]
     },
     "metadata": {},
     "output_type": "display_data"
    }
   ],
   "source": [
    "fig, (ax1) = plt.subplots(1,1, figsize=(6, 5))\n",
    "sns.lineplot(data=test_change_unsc[test_change_unsc['seq_id']==seq_number][5:].reset_index(drop=True),\n",
    "             y='WasserZ5LsInLproMin_integr',x=test_change_unsc[test_change_unsc['seq_id']==seq_number][5:].reset_index(drop=True).index,\n",
    "             ax=ax1, label='cooling water Z5')\n",
    "sns.lineplot(data=test_change_unsc[test_change_unsc['seq_id']==seq_number][5:].reset_index(drop=True),\n",
    "             y='WasserZ4LsInLproMin_integr',x=test_change_unsc[test_change_unsc['seq_id']==seq_number][5:].reset_index(drop=True).index,\n",
    "             ax=ax1, label='cooling water Z4')\n",
    "sns.lineplot(data=test_change_unsc[test_change_unsc['seq_id']==seq_number][5:].reset_index(drop=True),\n",
    "             y='WasserZ3bLsInLproMin_integr',x=test_change_unsc[test_change_unsc['seq_id']==seq_number][5:].reset_index(drop=True).index,\n",
    "             ax=ax1, label='cooling water Z3b')\n",
    "sns.lineplot(data=test_change_unsc[test_change_unsc['seq_id']==seq_number][5:].reset_index(drop=True),\n",
    "             y='WasserZ3aLsInLproMin_integr',x=test_change_unsc[test_change_unsc['seq_id']==seq_number][5:].reset_index(drop=True).index,\n",
    "             ax=ax1, label='cooling water Z3a')\n",
    "sns.lineplot(data=test_change_unsc[test_change_unsc['seq_id']==seq_number][5:].reset_index(drop=True),\n",
    "             y='WasserZ2bLsInLproMin_integr',x=test_change_unsc[test_change_unsc['seq_id']==seq_number][5:].reset_index(drop=True).index,\n",
    "             ax=ax1, label='cooling water Z2b')\n",
    "sns.lineplot(data=test_change_unsc[test_change_unsc['seq_id']==seq_number][5:].reset_index(drop=True),\n",
    "             y='WasserZ2aLsInLproMin_integr',x=test_change_unsc[test_change_unsc['seq_id']==seq_number][5:].reset_index(drop=True).index,\n",
    "             ax=ax1, label='cooling water Z2a')\n",
    "sns.lineplot(data=test_change_unsc[test_change_unsc['seq_id']==seq_number][5:].reset_index(drop=True),\n",
    "             y='WasserZ1LsInLproMin_integr',x=test_change_unsc[test_change_unsc['seq_id']==seq_number][5:].reset_index(drop=True).index,\n",
    "             ax=ax1, label='cooling water Z1')\n",
    "ax1.set_ylabel('Cooling Water [l]', fontsize=15)\n",
    "ax1.xaxis.grid(True)\n",
    "ax1.set(yticks=[]) \n",
    "ax1.set_xlabel('Minutes', fontsize=15)\n",
    "ax1.legend(loc='upper left', prop={'size': 13})"
   ]
  },
  {
   "cell_type": "markdown",
   "metadata": {},
   "source": [
    "Casting speed curve:"
   ]
  },
  {
   "cell_type": "code",
   "execution_count": 55,
   "metadata": {
    "scrolled": true
   },
   "outputs": [
    {
     "data": {
      "image/png": "[encoded data removed]",
      "text/plain": [
       "<Figure size 432x360 with 1 Axes>"
      ]
     },
     "metadata": {},
     "output_type": "display_data"
    }
   ],
   "source": [
    "fig, (ax1) = plt.subplots(1, figsize=(6, 5))\n",
    "sns.lineplot(data=test_change_unsc[test_change_unsc['seq_id']==seq_number][5:].reset_index(drop=True),\n",
    "             y='GiessLaengeSequenzInM_delta',x=test_change_unsc[test_change_unsc['seq_id']==seq_number][5:].reset_index(drop=True).index,\n",
    "             ax=ax1, color='black')\n",
    "ax1.set_xlabel('Minutes', fontsize=15  )\n",
    "ax1.set_ylabel('Casting Speed [m/min]', fontsize=15 )\n",
    "ax1.set(yticks=[]) \n",
    "ax1.xaxis.grid(True)\n",
    "ax1.yaxis.grid(True)\n"
   ]
  },
  {
   "cell_type": "markdown",
   "metadata": {},
   "source": [
    "### Plot for all sequences in test set"
   ]
  },
  {
   "cell_type": "code",
   "execution_count": 56,
   "metadata": {},
   "outputs": [
    {
     "data": {
      "image/png": "[encoded data removed]",
      "text/plain": [
       "<Figure size 720x720 with 12 Axes>"
      ]
     },
     "metadata": {},
     "output_type": "display_data"
    }
   ],
   "source": [
    "fig_test_data, axes = plt.subplots(3, 2, figsize=(10, 10),sharey=True, sharex=True)\n",
    "\n",
    "ax = {}\n",
    "i = 1\n",
    "for seq in test_seq:\n",
    "    ax[seq] = fig_test_data.add_subplot(3,2,i)\n",
    "    ax[seq].plot(prediction_all_changed[seq][:,:1], color='red', label='new prediction')\n",
    "    ax[seq].plot(real_values[seq][:,:1], color='black', label='measured')\n",
    "    ax[seq].plot(prediction[seq][:,:1], color='blue', label='original predicted')\n",
    "    ax[seq].grid()\n",
    "    ax[seq].legend(loc='best', prop={'size': 13})\n",
    "    i += 1"
   ]
  },
  {
   "cell_type": "markdown",
   "metadata": {},
   "source": [
    "## Train Model without specific features"
   ]
  },
  {
   "cell_type": "code",
   "execution_count": 57,
   "metadata": {
    "scrolled": true
   },
   "outputs": [
    {
     "data": {
      "text/plain": [
       "['TundishTemperaturInC',\n",
       " 'WasserZ4FsInLproMin_integr',\n",
       " 'WasserZ4LsInLproMin_integr',\n",
       " 'WasserZ2bFsInLproMin_integr',\n",
       " 'WasserZ2bLsInLproMin_integr',\n",
       " 'WasserZ3bFsInLproMin_integr',\n",
       " 'WasserZ1FsInLproMin_integr',\n",
       " 'WasserZ3bLsInLproMin_integr',\n",
       " 'WasserZ1LsInLproMin_integr',\n",
       " 'WasserZ3aFsInLproMin_integr',\n",
       " 'WasserZ3aLsInLproMin_integr',\n",
       " 'WasserZ2aLsInLproMin_integr',\n",
       " 'WasserZ2aFsInLproMin_integr',\n",
       " 'WasserZ5LsInLproMin_integr',\n",
       " 'WasserZ5FsInLproMin_integr',\n",
       " 'GiessLaengeSchmelzeInM',\n",
       " 'GiessLaengeSequenzInM',\n",
       " 'AusfLaengeSchmelzeInM',\n",
       " 'LiquidusTempInC',\n",
       " 'SolidusTempInC',\n",
       " 'UeberhitzungMittelInK',\n",
       " 'ZielTempTreiberInC',\n",
       " 'SollGiessGeschwInMproMin',\n",
       " 'C-Aequiv01',\n",
       " 'C-Aequiv02',\n",
       " 'C-AequivP',\n",
       " 'GiessLaengeSequenzInM_delta',\n",
       " 'AusfLaengeSchmelzeInM_delta',\n",
       " 'Format_2235']"
      ]
     },
     "execution_count": 57,
     "metadata": {},
     "output_type": "execute_result"
    }
   ],
   "source": [
    "feature_keys"
   ]
  },
  {
   "cell_type": "code",
   "execution_count": 58,
   "metadata": {},
   "outputs": [],
   "source": [
    "not_used = ['ZielTempTreiberInC']  ## exclude feature\n",
    "new_features = [e for e in feature_keys if e not in not_used]"
   ]
  },
  {
   "cell_type": "markdown",
   "metadata": {},
   "source": [
    "Transform data in LSTM format:"
   ]
  },
  {
   "cell_type": "code",
   "execution_count": 59,
   "metadata": {},
   "outputs": [],
   "source": [
    "def lstm_format_new_features(data):\n",
    "    length_cc4 = 15.42\n",
    "    seq_len = 5\n",
    "    features = []\n",
    "    labels = []\n",
    "    data_set = {}\n",
    "\n",
    "    for _, group in data.groupby('seq_id'):\n",
    "        for i in range(len(group)-(seq_len-1)):\n",
    "            features.append(group[new_features].iloc[i:i+seq_len].to_numpy())  \n",
    "            labels.append(group[label_keys].iloc[i+(seq_len-1)].to_numpy())\n",
    "\n",
    "    data_set['x'] = np.stack(features)\n",
    "    data_set['y'] = np.stack(labels)\n",
    "    return data_set\n",
    "\n",
    "test_n = lstm_format_new_features(test_norm)\n",
    "test_x_norm = test_n['x'].copy()\n",
    "test_y_norm = test_n['y'].copy()\n",
    "\n",
    "all_train_n = lstm_format_new_features(all_train_norm)\n",
    "all_train_x_norm = all_train_n['x'].copy()\n",
    "all_train_y_norm = all_train_n['y'].copy()"
   ]
  },
  {
   "cell_type": "markdown",
   "metadata": {},
   "source": [
    "Train the best LSTM model with new features:"
   ]
  },
  {
   "cell_type": "code",
   "execution_count": 60,
   "metadata": {},
   "outputs": [
    {
     "name": "stderr",
     "output_type": "stream",
     "text": [
      "C:\\Users\\Enrico\\AppData\\Roaming\\Python\\Python38\\site-packages\\tensorflow\\python\\keras\\optimizer_v2\\optimizer_v2.py:374: UserWarning: The `lr` argument is deprecated, use `learning_rate` instead.\n",
      "  warnings.warn(\n"
     ]
    },
    {
     "name": "stdout",
     "output_type": "stream",
     "text": [
      "Model: \"sequential_1\"\n",
      "_________________________________________________________________\n",
      "Layer (type)                 Output Shape              Param #   \n",
      "=================================================================\n",
      "lstm_3 (LSTM)                (None, 5, 16)             2880      \n",
      "_________________________________________________________________\n",
      "lstm_4 (LSTM)                (None, 5, 16)             2112      \n",
      "_________________________________________________________________\n",
      "lstm_5 (LSTM)                (None, 16)                2112      \n",
      "_________________________________________________________________\n",
      "dense_1 (Dense)              (None, 2)                 34        \n",
      "=================================================================\n",
      "Total params: 7,138\n",
      "Trainable params: 7,138\n",
      "Non-trainable params: 0\n",
      "_________________________________________________________________\n",
      "Epoch 1/99\n",
      "1/1 - 8s - loss: 0.5166\n",
      "Epoch 2/99\n",
      "1/1 - 0s - loss: 0.4987\n",
      "Epoch 3/99\n",
      "1/1 - 0s - loss: 0.4895\n",
      "Epoch 4/99\n",
      "1/1 - 0s - loss: 0.4756\n",
      "Epoch 5/99\n",
      "1/1 - 0s - loss: 0.4617\n",
      "Epoch 6/99\n",
      "1/1 - 0s - loss: 0.4476\n",
      "Epoch 7/99\n",
      "1/1 - 0s - loss: 0.4328\n",
      "Epoch 8/99\n",
      "1/1 - 0s - loss: 0.4191\n",
      "Epoch 9/99\n",
      "1/1 - 0s - loss: 0.4045\n",
      "Epoch 10/99\n",
      "1/1 - 0s - loss: 0.3880\n",
      "Epoch 11/99\n",
      "1/1 - 0s - loss: 0.3796\n",
      "Epoch 12/99\n",
      "1/1 - 0s - loss: 0.3617\n",
      "Epoch 13/99\n",
      "1/1 - 0s - loss: 0.3439\n",
      "Epoch 14/99\n",
      "1/1 - 0s - loss: 0.3319\n",
      "Epoch 15/99\n",
      "1/1 - 0s - loss: 0.3108\n",
      "Epoch 16/99\n",
      "1/1 - 0s - loss: 0.2983\n",
      "Epoch 17/99\n",
      "1/1 - 0s - loss: 0.2856\n",
      "Epoch 18/99\n",
      "1/1 - 0s - loss: 0.2702\n",
      "Epoch 19/99\n",
      "1/1 - 0s - loss: 0.2558\n",
      "Epoch 20/99\n",
      "1/1 - 0s - loss: 0.2417\n",
      "Epoch 21/99\n",
      "1/1 - 0s - loss: 0.2229\n",
      "Epoch 22/99\n",
      "1/1 - 0s - loss: 0.2080\n",
      "Epoch 23/99\n",
      "1/1 - 0s - loss: 0.1968\n",
      "Epoch 24/99\n",
      "1/1 - 0s - loss: 0.1662\n",
      "Epoch 25/99\n",
      "1/1 - 0s - loss: 0.1528\n",
      "Epoch 26/99\n",
      "1/1 - 0s - loss: 0.1409\n",
      "Epoch 27/99\n",
      "1/1 - 0s - loss: 0.1236\n",
      "Epoch 28/99\n",
      "1/1 - 0s - loss: 0.1105\n",
      "Epoch 29/99\n",
      "1/1 - 0s - loss: 0.1088\n",
      "Epoch 30/99\n",
      "1/1 - 0s - loss: 0.0946\n",
      "Epoch 31/99\n",
      "1/1 - 0s - loss: 0.0863\n",
      "Epoch 32/99\n",
      "1/1 - 0s - loss: 0.0722\n",
      "Epoch 33/99\n",
      "1/1 - 0s - loss: 0.0672\n",
      "Epoch 34/99\n",
      "1/1 - 0s - loss: 0.0602\n",
      "Epoch 35/99\n",
      "1/1 - 0s - loss: 0.0526\n",
      "Epoch 36/99\n",
      "1/1 - 0s - loss: 0.0558\n",
      "Epoch 37/99\n",
      "1/1 - 0s - loss: 0.0536\n",
      "Epoch 38/99\n",
      "1/1 - 0s - loss: 0.0535\n",
      "Epoch 39/99\n",
      "1/1 - 0s - loss: 0.0574\n",
      "Epoch 40/99\n",
      "1/1 - 0s - loss: 0.0481\n",
      "Epoch 41/99\n",
      "1/1 - 0s - loss: 0.0527\n",
      "Epoch 42/99\n",
      "1/1 - 0s - loss: 0.0632\n",
      "Epoch 43/99\n",
      "1/1 - 0s - loss: 0.0587\n",
      "Epoch 44/99\n",
      "1/1 - 0s - loss: 0.0550\n",
      "Epoch 45/99\n",
      "1/1 - 0s - loss: 0.0540\n",
      "Epoch 46/99\n",
      "1/1 - 0s - loss: 0.0492\n",
      "Epoch 47/99\n",
      "1/1 - 0s - loss: 0.0489\n",
      "Epoch 48/99\n",
      "1/1 - 0s - loss: 0.0500\n",
      "Epoch 49/99\n",
      "1/1 - 0s - loss: 0.0455\n",
      "Epoch 50/99\n",
      "1/1 - 0s - loss: 0.0445\n",
      "Epoch 51/99\n",
      "1/1 - 0s - loss: 0.0490\n",
      "Epoch 52/99\n",
      "1/1 - 0s - loss: 0.0441\n",
      "Epoch 53/99\n",
      "1/1 - 0s - loss: 0.0397\n",
      "Epoch 54/99\n",
      "1/1 - 0s - loss: 0.0437\n",
      "Epoch 55/99\n",
      "1/1 - 0s - loss: 0.0381\n",
      "Epoch 56/99\n",
      "1/1 - 0s - loss: 0.0404\n",
      "Epoch 57/99\n",
      "1/1 - 0s - loss: 0.0369\n",
      "Epoch 58/99\n",
      "1/1 - 0s - loss: 0.0421\n",
      "Epoch 59/99\n",
      "1/1 - 0s - loss: 0.0371\n",
      "Epoch 60/99\n",
      "1/1 - 0s - loss: 0.0378\n",
      "Epoch 61/99\n",
      "1/1 - 0s - loss: 0.0355\n",
      "Epoch 62/99\n",
      "1/1 - 0s - loss: 0.0323\n",
      "Epoch 63/99\n",
      "1/1 - 0s - loss: 0.0371\n",
      "Epoch 64/99\n",
      "1/1 - 0s - loss: 0.0378\n",
      "Epoch 65/99\n",
      "1/1 - 0s - loss: 0.0331\n",
      "Epoch 66/99\n",
      "1/1 - 0s - loss: 0.0309\n",
      "Epoch 67/99\n",
      "1/1 - 0s - loss: 0.0319\n",
      "Epoch 68/99\n",
      "1/1 - 0s - loss: 0.0289\n",
      "Epoch 69/99\n",
      "1/1 - 0s - loss: 0.0264\n",
      "Epoch 70/99\n",
      "1/1 - 0s - loss: 0.0287\n",
      "Epoch 71/99\n",
      "1/1 - 0s - loss: 0.0315\n",
      "Epoch 72/99\n",
      "1/1 - 0s - loss: 0.0255\n",
      "Epoch 73/99\n",
      "1/1 - 0s - loss: 0.0234\n",
      "Epoch 74/99\n",
      "1/1 - 0s - loss: 0.0253\n",
      "Epoch 75/99\n",
      "1/1 - 0s - loss: 0.0252\n",
      "Epoch 76/99\n",
      "1/1 - 0s - loss: 0.0260\n",
      "Epoch 77/99\n",
      "1/1 - 0s - loss: 0.0221\n",
      "Epoch 78/99\n",
      "1/1 - 0s - loss: 0.0236\n",
      "Epoch 79/99\n",
      "1/1 - 0s - loss: 0.0207\n",
      "Epoch 80/99\n",
      "1/1 - 0s - loss: 0.0232\n",
      "Epoch 81/99\n",
      "1/1 - 0s - loss: 0.0255\n",
      "Epoch 82/99\n",
      "1/1 - 0s - loss: 0.0226\n",
      "Epoch 83/99\n",
      "1/1 - 0s - loss: 0.0206\n",
      "Epoch 84/99\n",
      "1/1 - 0s - loss: 0.0206\n",
      "Epoch 85/99\n",
      "1/1 - 0s - loss: 0.0220\n",
      "Epoch 86/99\n",
      "1/1 - 0s - loss: 0.0193\n",
      "Epoch 87/99\n",
      "1/1 - 0s - loss: 0.0199\n",
      "Epoch 88/99\n",
      "1/1 - 0s - loss: 0.0188\n",
      "Epoch 89/99\n",
      "1/1 - 0s - loss: 0.0222\n",
      "Epoch 90/99\n",
      "1/1 - 0s - loss: 0.0245\n",
      "Epoch 91/99\n",
      "1/1 - 0s - loss: 0.0196\n",
      "Epoch 92/99\n",
      "1/1 - 0s - loss: 0.0190\n",
      "Epoch 93/99\n",
      "1/1 - 0s - loss: 0.0180\n",
      "Epoch 94/99\n",
      "1/1 - 0s - loss: 0.0193\n",
      "Epoch 95/99\n",
      "1/1 - 0s - loss: 0.0241\n",
      "Epoch 96/99\n",
      "1/1 - 0s - loss: 0.0184\n",
      "Epoch 97/99\n",
      "1/1 - 0s - loss: 0.0196\n",
      "Epoch 98/99\n",
      "1/1 - 0s - loss: 0.0165\n",
      "Epoch 99/99\n",
      "1/1 - 0s - loss: 0.0210\n"
     ]
    }
   ],
   "source": [
    "LSTMDropout_model = keras.models.Sequential([\n",
    "    keras.layers.LSTM(16,\n",
    "                      input_shape=(all_train_x_norm.shape[1],all_train_x_norm.shape[2]),\n",
    "                      return_sequences=True,\n",
    "                      dropout=0.3,\n",
    "                      recurrent_dropout=0.3,\n",
    "                      kernel_constraint=keras.constraints.max_norm(max_value=1),\n",
    "                      recurrent_constraint=keras.constraints.max_norm(max_value=1),\n",
    "                      ),\n",
    "    \n",
    "    keras.layers.LSTM(16,\n",
    "                    return_sequences=True,\n",
    "                    dropout=0.3,\n",
    "                    recurrent_dropout=0.3,\n",
    "                    kernel_constraint=keras.constraints.max_norm(max_value=1),\n",
    "                    recurrent_constraint=keras.constraints.max_norm(max_value=1),\n",
    "                     ),\n",
    "    \n",
    "    keras.layers.LSTM(16,\n",
    "                    return_sequences=False,\n",
    "                    dropout=0.3,\n",
    "                    recurrent_dropout=0.3,\n",
    "                    kernel_constraint=keras.constraints.max_norm(max_value=1),\n",
    "                    recurrent_constraint=keras.constraints.max_norm(max_value=1),\n",
    "                    ),\n",
    "    \n",
    "    keras.layers.Dense(2, kernel_initializer='he_normal')\n",
    "])\n",
    "\n",
    "LSTMDropout_model.compile(loss='mean_squared_error', optimizer=keras.optimizers.Adam(lr=1e-3))\n",
    "LSTMDropout_model.summary()\n",
    "\n",
    "\n",
    "LSTMDropout_history = LSTMDropout_model.fit(all_train_x_norm, all_train_y_norm,\n",
    "                    epochs=99,\n",
    "                    batch_size=128, \n",
    "                    verbose=2\n",
    "                   )"
   ]
  },
  {
   "cell_type": "markdown",
   "metadata": {},
   "source": [
    "### RMSE of new Model:"
   ]
  },
  {
   "cell_type": "code",
   "execution_count": 61,
   "metadata": {},
   "outputs": [
    {
     "name": "stdout",
     "output_type": "stream",
     "text": [
      "RMSE of new model:\n"
     ]
    },
    {
     "data": {
      "text/plain": [
       "3.367518606343815"
      ]
     },
     "execution_count": 61,
     "metadata": {},
     "output_type": "execute_result"
    }
   ],
   "source": [
    "y_pred_test= LSTMDropout_model.predict(test_x_norm)\n",
    "y_test_unsc = scaler_y.inverse_transform(test_y_norm)\n",
    "y_pred_test_unsc = scaler_y.inverse_transform(y_pred_test)\n",
    "print('RMSE of new model:')\n",
    "np.sqrt(mean_squared_error(y_pred_test_unsc, y_test_unsc))  "
   ]
  },
  {
   "cell_type": "markdown",
   "metadata": {},
   "source": [
    "### Effect to prediction of a single sequence"
   ]
  },
  {
   "cell_type": "markdown",
   "metadata": {},
   "source": [
    "Bring data in the LSTM format:"
   ]
  },
  {
   "cell_type": "code",
   "execution_count": 62,
   "metadata": {},
   "outputs": [],
   "source": [
    "def lstm_format(data):\n",
    "    length_cc4 = 15.42\n",
    "    seq_len = 5\n",
    "    features = []\n",
    "    labels = []\n",
    "    data_set = {}\n",
    "\n",
    "    for _, group in data.groupby('seq_id'):\n",
    "        for i in range(len(group)-(seq_len-1)):\n",
    "            features.append(group[new_features].iloc[i:i+seq_len].to_numpy())   ##Achtung keys wieder ändern!\n",
    "            labels.append(group[label_keys].iloc[i+(seq_len-1)].to_numpy())\n",
    "\n",
    "    data_set['x'] = np.stack(features)\n",
    "    data_set['y'] = np.stack(labels)\n",
    "    return data_set\n",
    "\n",
    "test_seq = test_norm['seq_id'].drop_duplicates()\n",
    "\n",
    "x = {}\n",
    "y = {}\n",
    "for seq in test_seq:\n",
    "    df = lstm_format(test_norm[test_norm['seq_id']==seq])\n",
    "    x[seq]= df['x'].copy()\n",
    "    y[seq] = df['y'].copy()\n",
    "\n",
    "prediction = {}\n",
    "real_values = {}\n",
    "rmse = {}\n",
    "for seq in test_seq:\n",
    "    prediction[seq] = scaler_y.inverse_transform(LSTMDropout_model.predict(x[seq]))\n",
    "    real_values[seq] = scaler_y.inverse_transform(y[seq])\n",
    "    rmse[seq] = np.sqrt(mean_squared_error( prediction[seq],  real_values[seq]))  \n",
    "\n",
    "error = []\n",
    "for seq in test_seq:\n",
    "    error.append((rmse[seq], seq))"
   ]
  },
  {
   "cell_type": "code",
   "execution_count": 63,
   "metadata": {},
   "outputs": [
    {
     "data": {
      "text/plain": [
       "[(1.974470723152505, '471719_str_2'),\n",
       " (1.974470723152505, '471724_str_2'),\n",
       " (1.974470723152505, '471728_str_2'),\n",
       " (4.333800698181356, '471719_str_1'),\n",
       " (4.333800698181356, '471724_str_1'),\n",
       " (4.333800698181356, '471728_str_1')]"
      ]
     },
     "execution_count": 63,
     "metadata": {},
     "output_type": "execute_result"
    }
   ],
   "source": [
    "sorted(error)"
   ]
  },
  {
   "cell_type": "markdown",
   "metadata": {},
   "source": [
    "Look at new prediction:"
   ]
  },
  {
   "cell_type": "code",
   "execution_count": 64,
   "metadata": {
    "scrolled": false
   },
   "outputs": [
    {
     "name": "stdout",
     "output_type": "stream",
     "text": [
      "RMSE: 1.974470723152505\n"
     ]
    },
    {
     "data": {
      "image/png": "[encoded data removed]",
      "text/plain": [
       "<Figure size 432x360 with 1 Axes>"
      ]
     },
     "metadata": {},
     "output_type": "display_data"
    }
   ],
   "source": [
    "sequences_name = '471719_str_2'\n",
    "\n",
    "fig, (ax1) = plt.subplots(1, figsize=(6, 5),  sharex=True, sharey=True)\n",
    "ax1.plot(real_values[sequences_name][:,:1], color='black', label='Measured Temperature')\n",
    "ax1.plot(prediction[sequences_name][:,:1], color='blue', label='Predicted Temperature')\n",
    "ax1.legend(loc='best')\n",
    "#ax1.set_title('Comparison Between Measured and Predicted Temperatures for Sequence '+str(sequences_name))\n",
    "ax1.set_ylabel('Temperature')\n",
    "ax1.tick_params(axis='both', which='both', labelbottom=True)\n",
    "ax1.grid()\n",
    "ax1.set_xlabel('Minutes', fontsize=15)\n",
    "ax1.set_ylabel('Temperature [°C]',fontsize=15)\n",
    "ax1.set(yticks=[]) \n",
    "\n",
    "print('RMSE:', rmse[sequences_name] )"
   ]
  }
 ],
 "metadata": {
  "kernelspec": {
   "display_name": "Python 3",
   "language": "python",
   "name": "python3"
  },
  "language_info": {
   "codemirror_mode": {
    "name": "ipython",
    "version": 3
   },
   "file_extension": ".py",
   "mimetype": "text/x-python",
   "name": "python",
   "nbconvert_exporter": "python",
   "pygments_lexer": "ipython3",
   "version": "3.8.3"
  }
 },
 "nbformat": 4,
 "nbformat_minor": 4
}
