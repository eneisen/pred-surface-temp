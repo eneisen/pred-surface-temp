{
 "cells": [
  {
   "cell_type": "markdown",
   "metadata": {},
   "source": [
    "### Install Packages"
   ]
  },
  {
   "cell_type": "code",
   "execution_count": 1,
   "metadata": {},
   "outputs": [],
   "source": [
    "import pandas as pd\n",
    "import numpy as np\n",
    "import matplotlib.pyplot as plt\n",
    "from IPython.display import display\n",
    "from sklearn.preprocessing import MinMaxScaler\n",
    "import json\n",
    "import seaborn as sns\n",
    "from numpy import asarray\n",
    "from numpy import save\n",
    "from numpy import load\n",
    "import pickle\n",
    "import joblib\n",
    "from sklearn.model_selection import train_test_split"
   ]
  },
  {
   "cell_type": "code",
   "execution_count": 2,
   "metadata": {},
   "outputs": [],
   "source": [
    "pd.set_option('display.max_columns', None)\n",
    "pd.set_option('display.max_rows', 1000)"
   ]
  },
  {
   "cell_type": "markdown",
   "metadata": {},
   "source": [
    "# Datapreparation for models with time dependence"
   ]
  },
  {
   "cell_type": "markdown",
   "metadata": {},
   "source": [
    "### Load combined and prepared time series data"
   ]
  },
  {
   "cell_type": "code",
   "execution_count": 3,
   "metadata": {},
   "outputs": [],
   "source": [
    "cc4_data = pd.read_csv(\"../data/ts_data.csv\") "
   ]
  },
  {
   "cell_type": "markdown",
   "metadata": {},
   "source": [
    "## Minutes a section needs to pass through the caster when casting speed is at the lowest "
   ]
  },
  {
   "cell_type": "code",
   "execution_count": 4,
   "metadata": {},
   "outputs": [
    {
     "data": {
      "text/plain": [
       "50"
      ]
     },
     "execution_count": 4,
     "metadata": {},
     "output_type": "execute_result"
    }
   ],
   "source": [
    "data = cc4_data.drop('seq_id', axis=1)\n",
    "combined_grouped = data.groupby(data['ChargenNrErsteSchmInSeq'])\n",
    "grouped = combined_grouped['GiessGeschwInMproMin'].mean().to_frame()\n",
    "length_cc4 = 15.42\n",
    "min_v = np.round(grouped.min(),2)\n",
    "seq_len = int(np.ceil(length_cc4 / min_v))\n",
    "seq_len\n"
   ]
  },
  {
   "cell_type": "markdown",
   "metadata": {},
   "source": [
    "## Define keys"
   ]
  },
  {
   "cell_type": "code",
   "execution_count": 5,
   "metadata": {},
   "outputs": [],
   "source": [
    "interesting = ['DATE_TIME','ChargenNr','GiessBeginn_DateTime',\n",
    "            'GiessEnde_DateTime','TempMittelLsInC','GiessLaengeSequenzInM',\n",
    "    'TempMittelFsInC','ChargenNrErsteSchmInSeq','GiessLaengeSchmelzeInM','AusfLaengeSchmelzeInM','seq_id']"
   ]
  },
  {
   "cell_type": "code",
   "execution_count": 6,
   "metadata": {},
   "outputs": [],
   "source": [
    "unwanted = ['DATE_TIME','TIME', 'ChargenNr', 'GiessBeginnSchmelze','GiessBeginn_DateTime',\n",
    "            'GiessEndeSchmelze','GiessEnde_DateTime','EndeSchmelze','Ende_DateTime','NrSchmelzeInSequenz',\n",
    "            \n",
    "            'WasserZ1FsInLproMin','WasserZ1LsInLproMin', 'WasserZ2bFsInLproMin','WasserZ4FsInLproMin',\n",
    "            'WasserZ4LsInLproMin','WasserZ3bLsInLproMin','WasserZ3bFsInLproMin','WasserZ1DiefflenInLproMin',\n",
    "            'WasserZ2bLsInLproMin','WasserZ1DillingenInLproMin','WasserZ2aLsInLproMin','WasserZ2aFsInLproMin',\n",
    "            'WasserZ5FsInLproMin','WasserZ5LsInLproMin','WasserZ3aFsInLproMin','WasserZ3aLsInLproMin',\n",
    "            'GiessGeschwInMproMin',  \n",
    "            'GiessGeschwInMproMin_integr','strang_nr','TempMittelLsInC_old','TempMittelFsInC_old',\n",
    "            'WasserZ1DiefflenInLproMin_integr', 'WasserZ1DillingenInLproMin_integr',\n",
    "            'GiessLaengeSchmelzeInM_delta', 'Format',\n",
    "           ]    "
   ]
  },
  {
   "cell_type": "code",
   "execution_count": 7,
   "metadata": {},
   "outputs": [],
   "source": [
    "cc4_keys = cc4_data.columns.to_list()\n",
    "column_keys = [key for key in cc4_keys if key not in unwanted]\n",
    "numeric_keys = column_keys.copy()\n",
    "numeric_keys.remove('seq_id')\n",
    "label_keys = ['TempMittelLsInC', 'TempMittelFsInC']\n",
    "feature_keys = [key for key in numeric_keys if key not in label_keys]\n",
    "feature_keys.remove('ChargenNrErsteSchmInSeq')\n",
    "wanted_keys = label_keys + feature_keys"
   ]
  },
  {
   "cell_type": "code",
   "execution_count": 8,
   "metadata": {},
   "outputs": [],
   "source": [
    "## save label and feature keys\n",
    "\n",
    "# with open('../data/lstm_mlp/label_keys', 'wb') as fp:\n",
    "#     pickle.dump(label_keys, fp)\n",
    "# with open('../data/lstm_mlp/feature_keys', 'wb') as fp:\n",
    "#     pickle.dump(feature_keys, fp)"
   ]
  },
  {
   "cell_type": "markdown",
   "metadata": {},
   "source": [
    "##  Begin when first meter has reached the pyrometer"
   ]
  },
  {
   "cell_type": "code",
   "execution_count": 9,
   "metadata": {},
   "outputs": [],
   "source": [
    "cc4_data = cc4_data[cc4_data['GiessLaengeSequenzInM']>length_cc4+1]  "
   ]
  },
  {
   "cell_type": "markdown",
   "metadata": {},
   "source": [
    "## Duplicate data and give different sequence name in order to have different sequences for different sets"
   ]
  },
  {
   "cell_type": "code",
   "execution_count": 10,
   "metadata": {},
   "outputs": [],
   "source": [
    "cc4_data_old = cc4_data.copy()\n",
    "for i in range(1,11):\n",
    "    cc4_data_1 = cc4_data_old.copy()\n",
    "    cc4_data_1['ChargenNrErsteSchmInSeq'] = cc4_data_1['ChargenNrErsteSchmInSeq'] + i #new sequence with same values\n",
    "    cc4_data_1['seq_id'] =  str(cc4_data_1['ChargenNrErsteSchmInSeq']) + '_str_' + str(cc4_data_1['strang_nr'])\n",
    "    cc4_data = pd.concat([cc4_data, cc4_data_1])\n",
    "\n",
    "# change sequences id \n",
    "def seq_and_str_nr(row):\n",
    "    row['seq_id'] = str(row['ChargenNrErsteSchmInSeq']) + '_str_' + str(row['strang_nr'])\n",
    "    return row\n",
    "\n",
    "cc4_data = cc4_data.apply(seq_and_str_nr, axis=1)"
   ]
  },
  {
   "cell_type": "markdown",
   "metadata": {},
   "source": [
    "## Drop unwanted columns"
   ]
  },
  {
   "cell_type": "code",
   "execution_count": 11,
   "metadata": {},
   "outputs": [],
   "source": [
    "cc4_data = cc4_data.drop(unwanted, axis=1)"
   ]
  },
  {
   "cell_type": "markdown",
   "metadata": {},
   "source": [
    "## create train-, validation- and test-set\n",
    "### don't split inbetween a sequence"
   ]
  },
  {
   "cell_type": "code",
   "execution_count": 12,
   "metadata": {},
   "outputs": [],
   "source": [
    "sequences = cc4_data.groupby('ChargenNrErsteSchmInSeq')\n",
    "seq_keys = list(sequences.groups.keys())\n",
    "\n",
    "train_full_keys, test_keys = train_test_split(seq_keys, test_size=0.25,random_state=42)\n",
    "train_keys, valid_keys = train_test_split(train_full_keys, test_size=0.25, random_state=42)"
   ]
  },
  {
   "cell_type": "code",
   "execution_count": 13,
   "metadata": {},
   "outputs": [],
   "source": [
    "## Save train, validation, test and all_train keys\n",
    "\n",
    "# with open('../data/lstm_mlp/train_keys', 'wb') as fp:\n",
    "#     pickle.dump(train_keys, fp)\n",
    "# with open('../data/lstm_mlp/valid_keys', 'wb') as fp:\n",
    "#     pickle.dump(valid_keys, fp)\n",
    "# with open('../data/lstm_mlp/test_keys', 'wb') as fp:\n",
    "#     pickle.dump(test_keys, fp)\n",
    "# with open('../data/lstm_mlp/all_train_keys', 'wb') as fp:\n",
    "#     pickle.dump(train_full_keys, fp)"
   ]
  },
  {
   "cell_type": "code",
   "execution_count": 14,
   "metadata": {},
   "outputs": [],
   "source": [
    "def create_set(key_set,data):\n",
    "    df = pd.DataFrame()\n",
    "    for key in key_set:\n",
    "        df2 = pd.DataFrame()\n",
    "        df2 = data[data['ChargenNrErsteSchmInSeq']==key]\n",
    "        df = pd.concat([df,df2],axis=0)\n",
    "    return df"
   ]
  },
  {
   "cell_type": "code",
   "execution_count": 15,
   "metadata": {},
   "outputs": [],
   "source": [
    "train_data = create_set(train_keys, cc4_data).reset_index(drop=True)\n",
    "valid_data = create_set(valid_keys, cc4_data).reset_index(drop=True)\n",
    "test_data = create_set(test_keys, cc4_data).reset_index(drop=True)\n",
    "all_train_data = pd.concat([train_data, valid_data], axis=0).reset_index(drop=True)"
   ]
  },
  {
   "cell_type": "code",
   "execution_count": 16,
   "metadata": {
    "scrolled": false
   },
   "outputs": [
    {
     "data": {
      "text/plain": [
       "[[]]"
      ]
     },
     "execution_count": 16,
     "metadata": {},
     "output_type": "execute_result"
    },
    {
     "data": {
      "image/png": "[encoded data removed]",
      "text/plain": [
       "<Figure size 720x864 with 6 Axes>"
      ]
     },
     "metadata": {
      "needs_background": "light"
     },
     "output_type": "display_data"
    }
   ],
   "source": [
    "fig, axes = plt.subplots(3, 2, figsize=(10,12),  sharex=True, sharey=True)\n",
    "\n",
    "sns.histplot(ax=axes[0,0], data=train_data, x='TempMittelLsInC',color=sns.color_palette()[0])\n",
    "sns.histplot(ax=axes[0,1], data=train_data, x='TempMittelFsInC',color=sns.color_palette()[0])\n",
    "sns.histplot(ax=axes[1,0] ,data=valid_data, x='TempMittelLsInC',color=sns.color_palette()[0])\n",
    "sns.histplot(ax=axes[1,1] ,data=valid_data, x='TempMittelFsInC',color=sns.color_palette()[0])\n",
    "sns.histplot(ax=axes[2,0], data=test_data, x='TempMittelLsInC',color=sns.color_palette()[0] )\n",
    "sns.histplot(ax=axes[2,1], data=test_data, x='TempMittelFsInC', color=sns.color_palette()[0])\n",
    "\n",
    "axes[0,0].set_title('Training Set', fontdict={'fontsize':13} )\n",
    "axes[0,0].set(xticks=[]) \n",
    "axes[0,0].set_xlabel('Temperature [°C]', fontsize=13)\n",
    "axes[0,0].set_ylabel('Count', fontsize=13)\n",
    "axes[0,0].yaxis.grid(True)\n",
    "axes[0,0].set(xticks=[]) \n",
    "\n",
    "axes[0,1].set_title('Training Set', fontdict={'fontsize':13} )\n",
    "axes[0,1].set(xticks=[]) \n",
    "axes[0,1].set_xlabel('Temperature [°C]', fontsize=13)\n",
    "axes[0,1].set_ylabel('Count', fontsize=13)\n",
    "axes[0,1].yaxis.grid(True)\n",
    "axes[0,1].set(xticks=[]) \n",
    "\n",
    "axes[1,0].set_title('Validation Set', fontdict={'fontsize':13} )\n",
    "axes[1,0].set(xticks=[]) \n",
    "axes[1,0].set_xlabel('Temperature [°C]', fontsize=13)\n",
    "axes[1,0].set_ylabel('Count', fontsize=13)\n",
    "axes[1,0].yaxis.grid(True)\n",
    "axes[1,0].set(xticks=[]) \n",
    "\n",
    "axes[1,1].set_title('Validation Set', fontdict={'fontsize':13} )\n",
    "axes[1,1].set(xticks=[]) \n",
    "axes[1,1].set_xlabel('Temperature [°C]', fontsize=13)\n",
    "axes[1,1].set_ylabel('Count', fontsize=13)\n",
    "axes[1,1].yaxis.grid(True)\n",
    "axes[1,1].set(xticks=[]) \n",
    "\n",
    "axes[2,0].set_title('Test Set', fontdict={'fontsize':13} )\n",
    "axes[2,0].set(xticks=[]) \n",
    "axes[2,0].set_xlabel('Temperature Loose Side [°C]', fontsize=13)\n",
    "axes[2,0].set_ylabel('Count', fontsize=13)\n",
    "axes[2,0].yaxis.grid(True)\n",
    "axes[2,0].set(xticks=[]) \n",
    "\n",
    "axes[2,1].set_title('Test Set', fontdict={'fontsize':13} )\n",
    "axes[2,1].set(xticks=[]) \n",
    "axes[2,1].set_xlabel('Temperature Fixed Side [°C]', fontsize=13)\n",
    "axes[2,1].set_ylabel('Count', fontsize=13)\n",
    "axes[2,1].yaxis.grid(True)\n",
    "axes[2,1].set(xticks=[]) \n",
    "\n",
    "\n",
    "\n"
   ]
  },
  {
   "cell_type": "code",
   "execution_count": 17,
   "metadata": {},
   "outputs": [],
   "source": [
    "# train_data.to_pickle(\"../data/lstm_mlp/train_unsc_ts.pkl\")\n",
    "# valid_data.to_pickle(\"../data/lstm_mlp/valid_unsc_ts.pkl\")\n",
    "# test_data.to_pickle(\"../data/lstm_mlp/test_unsc_ts.pkl\")\n",
    "# all_train_data.to_pickle(\"../data/lstm_mlp/all_train_unsc_ts.pkl\")"
   ]
  },
  {
   "cell_type": "markdown",
   "metadata": {},
   "source": [
    "### Normalize data"
   ]
  },
  {
   "cell_type": "code",
   "execution_count": 18,
   "metadata": {},
   "outputs": [],
   "source": [
    "#save ids since they are needed later\n",
    "id_train = train_data['seq_id'].to_frame()\n",
    "id_valid = valid_data['seq_id'].to_frame()\n",
    "id_test = test_data['seq_id'].to_frame()\n",
    "id_all_train = all_train_data['seq_id'].to_frame()\n",
    "\n",
    "#train set and validation set\n",
    "scaler_x_train = MinMaxScaler(feature_range=(0,1))\n",
    "train_x = scaler_x_train.fit_transform(train_data[feature_keys])\n",
    "df_train_x_norm = pd.DataFrame(train_x, columns=feature_keys)\n",
    "valid_x = scaler_x_train.transform(valid_data[feature_keys])\n",
    "df_valid_x_norm = pd.DataFrame(valid_x, columns=feature_keys)\n",
    "\n",
    "scaler_y_train = MinMaxScaler(feature_range=(0,1))\n",
    "train_y = scaler_y_train.fit_transform(train_data[label_keys])\n",
    "df_train_y_norm = pd.DataFrame(train_y, columns=label_keys)\n",
    "valid_y = scaler_y_train.transform(valid_data[label_keys])\n",
    "df_valid_y_norm = pd.DataFrame(valid_y, columns=label_keys)\n",
    "\n",
    "#all the training data\n",
    "scaler_x = MinMaxScaler(feature_range=(0,1))\n",
    "all_x = scaler_x.fit_transform(all_train_data[feature_keys])\n",
    "df_all_x_norm = pd.DataFrame(all_x, columns=feature_keys)\n",
    "test_x = scaler_x.transform(test_data[feature_keys])\n",
    "df_test_x_norm = pd.DataFrame(test_x, columns=feature_keys)\n",
    "\n",
    "scaler_y = MinMaxScaler(feature_range=(0,1))\n",
    "all_y = scaler_y.fit_transform(all_train_data[label_keys])\n",
    "df_all_y_norm = pd.DataFrame(all_y, columns=label_keys)\n",
    "test_y = scaler_y.transform(test_data[label_keys])\n",
    "df_test_y_norm = pd.DataFrame(test_y, columns=label_keys)\n",
    "\n",
    "#create one dataframe\n",
    "train_norm = pd.concat([df_train_y_norm, df_train_x_norm], axis=1)\n",
    "valid_norm = pd.concat([df_valid_y_norm, df_valid_x_norm], axis=1)\n",
    "test_norm = pd.concat([df_test_y_norm, df_test_x_norm], axis=1)\n",
    "all_train_norm = pd.concat([df_all_y_norm, df_all_x_norm], axis=1)\n",
    "\n",
    "#add the ids again\n",
    "train_norm = pd.concat([train_norm,id_train],axis=1).reset_index(drop=True)\n",
    "valid_norm = pd.concat([valid_norm,id_valid],axis=1).reset_index(drop=True)\n",
    "test_norm = pd.concat([test_norm,id_test],axis=1).reset_index(drop=True)\n",
    "all_train_norm = pd.concat([all_train_norm,id_all_train],axis=1).reset_index(drop=True)\n"
   ]
  },
  {
   "cell_type": "markdown",
   "metadata": {},
   "source": [
    "### Save Scaler"
   ]
  },
  {
   "cell_type": "code",
   "execution_count": 19,
   "metadata": {},
   "outputs": [],
   "source": [
    "# scaler_filename = \"../data/lstm_mlp/scaler_all_train_y.save\"\n",
    "# joblib.dump(scaler_y, scaler_filename)\n",
    "\n",
    "# scaler_filename = \"../data/lstm_mlp/scaler_all_train_x.save\"\n",
    "# joblib.dump(scaler_x, scaler_filename)\n",
    "\n",
    "# scaler_filename = \"../data/lstm_mlp/scaler_train_valid_y.save\"\n",
    "# joblib.dump(scaler_y_train, scaler_filename)\n",
    "\n",
    "# scaler_filename = \"../data/lstm_mlp/scaler_train_valid_x.save\"\n",
    "# joblib.dump(scaler_x_train, scaler_filename)"
   ]
  },
  {
   "cell_type": "markdown",
   "metadata": {},
   "source": [
    "### Save normalized data as pickle"
   ]
  },
  {
   "cell_type": "code",
   "execution_count": 20,
   "metadata": {},
   "outputs": [],
   "source": [
    "# train_norm.to_pickle(\"../data/lstm_mlp/train_scaled.pkl\")\n",
    "# valid_norm.to_pickle(\"../data/lstm_mlp/valid_scaled.pkl\")\n",
    "# test_norm.to_pickle(\"../data/lstm_mlp/test_scaled.pkl\")\n",
    "# all_train_norm.to_pickle(\"../data/lstm_mlp/all_train_scaled.pkl\")"
   ]
  },
  {
   "cell_type": "markdown",
   "metadata": {},
   "source": [
    "## Data preparation for LSTM Models"
   ]
  },
  {
   "cell_type": "markdown",
   "metadata": {},
   "source": [
    "### bring data in the right format\n",
    "LSTM format: (samples, timesteps, features). Since we only have limited data, we only use 5 time steps for each sample and not 50 time steps as with the full data."
   ]
  },
  {
   "cell_type": "code",
   "execution_count": 21,
   "metadata": {},
   "outputs": [],
   "source": [
    "def lstm_format(data):\n",
    "    seq_len = 5 ## only 5 time steps in for each prediction\n",
    "    features = []\n",
    "    labels = []\n",
    "    data_set = {}\n",
    "\n",
    "    for _, group in data.groupby('seq_id'):\n",
    "        for i in range(len(group)-(seq_len-1)):\n",
    "            features.append(group[feature_keys].iloc[i:i+seq_len].to_numpy())  \n",
    "            labels.append(group[label_keys].iloc[i+(seq_len-1)].to_numpy())\n",
    "\n",
    "    data_set['x'] = np.stack(features)\n",
    "    data_set['y'] = np.stack(labels)\n",
    "    return data_set"
   ]
  },
  {
   "cell_type": "code",
   "execution_count": 22,
   "metadata": {},
   "outputs": [],
   "source": [
    "train_n = lstm_format(train_norm)\n",
    "train_x_norm = train_n['x'].copy()\n",
    "train_y_norm = train_n['y'].copy()"
   ]
  },
  {
   "cell_type": "code",
   "execution_count": 23,
   "metadata": {},
   "outputs": [],
   "source": [
    "valid_n = lstm_format(valid_norm)\n",
    "valid_x_norm = valid_n['x'].copy()\n",
    "valid_y_norm = valid_n['y'].copy()"
   ]
  },
  {
   "cell_type": "code",
   "execution_count": 24,
   "metadata": {},
   "outputs": [],
   "source": [
    "test_n = lstm_format(test_norm)\n",
    "test_x_norm = test_n['x'].copy()\n",
    "test_y_norm = test_n['y'].copy()"
   ]
  },
  {
   "cell_type": "code",
   "execution_count": 25,
   "metadata": {},
   "outputs": [],
   "source": [
    "all_train_n = lstm_format(all_train_norm)\n",
    "all_train_x_norm = all_train_n['x'].copy()\n",
    "all_train_y_norm = all_train_n['y'].copy()"
   ]
  },
  {
   "cell_type": "markdown",
   "metadata": {},
   "source": [
    "### Save data sets for LSTM"
   ]
  },
  {
   "cell_type": "code",
   "execution_count": 26,
   "metadata": {},
   "outputs": [],
   "source": [
    "# save('../data/lstm_mlp/train_x_norm.npy', train_x_norm)\n",
    "# save('../data/lstm_mlp/train_y_norm.npy', train_y_norm)\n",
    "# save('../data/lstm_mlp/valid_x_norm.npy', valid_x_norm)\n",
    "# save('../data/lstm_mlp/valid_y_norm.npy', valid_y_norm)\n",
    "# save('../data/lstm_mlp/test_x_norm.npy', test_x_norm)\n",
    "# save('../data/lstm_mlp/test_y_norm.npy', test_y_norm)\n",
    "# save('../data/lstm_mlp/all_train_x_norm.npy', all_train_x_norm)\n",
    "# save('../data/lstm_mlp/all_train_y_norm.npy', all_train_y_norm)"
   ]
  }
 ],
 "metadata": {
  "kernelspec": {
   "display_name": "Python 3",
   "language": "python",
   "name": "python3"
  },
  "language_info": {
   "codemirror_mode": {
    "name": "ipython",
    "version": 3
   },
   "file_extension": ".py",
   "mimetype": "text/x-python",
   "name": "python",
   "nbconvert_exporter": "python",
   "pygments_lexer": "ipython3",
   "version": "3.8.3"
  }
 },
 "nbformat": 4,
 "nbformat_minor": 4
}
