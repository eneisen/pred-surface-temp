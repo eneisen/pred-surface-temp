{
 "cells": [
  {
   "cell_type": "code",
   "execution_count": null,
   "metadata": {},
   "outputs": [],
   "source": [
    "import tensorflow as tf\n",
    "import tensorflow.keras as keras\n",
    "import pandas as pd\n",
    "import numpy as np\n",
    "import matplotlib.pyplot as plt\n",
    "from scipy.stats import zscore\n",
    "from time import time\n",
    "import json\n",
    "import seaborn as sns\n",
    "from numpy import asarray\n",
    "from numpy import save\n",
    "from numpy import load\n",
    "import pickle\n",
    "import joblib\n",
    "import scipy\n",
    "from sklearn.metrics import mean_squared_error"
   ]
  },
  {
   "cell_type": "markdown",
   "metadata": {},
   "source": [
    "Set seed:"
   ]
  },
  {
   "cell_type": "code",
   "execution_count": null,
   "metadata": {},
   "outputs": [],
   "source": [
    "np.random.seed(42)\n",
    "tf.random.set_seed(42)"
   ]
  },
  {
   "cell_type": "code",
   "execution_count": null,
   "metadata": {},
   "outputs": [],
   "source": [
    "pd.set_option('display.max_columns', None)\n",
    "pd.set_option('display.max_rows', 1000)\n",
    "sns.set_style(\"white\")"
   ]
  },
  {
   "cell_type": "code",
   "execution_count": null,
   "metadata": {},
   "outputs": [],
   "source": [
    "sns.set_style(\"white\")"
   ]
  },
  {
   "cell_type": "markdown",
   "metadata": {},
   "source": [
    "### Load Data"
   ]
  },
  {
   "cell_type": "code",
   "execution_count": null,
   "metadata": {},
   "outputs": [],
   "source": [
    "with open ('../final_data/label_keys_ts.pkl', 'rb') as fp:\n",
    "    label_keys = pickle.load(fp)\n",
    "with open ('../final_data/feature_keys_ts.pkl', 'rb') as fp:\n",
    "    feature_keys = pickle.load(fp)    \n",
    "\n",
    "train_x = load('../final_data/train_x_norm.npy')\n",
    "train_y = load('../final_data/train_y_norm.npy')\n",
    "valid_x = load('../final_data/valid_x_norm.npy')\n",
    "valid_y = load('../final_data/valid_y_norm.npy')\n",
    "test_x = load('../final_data/test_x_norm.npy')\n",
    "test_y = load('../final_data/test_y_norm.npy')\n",
    "all_train_x = load('../final_data/all_train_x_norm.npy')\n",
    "all_train_y = load('../final_data/all_train_y_norm.npy')\n",
    "\n",
    "scaler_x = joblib.load(\"../final_data/scaler_x.save\") \n",
    "scaler_y = joblib.load(\"../final_data/scaler_y.save\") \n",
    "\n",
    "scaler_train_x = joblib.load(\"../final_data/scaler_train_x.save\") \n",
    "scaler_train_y = joblib.load(\"../final_data/scaler_train_y.save\")\n",
    "\n",
    "train_unsc = pd.read_pickle(\"../final_data/train_unsc.pkl\")\n",
    "valid_unsc = pd.read_pickle(\"../final_data/valid_unsc.pkl\")\n",
    "test_unsc = pd.read_pickle(\"../final_data/test_unsc.pkl\")\n",
    "all_train_unsc = pd.read_pickle(\"../final_data/all_train_unsc.pkl\")\n",
    "\n",
    "train_norm = pd.read_pickle(\"../final_data/train_norm.pkl\")\n",
    "valid_norm = pd.read_pickle(\"../final_data/valid_norm.pkl\")\n",
    "test_norm = pd.read_pickle(\"../final_data/test_norm.pkl\")\n",
    "all_train_norm = pd.read_pickle(\"../final_data/all_train_norm.pkl\")\n",
    "\n",
    "cc4_data = pd.read_pickle(\"../final_data/cc4_data.pkl\") "
   ]
  },
  {
   "cell_type": "code",
   "execution_count": null,
   "metadata": {},
   "outputs": [],
   "source": [
    "water_keys = ['WasserZ4FsInLproMin_integr',\n",
    " 'WasserZ4LsInLproMin_integr',\n",
    " 'WasserZ2bFsInLproMin_integr',\n",
    " 'WasserZ2bLsInLproMin_integr',\n",
    " 'WasserZ3bFsInLproMin_integr',\n",
    " 'WasserZ1FsInLproMin_integr',\n",
    " 'WasserZ3bLsInLproMin_integr',\n",
    " 'WasserZ1LsInLproMin_integr',\n",
    " 'WasserZ3aFsInLproMin_integr',\n",
    " 'WasserZ3aLsInLproMin_integr',\n",
    " 'WasserZ2aLsInLproMin_integr',\n",
    " 'WasserZ2aFsInLproMin_integr',\n",
    " 'WasserZ5LsInLproMin_integr',\n",
    " 'WasserZ5FsInLproMin_integr',\n",
    " ]\n",
    "\n",
    "feature_future_keys = [ele for ele in feature_keys if ele not in water_keys]\n",
    "\n",
    "columns = cc4_data.columns.to_list()"
   ]
  },
  {
   "cell_type": "markdown",
   "metadata": {},
   "source": [
    "### Load Model"
   ]
  },
  {
   "cell_type": "code",
   "execution_count": null,
   "metadata": {},
   "outputs": [],
   "source": [
    "model = keras.models.load_model(\"../final_data/models/LSTMDropout_model\")"
   ]
  },
  {
   "cell_type": "markdown",
   "metadata": {},
   "source": [
    "## First Optimization"
   ]
  },
  {
   "cell_type": "markdown",
   "metadata": {},
   "source": [
    "Set time point and steps in the future to optimize:"
   ]
  },
  {
   "cell_type": "code",
   "execution_count": null,
   "metadata": {},
   "outputs": [],
   "source": [
    "seq_id = '474261_str_1' \n",
    "dt = 30\n",
    "now = '2019-07-25 01:29:00+00:00'"
   ]
  },
  {
   "cell_type": "markdown",
   "metadata": {},
   "source": [
    "### Looking at actual water for t+30:"
   ]
  },
  {
   "cell_type": "code",
   "execution_count": null,
   "metadata": {},
   "outputs": [],
   "source": [
    "data = cc4_data[cc4_data['seq_id']==seq_id].reset_index(drop=True)\n",
    "position = data[data['DATE_TIME']==now].index\n",
    "real_water = data.loc[position[0]:position[0]+30][water_keys].reset_index(drop=True)"
   ]
  },
  {
   "cell_type": "code",
   "execution_count": null,
   "metadata": {
    "scrolled": true
   },
   "outputs": [],
   "source": [
    "fig, axes = plt.subplots( figsize=(20, 10),  sharex=True)\n",
    "sns.barplot(data=real_water[sorted(water_keys)], color='dodgerblue')\n",
    "plt.title('Real Water', fontsize=20, color='white') "
   ]
  },
  {
   "cell_type": "markdown",
   "metadata": {},
   "source": [
    "### Function for optimization:"
   ]
  },
  {
   "cell_type": "markdown",
   "metadata": {},
   "source": [
    "Pseudocode for optimization, further explanation follows\n",
    "    # def getData(now, dt):\n",
    "                # data for LSTM\n",
    "                # features_past (t...t-49):\n",
    "                # features_future (except water) (t+1...t+30) \n",
    "                return features_past, features_future\n",
    " \n",
    "    # def predict(W, features_past, features_future):\n",
    "                # input = concat(features_past, concat(features_future, W))\n",
    "                # for 50er-Slice in input :\n",
    "                 T[t] = model.predict(50er-Slice)\n",
    "                # return T\n",
    " \n",
    "    # def cost(W, T_soll, features_past, features_future):\n",
    "                # T = predict(W, features_past, features_future)\n",
    "                # return sum(abs(T-T_soll))\n",
    "                \n",
    "    # def findBestWater(now, dt):\n",
    "                # features_past*, features_future* = getData(now, dt)\n",
    "                # W0 = mean of water for t...t-49\n",
    "                # W = optimize.minimize(lambda W: cost(W,T_soll*, features_past*,      \n",
    "                # features_future*),x0=W0)    \n",
    "               #  return W"
   ]
  },
  {
   "cell_type": "markdown",
   "metadata": {},
   "source": [
    "Function to get the data\n",
    "- all attributes for the features for t...t-49:features_past\n",
    "- all except the water attributes for the features for t+1...t+30:  features_future\n",
    "- casting target temperature: T_soll\n",
    "- scale all values between 0 and 1"
   ]
  },
  {
   "cell_type": "code",
   "execution_count": null,
   "metadata": {},
   "outputs": [],
   "source": [
    "def getData(now, dt, cc4_data, seq_id):\n",
    "    data = cc4_data[cc4_data['seq_id']==seq_id].reset_index(drop=True)\n",
    "    position = data[data['DATE_TIME']==now].index\n",
    "    \n",
    "    features_past = data.loc[(position[0]-49):position[0]]  ##features for past\n",
    "    features_past = features_past[feature_keys]\n",
    "    features_past_norm = pd.DataFrame(scaler_x.transform(features_past), columns=feature_keys)\n",
    "    features_future = data.loc[position[0]+1:position[0]+30]  ## features for future\n",
    "    features_future = features_future[feature_keys]\n",
    "    features_future_norm = pd.DataFrame(scaler_x.transform(features_future), columns=feature_keys)\n",
    "    features_future_norm = features_future_norm[feature_future_keys]\n",
    "    T_soll = np.array([cc4_data['ZielTempTreiberInC'].loc[position[0]:position[0]+30],\n",
    "          cc4_data['ZielTempTreiberInC'].loc[position[0]:position[0]+30]]).transpose() ##casting target temperature\n",
    "    T_soll_norm = scaler_y.transform(T_soll)\n",
    "    return features_past_norm, features_future_norm, T_soll_norm"
   ]
  },
  {
   "cell_type": "markdown",
   "metadata": {},
   "source": [
    "Function to predict temperature:\n",
    "- combine optimized water W for future with features_future to features_future_new\n",
    "- combinde features_future_new and features_past to input_arr: All the features to make predictions for considered time steps\n",
    "- use model.predict to make prediction with model"
   ]
  },
  {
   "cell_type": "code",
   "execution_count": null,
   "metadata": {},
   "outputs": [],
   "source": [
    "def predict(W, features_past, features_future):\n",
    "    if isinstance(W, np.ndarray):\n",
    "        W = pd.DataFrame(W.reshape((30,14)), columns=water_keys)\n",
    "        \n",
    "    features_future_new = pd.concat([features_future, W], axis=1).reindex(feature_keys, axis=1)\n",
    "    input_arr = pd.concat([features_past,features_future_new], axis=0)\n",
    "    features_slice = []\n",
    "    feature_slice = [input_arr[i:i+50] for i in range(len(input_arr)-(50-1))]\n",
    "    \n",
    "    features= np.stack(feature_slice)\n",
    "        \n",
    "    T = model.predict(features)\n",
    "    return T"
   ]
  },
  {
   "cell_type": "markdown",
   "metadata": {},
   "source": [
    "objective function:\n",
    "- mean absolute error (MAE) between predicted temperature (calculated with function to predict temperature) and casting target temperature"
   ]
  },
  {
   "cell_type": "code",
   "execution_count": null,
   "metadata": {},
   "outputs": [],
   "source": [
    "def cost(W, T_soll, features_past, features_future):\n",
    "    T = predict(W, features_past, features_future)\n",
    "    return  np.mean(sum(abs(T-T_soll)))"
   ]
  },
  {
   "cell_type": "markdown",
   "metadata": {},
   "source": [
    "Nelder-Mead optimizer:\n",
    "- get all the data with get_data\n",
    "- use average cooling water quantities for Initial guess W0\n",
    "- use Nelder-Mead to optimize water quantities W for t+1...t+3, by minimizing objective function cost() (MAE between predicted and target temperature) where W is used.\n",
    "- return best W"
   ]
  },
  {
   "cell_type": "code",
   "execution_count": null,
   "metadata": {},
   "outputs": [],
   "source": [
    "def findBestWater(now, dt, cc4_data, strang_id):\n",
    "    features_past, features_future, T_soll = getData(now, dt, cc4_data, seq_id)\n",
    "    w = features_past[water_keys].mean().to_numpy().reshape((1,14)) ## water quantites fot t...t-4\n",
    "    W0 = pd.DataFrame(np.repeat(w, repeats=dt, axis=0), columns=water_keys) ## initial guess\n",
    "    W = scipy.optimize.minimize(lambda W: cost(W, T_soll, features_past, features_future) , x0=W0,\n",
    "                                 options={ 'disp':True,  'adaptive':True, 'maxfev':200000},  ##optimize W by minimizing \n",
    "                                method = 'Nelder-Mead',                 ## MAE between T_pred and T_soll\n",
    "                               )    \n",
    "    return W"
   ]
  },
  {
   "cell_type": "markdown",
   "metadata": {},
   "source": [
    "#### Either run optimization:"
   ]
  },
  {
   "cell_type": "code",
   "execution_count": null,
   "metadata": {},
   "outputs": [],
   "source": [
    "feature_keys"
   ]
  },
  {
   "cell_type": "code",
   "execution_count": null,
   "metadata": {
    "scrolled": true
   },
   "outputs": [],
   "source": [
    "# np.random.seed(42)\n",
    "# W_473289_str_1 = findBestWater(now, dt, cc4_data, seq_id)"
   ]
  },
  {
   "cell_type": "markdown",
   "metadata": {},
   "source": [
    "#### Or load results"
   ]
  },
  {
   "cell_type": "code",
   "execution_count": null,
   "metadata": {},
   "outputs": [],
   "source": [
    "with open ('../final_data/optimization_water_474261_str_1', 'rb') as fp:\n",
    "    W = pickle.load(fp)"
   ]
  },
  {
   "cell_type": "markdown",
   "metadata": {},
   "source": [
    "### Optimized water"
   ]
  },
  {
   "cell_type": "code",
   "execution_count": null,
   "metadata": {},
   "outputs": [],
   "source": [
    "w_opt = pd.DataFrame(W.x.reshape((30,14)), columns=water_keys)\n",
    "\n",
    "features_past, features_future, T_soll= getData(now, dt, cc4_data, seq_id)\n",
    "\n",
    "df_new_f = pd.concat([features_future[feature_future_keys], w_opt], axis=1).reindex(feature_keys, axis=1)\n",
    "water_opt_unsc = pd.DataFrame(scaler_x.inverse_transform(df_new_f), columns=feature_keys)[water_keys]"
   ]
  },
  {
   "cell_type": "code",
   "execution_count": null,
   "metadata": {},
   "outputs": [],
   "source": [
    "features_past, features_future, T_soll= getData(now, dt, cc4_data, seq_id)\n",
    "\n",
    "df_new_f = pd.concat([features_future[feature_future_keys], w_opt], axis=1).reindex(feature_keys, axis=1)\n",
    "water_opt_unsc = pd.DataFrame(scaler_x.inverse_transform(df_new_f), columns=feature_keys)[water_keys]"
   ]
  },
  {
   "cell_type": "code",
   "execution_count": null,
   "metadata": {},
   "outputs": [],
   "source": [
    "fig = plt.figure( figsize=(20, 10))\n",
    "sns.barplot(data=water_opt_unsc[sorted(water_opt_unsc.columns)], color='dodgerblue')\n",
    "plt.title('Real Water', fontsize=20, color='white') "
   ]
  },
  {
   "cell_type": "markdown",
   "metadata": {},
   "source": [
    "### W0"
   ]
  },
  {
   "cell_type": "code",
   "execution_count": null,
   "metadata": {},
   "outputs": [],
   "source": [
    "w = features_past[water_keys].mean().to_numpy().reshape((1,14))\n",
    "W0 = pd.DataFrame(np.repeat(w, repeats=dt, axis=0), columns=water_keys)\n",
    "\n",
    "data = cc4_data[cc4_data['seq_id']==seq_id].reset_index(drop=True)\n",
    "position = data[data['DATE_TIME']==now].index\n",
    "features_past_unsc = data.loc[(position[0]-4):position[0]]\n",
    "features_past_unsc = features_past_unsc[feature_keys]\n",
    "w_unsc = features_past_unsc[water_keys].mean().to_numpy().reshape((1,14))\n",
    "W0_unsc = pd.DataFrame(np.repeat(w_unsc, repeats=dt, axis=0), columns=water_keys)"
   ]
  },
  {
   "cell_type": "code",
   "execution_count": null,
   "metadata": {
    "scrolled": true
   },
   "outputs": [],
   "source": [
    "fig, axes = plt.subplots( figsize=(20, 10),  sharex=True)\n",
    "sns.barplot(data=W0_unsc[sorted(water_keys)], color='dodgerblue')\n",
    "plt.title('W0', fontsize=20, color='white') "
   ]
  },
  {
   "cell_type": "code",
   "execution_count": null,
   "metadata": {},
   "outputs": [],
   "source": [
    "real_water.rename(columns={'WasserZ4FsInLproMin_integr': 'Z4_FS_measured',\n",
    "                            'WasserZ4LsInLproMin_integr': 'Z4_LS_measured',\n",
    "                           'WasserZ2bFsInLproMin_integr': 'Z2b_FS_measured',\n",
    "                            'WasserZ2bLsInLproMin_integr': 'Z2b_LS_measured',\n",
    "                           'WasserZ3bFsInLproMin_integr': 'Z3b_FS_measured',\n",
    "                            'WasserZ3bLsInLproMin_integr': 'Z3b_LS_measured',\n",
    "                           'WasserZ3aFsInLproMin_integr': 'Z3a_FS_measured',\n",
    "                            'WasserZ3aLsInLproMin_integr': 'Z3a_LS_measured',\n",
    "                           'WasserZ2aFsInLproMin_integr': 'Z2a_FS_measured',\n",
    "                            'WasserZ2aLsInLproMin_integr': 'Z2a_LS_measured',\n",
    "                           'WasserZ5FsInLproMin_integr': 'Z5_FS_measured',\n",
    "                            'WasserZ5LsInLproMin_integr': 'Z5_LS_measured',\n",
    "                             'WasserZ1FsInLproMin_integr':'Z1_FS_measured',\n",
    "                            'WasserZ1LsInLproMin_integr':'Z1_LS_measured',\n",
    "                           }, inplace=True)"
   ]
  },
  {
   "cell_type": "code",
   "execution_count": null,
   "metadata": {},
   "outputs": [],
   "source": [
    "water_opt_unsc.rename(columns={'WasserZ4FsInLproMin_integr': 'Z4_FS_optimized',\n",
    "                            'WasserZ4LsInLproMin_integr': 'Z4_LS_optimized',\n",
    "                           'WasserZ2bFsInLproMin_integr': 'Z2b_FS_optimized',\n",
    "                            'WasserZ2bLsInLproMin_integr': 'Z2b_LS_optimized',\n",
    "                           'WasserZ3bFsInLproMin_integr': 'Z3b_FS_optimized',\n",
    "                            'WasserZ3bLsInLproMin_integr': 'Z3b_LS_optimized',\n",
    "                           'WasserZ3aFsInLproMin_integr': 'Z3a_FS_optimized',\n",
    "                            'WasserZ3aLsInLproMin_integr': 'Z3a_LS_optimized',\n",
    "                           'WasserZ2aFsInLproMin_integr': 'Z2a_FS_optimized',\n",
    "                            'WasserZ2aLsInLproMin_integr': 'Z2a_LS_optimized',\n",
    "                           'WasserZ5FsInLproMin_integr': 'Z5_FS_optimized',\n",
    "                            'WasserZ5LsInLproMin_integr': 'Z5_LS_optimized',\n",
    "                                 'WasserZ1FsInLproMin_integr':'Z1_FS_optimized',\n",
    "                            'WasserZ1LsInLproMin_integr':'Z1_LS_optimized',\n",
    "                           }, inplace=True)"
   ]
  },
  {
   "cell_type": "code",
   "execution_count": null,
   "metadata": {},
   "outputs": [],
   "source": [
    "real_water['type'] = 'measured water'\n",
    "water_opt_unsc['type'] = 'optimized water'\n",
    "df = pd.concat([real_water,water_opt_unsc])\n",
    "\n",
    "df = df.reindex(sorted(df.columns), axis=1)\n",
    "\n",
    "clrs = [sns.color_palette()[0] if x in real_water.columns else sns.color_palette()[1] for x in df.columns]"
   ]
  },
  {
   "cell_type": "code",
   "execution_count": null,
   "metadata": {},
   "outputs": [],
   "source": [
    "fig = plt.figure( figsize=(12, 10))\n",
    "sns.barplot(data=df[sorted(df.columns)],  palette=clrs, orient = 'h', ci=None)\n",
    "plt.title('Real Water', fontsize=20, color='white') "
   ]
  },
  {
   "cell_type": "markdown",
   "metadata": {},
   "source": [
    "## Compare prediction with optimized water to original prediction"
   ]
  },
  {
   "cell_type": "code",
   "execution_count": null,
   "metadata": {},
   "outputs": [],
   "source": [
    "y_opt = scaler_y.inverse_transform(predict(w_opt, features_past, features_future))\n",
    "\n",
    "T_soll_unsc = scaler_y.inverse_transform(T_soll)\n",
    "\n",
    "y_W0 = scaler_y.inverse_transform(predict(W0, features_past, features_future))\n",
    "\n",
    "data = cc4_data[cc4_data['seq_id']==seq_id].reset_index()\n",
    "position = data[data['DATE_TIME']==now].index\n",
    "real_temp = data.loc[position[0]:position[0]+30][label_keys].to_numpy()"
   ]
  },
  {
   "cell_type": "markdown",
   "metadata": {},
   "source": [
    "##### RMSE measured Temperature to casting target temperature"
   ]
  },
  {
   "cell_type": "code",
   "execution_count": null,
   "metadata": {},
   "outputs": [],
   "source": [
    "np.sqrt(mean_squared_error( real_temp, T_soll_unsc ))  "
   ]
  },
  {
   "cell_type": "markdown",
   "metadata": {},
   "source": [
    "##### RMSE predicted Temperature with optimized water to casting target temperature"
   ]
  },
  {
   "cell_type": "code",
   "execution_count": null,
   "metadata": {},
   "outputs": [],
   "source": [
    "np.sqrt(mean_squared_error( y_opt, T_soll_unsc ))  "
   ]
  },
  {
   "cell_type": "code",
   "execution_count": null,
   "metadata": {
    "scrolled": true
   },
   "outputs": [],
   "source": [
    "fig, (ax1) = plt.subplots(1, 1, figsize=(6, 5))\n",
    "ax1.plot(T_soll_unsc[:,:1], color='red', label='Target Temperature')\n",
    "ax1.plot(real_temp[:,:1], color='black', label='Measured Temperature')\n",
    "ax1.plot(y_opt[:,:1], color='blue', label='Prediction with Optimized Water')\n",
    "ax1.set_xlabel('Minutes', fontsize=15)\n",
    "ax1.set_ylabel('Temperatures [°C]', fontsize=15)\n",
    "plt.yticks(fontsize=13)\n",
    "plt.xticks(fontsize=13)\n",
    "ax1.legend(loc='best')\n",
    "ax1.legend(prop={'size': 12})\n",
    "ax1.set_ylim(710, 725)\n",
    "#ax1.set(yticks=[]) \n",
    "ax1.grid()"
   ]
  },
  {
   "cell_type": "code",
   "execution_count": null,
   "metadata": {
    "scrolled": true
   },
   "outputs": [],
   "source": [
    "fig, (ax1) = plt.subplots(1, 1, figsize=(6, 5))\n",
    "ax1.plot(T_soll_unsc[:,1:2], color='red', label='Target Temperature')\n",
    "ax1.plot(real_temp[:,1:2], color='black', label='Measured Temperature')\n",
    "ax1.plot(y_opt[:,1:2], color='blue', label='Prediction with Optimized Water')\n",
    "ax1.set_xlabel('Minutes', fontsize=15)\n",
    "ax1.set_ylabel('Temperatures [°C]', fontsize=15)\n",
    "plt.yticks(fontsize=13)\n",
    "plt.xticks(fontsize=13)\n",
    "ax1.legend(loc='best')\n",
    "ax1.legend(prop={'size': 12})\n",
    "ax1.set_ylim(710, 725)\n",
    "#ax1.set(yticks=[]) \n",
    "ax1.grid()"
   ]
  },
  {
   "cell_type": "markdown",
   "metadata": {},
   "source": [
    "### Compare water quantities"
   ]
  },
  {
   "cell_type": "markdown",
   "metadata": {},
   "source": [
    "#### Original water quantities"
   ]
  },
  {
   "cell_type": "code",
   "execution_count": null,
   "metadata": {
    "scrolled": true
   },
   "outputs": [],
   "source": [
    "fig, (ax1) = plt.subplots(1,1, figsize=(6, 5))\n",
    "sns.lineplot(data=real_water.reset_index(drop=True),\n",
    "             y='Z5_LS_measured',x=real_water.reset_index(drop=True).index,\n",
    "             ax=ax1, label='Z5')\n",
    "sns.lineplot(data=real_water.reset_index(drop=True),\n",
    "             y='Z4_LS_measured',x=real_water.reset_index(drop=True).index,\n",
    "             ax=ax1, label='Z4')\n",
    "sns.lineplot(data=real_water.reset_index(drop=True),\n",
    "             y='Z3b_LS_measured',x=real_water.reset_index(drop=True).index,\n",
    "             ax=ax1, label='Z3b')\n",
    "sns.lineplot(data=real_water.reset_index(drop=True),\n",
    "             y='Z3a_LS_measured',x=real_water.reset_index(drop=True).index,\n",
    "             ax=ax1, label='Z3a')\n",
    "sns.lineplot(data=real_water.reset_index(drop=True),\n",
    "             y='Z2b_LS_measured',x=real_water.reset_index(drop=True).index,\n",
    "             ax=ax1, label='Z2b')\n",
    "sns.lineplot(data=real_water.reset_index(drop=True),\n",
    "             y='Z2a_LS_measured',x=real_water.reset_index(drop=True).index,\n",
    "             ax=ax1, label='Z2a')\n",
    "sns.lineplot(data=real_water.reset_index(drop=True),\n",
    "             y='Z1_LS_measured',x=real_water.reset_index(drop=True).index,\n",
    "             ax=ax1, label='Z1')\n",
    "ax1.set_ylabel('Cooling Water [l]', fontsize=15)\n",
    "ax1.xaxis.grid(True)\n",
    "ax1.set_ylim(0, 400)\n",
    "ax1.set(yticks=[]) \n",
    "ax1.set_xlabel('Minutes', fontsize=15)\n",
    "ax1.legend(loc='upper left', prop={'size': 13})"
   ]
  },
  {
   "cell_type": "code",
   "execution_count": null,
   "metadata": {},
   "outputs": [],
   "source": [
    "fig.savefig('/home/di40438/bachelorarbeit/data/original_water_ls.png', format='png', dpi=200)"
   ]
  },
  {
   "cell_type": "code",
   "execution_count": null,
   "metadata": {},
   "outputs": [],
   "source": [
    "seq_number = '474261_str_1'\n",
    "fig, (ax1) = plt.subplots(1,1, figsize=(6, 5))\n",
    "sns.lineplot(data=real_water.reset_index(drop=True),\n",
    "             y='Z5_FS_measured',x=real_water.reset_index(drop=True).index,\n",
    "             ax=ax1, label='Cooling Water Z5')\n",
    "sns.lineplot(data=real_water.reset_index(drop=True),\n",
    "             y='Z4_FS_measured',x=real_water.reset_index(drop=True).index,\n",
    "             ax=ax1, label='Cooling Water Z4')\n",
    "sns.lineplot(data=real_water.reset_index(drop=True),\n",
    "             y='Z3b_FS_measured',x=real_water.reset_index(drop=True).index,\n",
    "             ax=ax1, label='Cooling Water Z3b')\n",
    "sns.lineplot(data=real_water.reset_index(drop=True),\n",
    "             y='Z3a_FS_measured',x=real_water.reset_index(drop=True).index,\n",
    "             ax=ax1, label='Cooling Water Z3a')\n",
    "sns.lineplot(data=real_water.reset_index(drop=True),\n",
    "             y='Z2b_FS_measured',x=real_water.reset_index(drop=True).index,\n",
    "             ax=ax1, label='Cooling Water Z2b')\n",
    "sns.lineplot(data=real_water.reset_index(drop=True),\n",
    "             y='Z2a_FS_measured',x=real_water.reset_index(drop=True).index,\n",
    "             ax=ax1, label='Cooling Water Z2a')\n",
    "sns.lineplot(data=real_water.reset_index(drop=True),\n",
    "             y='Z1_FS_measured',x=real_water.reset_index(drop=True).index,\n",
    "             ax=ax1, label='Cooling Water Z1')\n",
    "ax1.set_ylabel('Cooling Water [l]', fontsize=15)\n",
    "ax1.xaxis.grid(True)\n",
    "ax1.set_ylim(0, 400)\n",
    "#ax1.set(yticks=[]) \n",
    "ax1.set_xlabel('Minutes', fontsize=15)\n",
    "ax1.legend(loc='upper left', prop={'size': 13})\n"
   ]
  },
  {
   "cell_type": "markdown",
   "metadata": {},
   "source": [
    "#### Optimized water quantities"
   ]
  },
  {
   "cell_type": "code",
   "execution_count": null,
   "metadata": {
    "scrolled": true
   },
   "outputs": [],
   "source": [
    "fig, (ax1) = plt.subplots(1,1, figsize=(6, 5))\n",
    "sns.lineplot(data=water_opt_unsc.reset_index(drop=True),\n",
    "             y='Z5_LS_optimized',x=water_opt_unsc.reset_index(drop=True).index,\n",
    "             ax=ax1, label='Z5')\n",
    "sns.lineplot(data=water_opt_unsc.reset_index(drop=True),\n",
    "             y='Z4_LS_optimized',x=water_opt_unsc.reset_index(drop=True).index,\n",
    "             ax=ax1, label='Z4')\n",
    "sns.lineplot(data=water_opt_unsc.reset_index(drop=True),\n",
    "             y='Z3b_LS_optimized',x=water_opt_unsc.reset_index(drop=True).index,\n",
    "             ax=ax1, label='Z3b')\n",
    "sns.lineplot(data=water_opt_unsc.reset_index(drop=True),\n",
    "             y='Z3a_LS_optimized',x=water_opt_unsc.reset_index(drop=True).index,\n",
    "             ax=ax1, label='Z3a')\n",
    "sns.lineplot(data=water_opt_unsc.reset_index(drop=True),\n",
    "             y='Z2b_LS_optimized',x=water_opt_unsc.reset_index(drop=True).index,\n",
    "             ax=ax1, label='Z2b')\n",
    "sns.lineplot(data=water_opt_unsc.reset_index(drop=True),\n",
    "             y='Z2a_LS_optimized',x=water_opt_unsc.reset_index(drop=True).index,\n",
    "             ax=ax1, label='Z2a')\n",
    "sns.lineplot(data=water_opt_unsc.reset_index(drop=True),\n",
    "             y='Z1_LS_optimized',x=water_opt_unsc.reset_index(drop=True).index,\n",
    "             ax=ax1, label='Z1')\n",
    "ax1.set_ylabel('Cooling Water [l]', fontsize=15)\n",
    "ax1.xaxis.grid(True)\n",
    "ax1.set_ylim(0, 400)\n",
    "ax1.set(yticks=[]) \n",
    "ax1.set_xlabel('Minutes', fontsize=15)\n",
    "ax1.legend(loc='upper left', prop={'size': 13})"
   ]
  },
  {
   "cell_type": "code",
   "execution_count": null,
   "metadata": {},
   "outputs": [],
   "source": [
    "fig.savefig('/home/di40438/bachelorarbeit/data/optimized_water_ls.png', format='png', dpi=200)"
   ]
  },
  {
   "cell_type": "code",
   "execution_count": null,
   "metadata": {
    "scrolled": true
   },
   "outputs": [],
   "source": [
    "seq_number = '474261_str_1'\n",
    "fig, (ax1) = plt.subplots(1,1, figsize=(6, 5))\n",
    "sns.lineplot(data=water_opt_unsc.reset_index(drop=True),\n",
    "             y='Z5_FS_optimized',x=water_opt_unsc.reset_index(drop=True).index,\n",
    "             ax=ax1, label='Cooling Water Z5')\n",
    "sns.lineplot(data=water_opt_unsc.reset_index(drop=True),\n",
    "             y='Z4_FS_optimized',x=water_opt_unsc.reset_index(drop=True).index,\n",
    "             ax=ax1, label='Cooling Water Z4')\n",
    "sns.lineplot(data=water_opt_unsc.reset_index(drop=True),\n",
    "             y='Z3b_FS_optimized',x=water_opt_unsc.reset_index(drop=True).index,\n",
    "             ax=ax1, label='Cooling Water Z3b')\n",
    "sns.lineplot(data=water_opt_unsc.reset_index(drop=True),\n",
    "             y='Z3a_FS_optimized',x=water_opt_unsc.reset_index(drop=True).index,\n",
    "             ax=ax1, label='Cooling Water Z3a')\n",
    "sns.lineplot(data=water_opt_unsc.reset_index(drop=True),\n",
    "             y='Z2b_FS_optimized',x=water_opt_unsc.reset_index(drop=True).index,\n",
    "             ax=ax1, label='Cooling Water Z2b')\n",
    "sns.lineplot(data=water_opt_unsc.reset_index(drop=True),\n",
    "             y='Z2a_FS_optimized',x=water_opt_unsc.reset_index(drop=True).index,\n",
    "             ax=ax1, label='Cooling Water Z2a')\n",
    "sns.lineplot(data=water_opt_unsc.reset_index(drop=True),\n",
    "             y='Z1_FS_optimized',x=water_opt_unsc.reset_index(drop=True).index,\n",
    "             ax=ax1, label='Cooling Water Z1')\n",
    "ax1.set_ylabel('Cooling Water [l]', fontsize=15)\n",
    "ax1.xaxis.grid(True)\n",
    "ax1.set_ylim(0, 400)\n",
    "#ax1.set(yticks=[]) \n",
    "ax1.set_xlabel('Minutes', fontsize=15)\n",
    "ax1.legend(loc='upper left', prop={'size': 13})\n"
   ]
  }
 ],
 "metadata": {
  "kernelspec": {
   "display_name": "Python 3",
   "language": "python",
   "name": "python3"
  },
  "language_info": {
   "codemirror_mode": {
    "name": "ipython",
    "version": 3
   },
   "file_extension": ".py",
   "mimetype": "text/x-python",
   "name": "python",
   "nbconvert_exporter": "python",
   "pygments_lexer": "ipython3",
   "version": "3.9.5"
  }
 },
 "nbformat": 4,
 "nbformat_minor": 4
}
