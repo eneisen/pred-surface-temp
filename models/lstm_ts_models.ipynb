{
 "cells": [
  {
   "cell_type": "code",
   "execution_count": null,
   "metadata": {},
   "outputs": [],
   "source": [
    "import numpy as np\n",
    "import pandas as pd\n",
    "import matplotlib.pyplot as plt\n",
    "from numpy import asarray\n",
    "from numpy import save\n",
    "from numpy import load\n",
    "import tensorflow as tf\n",
    "import tensorflow.keras as keras\n",
    "import pickle\n",
    "import joblib\n",
    "from sklearn.metrics import mean_squared_error\n",
    "import seaborn as sns\n",
    "from tensorflow.keras import regularizers\n",
    "from sklearn.metrics import mean_squared_error\n",
    "import kerastuner as kt\n",
    "import scipy"
   ]
  },
  {
   "cell_type": "code",
   "execution_count": null,
   "metadata": {},
   "outputs": [],
   "source": [
    "pd.set_option('display.max_columns', None)\n",
    "pd.set_option('display.max_rows', 100)"
   ]
  },
  {
   "cell_type": "code",
   "execution_count": null,
   "metadata": {},
   "outputs": [],
   "source": [
    "import os\n",
    "os.environ[\"CUDA_VISIBLE_DEVICES\"]=\"1\""
   ]
  },
  {
   "cell_type": "code",
   "execution_count": null,
   "metadata": {},
   "outputs": [],
   "source": [
    "np.random.seed(43)\n",
    "tf.random.set_seed(43)"
   ]
  },
  {
   "cell_type": "code",
   "execution_count": null,
   "metadata": {},
   "outputs": [],
   "source": [
    "sns.set_style(\"white\")"
   ]
  },
  {
   "cell_type": "markdown",
   "metadata": {},
   "source": [
    "### Load Data"
   ]
  },
  {
   "cell_type": "code",
   "execution_count": null,
   "metadata": {},
   "outputs": [],
   "source": [
    "with open ('../final_data/label_keys_ts.pkl', 'rb') as fp:\n",
    "    label_keys = pickle.load(fp)\n",
    "with open ('../final_data/feature_keys_ts.pkl', 'rb') as fp:\n",
    "    feature_keys = pickle.load(fp)    \n",
    "\n",
    "train_x = load('../final_data/train_x_norm.npy')\n",
    "train_y = load('../final_data/train_y_norm.npy')\n",
    "valid_x = load('../final_data/valid_x_norm.npy')\n",
    "valid_y = load('../final_data/valid_y_norm.npy')\n",
    "test_x = load('../final_data/test_x_norm.npy')\n",
    "test_y = load('../final_data/test_y_norm.npy')\n",
    "all_train_x = load('../final_data/all_train_x_norm.npy')\n",
    "all_train_y = load('../final_data/all_train_y_norm.npy')\n",
    "\n",
    "scaler_x = joblib.load(\"../final_data/scaler_x.save\") \n",
    "scaler_y = joblib.load(\"../final_data/scaler_y.save\") \n",
    "\n",
    "scaler_train_x = joblib.load(\"../final_data/scaler_train_x.save\") \n",
    "scaler_train_y = joblib.load(\"../final_data/scaler_train_y.save\")\n",
    "\n",
    "train_norm = pd.read_pickle(\"../final_data/train_norm.pkl\")\n",
    "valid_norm = pd.read_pickle(\"../final_data/valid_norm.pkl\")\n",
    "test_norm = pd.read_pickle(\"../final_data/test_norm.pkl\")\n",
    "all_train_norm = pd.read_pickle(\"../final_data/all_train_norm.pkl\")"
   ]
  },
  {
   "cell_type": "markdown",
   "metadata": {},
   "source": [
    "## Loop function"
   ]
  },
  {
   "cell_type": "code",
   "execution_count": null,
   "metadata": {},
   "outputs": [],
   "source": [
    "def test_5_times(model, epochs, batch_size):\n",
    "    runs = 5\n",
    "    test_score = list()\n",
    "    train_score = list()\n",
    " \n",
    "    for i in range(runs):\n",
    "\n",
    "        np.random.seed(42 + i)\n",
    "        tf.random.set_seed(42 + i)\n",
    "\n",
    "\n",
    "\n",
    "        history = model.fit(all_train_x, all_train_y,\n",
    "                        epochs=epochs,\n",
    "                        batch_size=batch_size,\n",
    "                       )\n",
    "\n",
    "        y_pred_test = model.predict(test_x)\n",
    "        y_test_unsc = scaler_y.inverse_transform(test_y)\n",
    "        y_pred_test_unsc = scaler_y.inverse_transform(y_pred_test)\n",
    "\n",
    "        y_pred_train = model.predict(all_train_x)\n",
    "        y_train_unsc = scaler_y.inverse_transform(all_train_y)\n",
    "        y_pred_train_unsc = scaler_y.inverse_transform(y_pred_train)\n",
    "        \n",
    "        mse_test = np.sqrt(mean_squared_error(y_pred_test_unsc, y_test_unsc))  \n",
    "        test_score.append(mse_test)\n",
    "\n",
    "        mse_train = np.sqrt(mean_squared_error(y_pred_train_unsc, y_train_unsc))  \n",
    "        train_score.append(mse_train)\n",
    "\n",
    "    return  train_score, test_score\n"
   ]
  },
  {
   "cell_type": "markdown",
   "metadata": {},
   "source": [
    "## Simple LSTM"
   ]
  },
  {
   "cell_type": "code",
   "execution_count": null,
   "metadata": {},
   "outputs": [],
   "source": [
    "def build_simple_lstm():\n",
    "    LSTMSimple_model = keras.models.Sequential([\n",
    "    keras.layers.LSTM(32,\n",
    "                      input_shape=(all_train_x.shape[1],all_train_x.shape[2]),\n",
    "                      return_sequences=False),\n",
    "    \n",
    "    keras.layers.Dense(2, kernel_initializer='he_normal', activation='relu')\n",
    "    ])\n",
    "\n",
    "    LSTMSimple_model.compile(loss='mean_squared_error', optimizer=keras.optimizers.Adam(lr=1e-3))\n",
    "    LSTMSimple_model.summary()\n",
    "    \n",
    "    return LSTMSimple_model"
   ]
  },
  {
   "cell_type": "markdown",
   "metadata": {},
   "source": [
    "### Training"
   ]
  },
  {
   "cell_type": "code",
   "execution_count": null,
   "metadata": {},
   "outputs": [],
   "source": [
    "LSTMSimple_model = build_simple_lstm()\n",
    "LSTMSimple_model_history = LSTMSimple_model.fit(train_x, train_y,\n",
    "                    epochs=200,\n",
    "                    batch_size=128, \n",
    "                    validation_data=(valid_x, valid_y),\n",
    "                    verbose=2\n",
    "                   )       "
   ]
  },
  {
   "cell_type": "markdown",
   "metadata": {},
   "source": [
    "Load model"
   ]
  },
  {
   "cell_type": "code",
   "execution_count": null,
   "metadata": {},
   "outputs": [],
   "source": [
    "LSTMSimple_model_train = keras.models.load_model(\"../final_data/models/LSTMSimple_model\")\n",
    "hist_simple_lstm = pd.read_pickle(\"../final_data/hist_simple_lstm.pkl\")"
   ]
  },
  {
   "cell_type": "code",
   "execution_count": null,
   "metadata": {},
   "outputs": [],
   "source": [
    "## Calculate RMSE on training set\n",
    "y_pred_train = LSTMSimple_model_train.predict(train_x)\n",
    "y_train_unsc = scaler_train_y.inverse_transform(train_y)\n",
    "y_pred_train_unsc = scaler_train_y.inverse_transform(y_pred_train)\n",
    "np.sqrt(mean_squared_error(y_train_unsc, y_pred_train_unsc))                       "
   ]
  },
  {
   "cell_type": "code",
   "execution_count": null,
   "metadata": {},
   "outputs": [],
   "source": [
    "y_pred_valid= LSTMSimple_model_train.predict(valid_x)\n",
    "y_valid_unsc = scaler_train_y.inverse_transform(valid_y)\n",
    "y_pred_valid_unsc = scaler_train_y.inverse_transform(y_pred_valid)\n",
    "\n",
    "np.sqrt(mean_squared_error(y_pred_valid_unsc, y_valid_unsc))  "
   ]
  },
  {
   "cell_type": "code",
   "execution_count": null,
   "metadata": {
    "scrolled": true
   },
   "outputs": [],
   "source": [
    "pd.DataFrame(hist_simple_lstm).plot(figsize=(8, 5))\n",
    "plt.grid(True)\n",
    "plt.show()"
   ]
  },
  {
   "cell_type": "markdown",
   "metadata": {},
   "source": [
    "## Testing"
   ]
  },
  {
   "cell_type": "code",
   "execution_count": null,
   "metadata": {
    "scrolled": true
   },
   "outputs": [],
   "source": [
    "LSTMSimple_model_test = build_simple_lstm()\n",
    "LSTMSimple_model_history = LSTMSimple_model_test.fit(all_train_x, all_train_y,\n",
    "                    epochs=75,\n",
    "                    batch_size=128, \n",
    "                    verbose=2\n",
    "                   )             "
   ]
  },
  {
   "cell_type": "markdown",
   "metadata": {},
   "source": [
    "Load model"
   ]
  },
  {
   "cell_type": "code",
   "execution_count": null,
   "metadata": {},
   "outputs": [],
   "source": [
    "LSTMSimple_model_test = keras.models.load_model(\"../final_data/models/LSTMSimple_model_test\")"
   ]
  },
  {
   "cell_type": "code",
   "execution_count": null,
   "metadata": {},
   "outputs": [],
   "source": [
    "## Calculate RMSE on all training data\n",
    "y_pred_all_train = LSTMSimple_model_test.predict(all_train_x)\n",
    "y_all_train_unsc = scaler_y.inverse_transform(all_train_y)\n",
    "y_pred_all_train_unsc = scaler_y.inverse_transform(y_pred_all_train)\n",
    "np.sqrt(mean_squared_error(y_all_train_unsc, y_pred_all_train_unsc))         "
   ]
  },
  {
   "cell_type": "code",
   "execution_count": null,
   "metadata": {},
   "outputs": [],
   "source": [
    "y_pred_test= LSTMSimple_model_test.predict(test_x)\n",
    "y_test_unsc = scaler_y.inverse_transform(test_y)\n",
    "y_pred_test_unsc = scaler_y.inverse_transform(y_pred_test)\n",
    "np.sqrt(mean_squared_error(y_pred_test_unsc, y_test_unsc))  "
   ]
  },
  {
   "cell_type": "markdown",
   "metadata": {},
   "source": [
    "## Test 5 times"
   ]
  },
  {
   "cell_type": "code",
   "execution_count": null,
   "metadata": {},
   "outputs": [],
   "source": [
    "LSTMSimple_model = build_simple_lstm()\n",
    "epochs = 75\n",
    "batch_size = 128\n",
    "train_score, test_score = test_5_times(LSTMSimple_model, epochs, batch_size)"
   ]
  },
  {
   "cell_type": "code",
   "execution_count": null,
   "metadata": {},
   "outputs": [],
   "source": [
    "rmse_train_simple_lstm = pd.read_pickle(\"../final_data/rmse_train_simple_lstm.pkl\")\n",
    "rmse_test_simple_lstm = pd.read_pickle(\"../final_data/rmse_test_simple_lstm.pkl\")"
   ]
  },
  {
   "cell_type": "code",
   "execution_count": null,
   "metadata": {
    "scrolled": true
   },
   "outputs": [],
   "source": [
    "rmse_train_simple_lstm.describe()"
   ]
  },
  {
   "cell_type": "code",
   "execution_count": null,
   "metadata": {},
   "outputs": [],
   "source": [
    "rmse_test_simple_lstm.describe()"
   ]
  },
  {
   "cell_type": "markdown",
   "metadata": {},
   "source": [
    "## Simple LSTM with Dropout"
   ]
  },
  {
   "cell_type": "code",
   "execution_count": null,
   "metadata": {
    "scrolled": true
   },
   "outputs": [],
   "source": [
    "Simple_Dropout_model = keras.models.Sequential([\n",
    "        keras.layers.LSTM(32,\n",
    "                          input_shape=(all_train_x.shape[1],all_train_x.shape[2]),\n",
    "                          return_sequences=False,\n",
    "                          dropout=0.2,\n",
    "                          recurrent_dropout=0.2,\n",
    "                          ),\n",
    "        keras.layers.Dense(2, kernel_initializer='he_normal', activation='relu'),\n",
    "    ])\n",
    "\n",
    "Simple_Dropout_model.compile(loss='mean_squared_error', optimizer=keras.optimizers.Adam(lr=1e-3))\n",
    "Simple_Dropout_model.summary()\n",
    "    \n",
    "callback = tf.keras.callbacks.EarlyStopping(monitor='val_loss', patience=50)\n",
    "\n",
    "Simple_Dropout_model_history = Simple_Dropout_model.fit(train_x, train_y,\n",
    "                    epochs=200,\n",
    "                    batch_size=128, \n",
    "                    validation_data=(valid_x, valid_y),\n",
    "                    callbacks=[callback,],\n",
    "                    verbose=2\n",
    "                   )"
   ]
  },
  {
   "cell_type": "markdown",
   "metadata": {},
   "source": [
    "Load model"
   ]
  },
  {
   "cell_type": "code",
   "execution_count": null,
   "metadata": {},
   "outputs": [],
   "source": [
    "hist_simple_dropout = pd.read_pickle(\"../final_data/hist_simple_lstm_dropout.pkl\")\n",
    "LSTMSimple_dropout = keras.models.load_model(\"../final_data/models/LSTMSimple_dropout\")"
   ]
  },
  {
   "cell_type": "code",
   "execution_count": null,
   "metadata": {},
   "outputs": [],
   "source": [
    "LSTMSimple_dropout.summary()"
   ]
  },
  {
   "cell_type": "code",
   "execution_count": null,
   "metadata": {
    "scrolled": true
   },
   "outputs": [],
   "source": [
    "pd.DataFrame(hist_simple_dropout).plot(figsize=(8, 5))\n",
    "plt.grid(True)\n",
    "plt.show()"
   ]
  },
  {
   "cell_type": "code",
   "execution_count": null,
   "metadata": {},
   "outputs": [],
   "source": [
    "## Calculate RMSE on training set\n",
    "y_pred_train = LSTMSimple_dropout.predict(train_x)\n",
    "y_train_unsc = scaler_train_y.inverse_transform(train_y)\n",
    "y_pred_train_unsc = scaler_train_y.inverse_transform(y_pred_train)\n",
    "np.sqrt(mean_squared_error(y_train_unsc, y_pred_train_unsc))                       "
   ]
  },
  {
   "cell_type": "code",
   "execution_count": null,
   "metadata": {},
   "outputs": [],
   "source": [
    "y_pred_valid= LSTMSimple_dropout.predict(valid_x)\n",
    "y_valid_unsc = scaler_train_y.inverse_transform(valid_y)\n",
    "y_pred_valid_unsc = scaler_train_y.inverse_transform(y_pred_valid)\n",
    "\n",
    "np.sqrt(mean_squared_error(y_pred_valid_unsc, y_valid_unsc))  "
   ]
  },
  {
   "cell_type": "markdown",
   "metadata": {},
   "source": [
    "## Simple LSTM with Weight Regularization"
   ]
  },
  {
   "cell_type": "code",
   "execution_count": null,
   "metadata": {},
   "outputs": [],
   "source": [
    "Simple_Weight_model = keras.models.Sequential([\n",
    "        keras.layers.LSTM(32,\n",
    "                          input_shape=(all_train_x.shape[1],all_train_x.shape[2]),\n",
    "                          return_sequences=False,\n",
    "                          dropout=0.2,\n",
    "                          recurrent_dropout=0.2,\n",
    "                          ),\n",
    "        keras.layers.Dense(2, kernel_initializer='he_normal', activation='relu'),\n",
    "    ])\n",
    "\n",
    "Simple_Weight_model.compile(loss='mean_squared_error', optimizer=keras.optimizers.Adam(lr=1e-3))\n",
    "Simple_Weight_model.summary()\n",
    "    \n",
    "callback = tf.keras.callbacks.EarlyStopping(monitor='val_loss', patience=50)\n",
    "\n",
    "Simple_Weight_model_history = Simple_Weight_model.fit(train_x, train_y,\n",
    "                    epochs=500,\n",
    "                    batch_size=128, \n",
    "                    validation_data=(valid_x, valid_y),\n",
    "                    callbacks=[callback,],\n",
    "                    verbose=2\n",
    "                   )"
   ]
  },
  {
   "cell_type": "markdown",
   "metadata": {},
   "source": [
    "Load model"
   ]
  },
  {
   "cell_type": "code",
   "execution_count": null,
   "metadata": {},
   "outputs": [],
   "source": [
    "hist_simple_weight_reg = pd.read_pickle(\"../final_data/hist_simple_lstm_weight_reg.pkl\")\n",
    "LSTMSimple_weight_reg = keras.models.load_model(\"../final_data/models/LSTMSimple_weight_reg\")"
   ]
  },
  {
   "cell_type": "code",
   "execution_count": null,
   "metadata": {
    "scrolled": false
   },
   "outputs": [],
   "source": [
    "pd.DataFrame(hist_simple_weight_reg).plot(figsize=(8, 5))\n",
    "plt.grid(True)\n",
    "plt.show()"
   ]
  },
  {
   "cell_type": "code",
   "execution_count": null,
   "metadata": {},
   "outputs": [],
   "source": [
    "## Calculate RMSE on training set\n",
    "y_pred_train = LSTMSimple_weight_reg.predict(train_x)\n",
    "y_train_unsc = scaler_train_y.inverse_transform(train_y)\n",
    "y_pred_train_unsc = scaler_train_y.inverse_transform(y_pred_train)\n",
    "np.sqrt(mean_squared_error(y_train_unsc, y_pred_train_unsc))                       "
   ]
  },
  {
   "cell_type": "code",
   "execution_count": null,
   "metadata": {},
   "outputs": [],
   "source": [
    "y_pred_valid= LSTMSimple_weight_reg.predict(valid_x)\n",
    "y_valid_unsc = scaler_train_y.inverse_transform(valid_y)\n",
    "y_pred_valid_unsc = scaler_train_y.inverse_transform(y_pred_valid)\n",
    "\n",
    "np.sqrt(mean_squared_error(y_pred_valid_unsc, y_valid_unsc))  "
   ]
  },
  {
   "cell_type": "markdown",
   "metadata": {},
   "source": [
    "## LSTM with Dropout"
   ]
  },
  {
   "cell_type": "markdown",
   "metadata": {},
   "source": [
    "### Define Model"
   ]
  },
  {
   "cell_type": "code",
   "execution_count": null,
   "metadata": {
    "scrolled": true
   },
   "outputs": [],
   "source": [
    "def build_lstm_dropout():\n",
    "    LSTMDropout_model = keras.models.Sequential([\n",
    "        keras.layers.LSTM(16,\n",
    "                          input_shape=(all_train_x.shape[1],all_train_x.shape[2]),\n",
    "                          return_sequences=True,\n",
    "                          dropout=0.3,\n",
    "                          recurrent_dropout=0.3,\n",
    "                          kernel_constraint=keras.constraints.max_norm(max_value=1),\n",
    "                          recurrent_constraint=keras.constraints.max_norm(max_value=1),\n",
    "                          ),\n",
    "\n",
    "        keras.layers.LSTM(16,\n",
    "                        return_sequences=True,\n",
    "                        dropout=0.3,\n",
    "                        recurrent_dropout=0.3,\n",
    "                        kernel_constraint=keras.constraints.max_norm(max_value=1),\n",
    "                        recurrent_constraint=keras.constraints.max_norm(max_value=1),\n",
    "                         ),\n",
    "        \n",
    "        keras.layers.LSTM(16,\n",
    "                        return_sequences=False,\n",
    "                        dropout=0.3,\n",
    "                        recurrent_dropout=0.3,\n",
    "                        kernel_constraint=keras.constraints.max_norm(max_value=1),\n",
    "                        recurrent_constraint=keras.constraints.max_norm(max_value=1),\n",
    "                        ),\n",
    "\n",
    "        keras.layers.Dense(2, kernel_initializer='he_normal', activation='relu'),\n",
    "    ])\n",
    "\n",
    "    LSTMDropout_model.compile(loss='mean_squared_error', optimizer=keras.optimizers.Adam(lr=1e-3))\n",
    "    LSTMDropout_model.summary()\n",
    "    \n",
    "    return LSTMDropout_model"
   ]
  },
  {
   "cell_type": "markdown",
   "metadata": {},
   "source": [
    "### Training"
   ]
  },
  {
   "cell_type": "code",
   "execution_count": null,
   "metadata": {
    "scrolled": true
   },
   "outputs": [],
   "source": [
    "callback = tf.keras.callbacks.EarlyStopping(monitor='val_loss', patience=10)\n",
    "LSTMDropout_model_train = build_lstm_dropout()\n",
    "LSTMDropout_history = LSTMDropout_model_train.fit(train_x, train_y,\n",
    "                    epochs=100,\n",
    "                    batch_size=128, \n",
    "                    validation_data=(valid_x, valid_y),\n",
    "                    callbacks=[\n",
    "                              callback,\n",
    "                              ],\n",
    "                    verbose=2\n",
    "                   )"
   ]
  },
  {
   "cell_type": "code",
   "execution_count": null,
   "metadata": {},
   "outputs": [],
   "source": [
    "LSTMDropout_model_train = keras.models.load_model(\"../final_data/models/LSTMDropout_model_train\")"
   ]
  },
  {
   "cell_type": "code",
   "execution_count": null,
   "metadata": {},
   "outputs": [],
   "source": [
    "y_pred_train = LSTMDropout_model_train.predict(train_x)\n",
    "y_train_unsc = scaler_train_y.inverse_transform(train_y)\n",
    "y_pred_train_unsc = scaler_train_y.inverse_transform(y_pred_train)\n",
    "np.sqrt(mean_squared_error(y_train_unsc, y_pred_train_unsc))                       "
   ]
  },
  {
   "cell_type": "code",
   "execution_count": null,
   "metadata": {},
   "outputs": [],
   "source": [
    "## Predict Validation Set and calculate RMSE\n",
    "y_pred_valid= LSTMDropout_model_train.predict(valid_x)\n",
    "y_valid_unsc = scaler_train_y.inverse_transform(valid_y)\n",
    "y_pred_valid_unsc = scaler_train_y.inverse_transform(y_pred_valid)\n",
    "\n",
    "np.sqrt(mean_squared_error(y_pred_valid_unsc, y_valid_unsc))  "
   ]
  },
  {
   "cell_type": "code",
   "execution_count": null,
   "metadata": {},
   "outputs": [],
   "source": [
    "hist_LSTMDropout_train = pd.read_pickle(\"../final_data/hist_LSTMDropout_train\")\n",
    "\n",
    "pd.DataFrame(hist_LSTMDropout_train).plot(figsize=(8, 5))\n",
    "plt.grid(True)\n",
    "plt.show()"
   ]
  },
  {
   "cell_type": "markdown",
   "metadata": {},
   "source": [
    "### Testing"
   ]
  },
  {
   "cell_type": "code",
   "execution_count": null,
   "metadata": {},
   "outputs": [],
   "source": [
    "LSTMDropout_model_test = build_lstm_dropout()\n",
    "LSTMDropout_history = LSTMDropout_model_test.fit(all_train_x, all_train_y,\n",
    "                    epochs=99,\n",
    "                    batch_size=128, \n",
    "                    verbose=2\n",
    "                   )"
   ]
  },
  {
   "cell_type": "markdown",
   "metadata": {},
   "source": [
    "Load final model"
   ]
  },
  {
   "cell_type": "code",
   "execution_count": null,
   "metadata": {},
   "outputs": [],
   "source": [
    "LSTMDropout_model_test = keras.models.load_model(\"../final_data/models/LSTMDropout_model_test\")"
   ]
  },
  {
   "cell_type": "code",
   "execution_count": null,
   "metadata": {},
   "outputs": [],
   "source": [
    "y_pred_all_train = LSTMDropout_model_test.predict(all_train_x)\n",
    "y_all_train_unsc = scaler_y.inverse_transform(all_train_y)\n",
    "y_pred_all_train_unsc = scaler_y.inverse_transform(y_pred_all_train)\n",
    "np.sqrt(mean_squared_error(y_all_train_unsc, y_pred_all_train_unsc))         "
   ]
  },
  {
   "cell_type": "code",
   "execution_count": null,
   "metadata": {},
   "outputs": [],
   "source": [
    "y_pred_test= LSTMDropout_model_test.predict(test_x)\n",
    "y_test_unsc = scaler_y.inverse_transform(test_y)\n",
    "y_pred_test_unsc = scaler_y.inverse_transform(y_pred_test)\n",
    "\n",
    "np.sqrt(mean_squared_error(y_pred_test_unsc, y_test_unsc))  "
   ]
  },
  {
   "cell_type": "markdown",
   "metadata": {},
   "source": [
    "### Test 5 times with different seeds"
   ]
  },
  {
   "cell_type": "code",
   "execution_count": null,
   "metadata": {},
   "outputs": [],
   "source": [
    "LSTMDropout_model = build_lstm_dropout()\n",
    "epochs = 99\n",
    "batch_size = 128\n",
    "train_score, test_score = test_5_times(LSTMDropout_model, epochs, batch_size)"
   ]
  },
  {
   "cell_type": "code",
   "execution_count": null,
   "metadata": {},
   "outputs": [],
   "source": [
    "rmse_train_lstm_dropout = pd.read_pickle(\"../final_data/rmse_train_lstm_dropout.pkl\")\n",
    "rmse_test_lstm_dropout = pd.read_pickle(\"../final_data/rmse_test_lstm_dropout.pkl\")"
   ]
  },
  {
   "cell_type": "code",
   "execution_count": null,
   "metadata": {},
   "outputs": [],
   "source": [
    "rmse_train_lstm_dropout.describe()"
   ]
  },
  {
   "cell_type": "code",
   "execution_count": null,
   "metadata": {},
   "outputs": [],
   "source": [
    "rmse_test_lstm_dropout.describe()"
   ]
  },
  {
   "cell_type": "markdown",
   "metadata": {},
   "source": [
    "### LSTM with weight regularization"
   ]
  },
  {
   "cell_type": "markdown",
   "metadata": {},
   "source": [
    "### Build Model"
   ]
  },
  {
   "cell_type": "code",
   "execution_count": null,
   "metadata": {},
   "outputs": [],
   "source": [
    "def build_lstm_weight_reg():\n",
    "    LSTMWeightDecay_model = keras.models.Sequential([\n",
    "        keras.layers.LSTM(32,\n",
    "                          input_shape=(train_x.shape[1],train_x.shape[2]),\n",
    "                          return_sequences=True,\n",
    "                          kernel_regularizer=regularizers.l2(0.0001),\n",
    "                          recurrent_regularizer=regularizers.l2(0.0001),\n",
    "                          ),\n",
    "\n",
    "\n",
    "        keras.layers.LSTM(32,\n",
    "                        return_sequences=False,\n",
    "                        kernel_regularizer=regularizers.l2(0.0001),\n",
    "                        recurrent_regularizer=regularizers.l2(0.0001),\n",
    "                        ),\n",
    "\n",
    "        keras.layers.Dense(2, kernel_initializer='he_normal')\n",
    "    ])\n",
    "\n",
    "    LSTMWeightDecay_model.compile(loss='mean_squared_error', optimizer=keras.optimizers.Adam(lr=1e-3))\n",
    "    LSTMWeightDecay_model.summary()\n",
    "    \n",
    "    return LSTMWeightDecay_model"
   ]
  },
  {
   "cell_type": "markdown",
   "metadata": {},
   "source": [
    "### Training"
   ]
  },
  {
   "cell_type": "code",
   "execution_count": null,
   "metadata": {
    "scrolled": true
   },
   "outputs": [],
   "source": [
    "callback = tf.keras.callbacks.EarlyStopping(monitor='val_loss', patience=10)\n",
    "LSTMWeightDecay_model_train = build_lstm_weight_reg()\n",
    "LSTMWeightDecay_history = LSTMWeightDecay_model.fit(train_x, train_y,\n",
    "                    epochs=300,\n",
    "                    batch_size=128, \n",
    "                    validation_data=(valid_x, valid_y),\n",
    "                    callbacks=[callback],          \n",
    "                    verbose=2\n",
    "                   )"
   ]
  },
  {
   "cell_type": "code",
   "execution_count": null,
   "metadata": {},
   "outputs": [],
   "source": [
    "LSTMWeightDecay_model_train = keras.models.load_model(\"../final_data/models/LSTMWeightDecay_model_train\")\n",
    "hist_LSTMWeightDecay_train = pd.read_pickle(\"../final_data/hist_LSTMWeightDecay_train.pkl\")"
   ]
  },
  {
   "cell_type": "markdown",
   "metadata": {},
   "source": [
    "### Performance"
   ]
  },
  {
   "cell_type": "code",
   "execution_count": null,
   "metadata": {
    "scrolled": false
   },
   "outputs": [],
   "source": [
    "pd.DataFrame(hist_LSTMWeightDecay_train).plot(figsize=(8, 5))\n",
    "plt.grid(True)\n",
    "plt.show()"
   ]
  },
  {
   "cell_type": "code",
   "execution_count": null,
   "metadata": {},
   "outputs": [],
   "source": [
    "## Predict Validation Set and calculate RMSE\n",
    "y_pred_valid= LSTMWeightDecay_model_train.predict(valid_x)\n",
    "y_valid_unsc = scaler_train_y.inverse_transform(valid_y)\n",
    "y_pred_valid_unsc = scaler_train_y.inverse_transform(y_pred_valid)\n",
    "\n",
    "np.sqrt(mean_squared_error(y_pred_valid_unsc, y_valid_unsc))  "
   ]
  },
  {
   "cell_type": "markdown",
   "metadata": {},
   "source": [
    "### Testing"
   ]
  },
  {
   "cell_type": "code",
   "execution_count": null,
   "metadata": {},
   "outputs": [],
   "source": [
    "LSTMWeightDecay_model = build_lstm_weight_reg()\n",
    "LSTMWeightDecay_history = LSTMWeightDecay_model.fit(all_train_x, all_train_y,\n",
    "                    epochs=230,\n",
    "                    batch_size=128,        \n",
    "                    verbose=2\n",
    "                   )"
   ]
  },
  {
   "cell_type": "code",
   "execution_count": null,
   "metadata": {},
   "outputs": [],
   "source": [
    "LSTMWeightDecay_model = keras.models.load_model(\"../final_data/models/LSTMWeightDecay_test\")"
   ]
  },
  {
   "cell_type": "code",
   "execution_count": null,
   "metadata": {},
   "outputs": [],
   "source": [
    "y_pred_all_train = LSTMWeightDecay_model.predict(all_train_x)\n",
    "y_all_train_unsc = scaler_y.inverse_transform(all_train_y)\n",
    "y_pred_all_train_unsc = scaler_y.inverse_transform(y_pred_all_train)\n",
    "np.sqrt(mean_squared_error(y_all_train_unsc, y_pred_all_train_unsc))         "
   ]
  },
  {
   "cell_type": "code",
   "execution_count": null,
   "metadata": {},
   "outputs": [],
   "source": [
    "## Predicit test set and calculate RMSE\n",
    "y_pred_test= LSTMWeightDecay_model.predict(test_x)\n",
    "y_test_unsc = scaler_y.inverse_transform(test_y)\n",
    "y_pred_test_unsc = scaler_y.inverse_transform(y_pred_test)\n",
    "\n",
    "np.sqrt(mean_squared_error(y_pred_test_unsc, y_test_unsc))  "
   ]
  },
  {
   "cell_type": "markdown",
   "metadata": {},
   "source": [
    "### Test 5 times with different seeds"
   ]
  },
  {
   "cell_type": "code",
   "execution_count": null,
   "metadata": {},
   "outputs": [],
   "source": [
    "LSTMWeightDecay_model = build_lstm_weight_reg()\n",
    "epochs = 230\n",
    "batch_size = 128\n",
    "train_score, test_score = test_5_times(LSTMWeightDecay_model, epochs, batch_size)"
   ]
  },
  {
   "cell_type": "code",
   "execution_count": null,
   "metadata": {},
   "outputs": [],
   "source": [
    "rmse_train_lstm_weight = pd.read_pickle(\"../final_data/rmse_train_lstm_weight.pkl\")\n",
    "rmse_test_lstm_weight = pd.read_pickle(\"../final_data/rmse_test_lstm_weight.pkl\")"
   ]
  },
  {
   "cell_type": "code",
   "execution_count": null,
   "metadata": {},
   "outputs": [],
   "source": [
    "rmse_train_lstm_weight.describe()"
   ]
  },
  {
   "cell_type": "code",
   "execution_count": null,
   "metadata": {},
   "outputs": [],
   "source": [
    "rmse_test_lstm_weight.describe()"
   ]
  },
  {
   "cell_type": "markdown",
   "metadata": {},
   "source": [
    "## LSTM with Hyperband"
   ]
  },
  {
   "cell_type": "markdown",
   "metadata": {},
   "source": [
    "### Keras Tuner implementation of Hyperband\n",
    "Hyperparameter search was interrupted after 2 weeks of searching. There is no final tuner to load, the best model found was manually rebuilt."
   ]
  },
  {
   "cell_type": "code",
   "execution_count": null,
   "metadata": {
    "scrolled": true
   },
   "outputs": [],
   "source": [
    "# ## Model architecture and Hyperparameter with search spaces\n",
    "# def model_builder (hp):\n",
    "    \n",
    "#     model = keras.models.Sequential()\n",
    "    \n",
    "#     ## Define Hyperparameter search space\n",
    "#     hp_units = hp.Int(\"unit\",min_value=30,max_value=320,step=32)\n",
    "#     hp_dropout=hp.Choice(\"dropout\",values = [0.2, 0.3, 0.4])  \n",
    "#     hp_number_of_layers = hp.Int(\"nr_layers\",min_value=3,max_value=8,step=1)\n",
    "    \n",
    "#     model.add(keras.layers.LSTM(\n",
    "#                         units=hp_units, \n",
    "#                         dropout=hp_dropout,          \n",
    "#                         recurrent_dropout=hp_dropout,                       \n",
    "#                         return_sequences=True,\n",
    "#                         input_shape=(train_x.shape[1],train_x.shape[2]),  \n",
    "#                         kernel_constraint=keras.constraints.max_norm(max_value=1),\n",
    "#                         recurrent_constraint=keras.constraints.max_norm(max_value=1),\n",
    "#                  ))\n",
    "    \n",
    "#     for i in range(hp_number_of_layers):\n",
    "#         model.add(keras.layers.LSTM(\n",
    "#                         units=hp_units, \n",
    "#                         dropout=hp_dropout,          \n",
    "#                         recurrent_dropout=hp_dropout, \n",
    "#                         return_sequences=True,\n",
    "#                         kernel_constraint=keras.constraints.max_norm(max_value=1),\n",
    "#                         recurrent_constraint=keras.constraints.max_norm(max_value=1),\n",
    "        \n",
    "#         ))\n",
    "        \n",
    "        \n",
    "        \n",
    "#     model.add(keras.layers.LSTM(\n",
    "#                         units=hp_units, \n",
    "#                         dropout=hp_dropout,          \n",
    "#                         recurrent_dropout=hp_dropout, \n",
    "#                         return_sequences=False,  \n",
    "#                         kernel_constraint=keras.constraints.max_norm(max_value=1),\n",
    "#                         recurrent_constraint=keras.constraints.max_norm(max_value=1),\n",
    "#                  ))\n",
    "    \n",
    " \n",
    "#     model.add(keras.layers.Dense(2, kernel_initializer='he_normal'))\n",
    "        \n",
    "#     hp_learning_rate = hp.Choice('learning_rate', values = [1e-3, 1e-4])\n",
    "#     optimizer = keras.optimizers.Adam(lr=hp_learning_rate)\n",
    "    \n",
    "#     model.compile(loss='mean_squared_error', optimizer=optimizer)\n",
    "#     return model\n",
    "\n",
    "\n",
    "\n",
    "# ## Let Hyperband also search for best batch size\n",
    "# class MyTuner(kt.tuners.Hyperband):\n",
    "#     def run_trial(self, trial, *args, **kwargs):\n",
    "#         kwargs['batch_size'] = trial.hyperparameters.Choice(\"batch_size\",values = [32, 128, 512])\n",
    "#         super(MyTuner, self).run_trial(trial, *args, **kwargs)\n",
    "\n",
    "# import os\n",
    "\n",
    "# ## Let Hyperband run\n",
    "# tuner = MyTuner(model_builder,\n",
    "#     objective='val_loss',\n",
    "#     max_epochs = 50,\n",
    "#     factor = 3,\n",
    "#     seed = 42,\n",
    "#     directory = '../data/keras_tuner', \n",
    "#     project_name = 'tuner_lstm')               \n",
    "#                                        "
   ]
  },
  {
   "cell_type": "code",
   "execution_count": null,
   "metadata": {},
   "outputs": [],
   "source": [
    "# stop_early = tf.keras.callbacks.EarlyStopping(monitor='val_loss', patience=10)\n",
    "# tuner.search(train_x,\n",
    "#     train_y,\n",
    "#     epochs = 50,\n",
    "#     validation_data = (valid_x, valid_y),\n",
    "#     callbacks = [stop_early]\n",
    "# )\n"
   ]
  },
  {
   "cell_type": "markdown",
   "metadata": {},
   "source": [
    "Save tuner after search is completed"
   ]
  },
  {
   "cell_type": "code",
   "execution_count": null,
   "metadata": {},
   "outputs": [],
   "source": [
    "# with open(\"../data/keras_tuner/tuner_lstm.pkl\", 'wb') as f:\n",
    "#     pickle.dump(tuner, f)"
   ]
  },
  {
   "cell_type": "code",
   "execution_count": null,
   "metadata": {},
   "outputs": [],
   "source": [
    "# tuner_lstm = pickle.load(open(\"../data/keras_tuner/tuner_lstm.pkl\",'rb'))\n",
    "# print(tuner_lstm.get_best_hyperparameters()[0].values)"
   ]
  },
  {
   "cell_type": "markdown",
   "metadata": {},
   "source": [
    "### Training"
   ]
  },
  {
   "cell_type": "markdown",
   "metadata": {},
   "source": [
    "#### Either: Rebuild best model with tuned hyperparameters and find best number of epochs\n",
    "After 2 weeks of searching, best model found was manually rebuilt, therefore there is no tuner to load."
   ]
  },
  {
   "cell_type": "code",
   "execution_count": null,
   "metadata": {},
   "outputs": [],
   "source": [
    "# best_hps = tuner_lstm.get_best_hyperparameters(num_trials=1)[0]\n",
    "# hypermodel_lstm = tuner_lstm.hypermodel.build(best_hps)\n",
    "# early_stop = tf.keras.callbacks.EarlyStopping(monitor='val_loss', patience=10)\n",
    "# # Retrain the model\n",
    "# hypermodel_lstm_history = hypermodel_lstm.fit(train_x, train_y,\n",
    "#                     epochs=100,\n",
    "#                     batch_size=32,\n",
    "#                     validation_data=(valid_x, valid_y),\n",
    "#                     callbacks=[early_stop]\n",
    "#                    )"
   ]
  },
  {
   "cell_type": "markdown",
   "metadata": {},
   "source": [
    "#### Rebuild best Hyperband model manually"
   ]
  },
  {
   "cell_type": "code",
   "execution_count": null,
   "metadata": {},
   "outputs": [],
   "source": [
    "def build_hyperband_lstm():\n",
    "    hypermodel_lstm = keras.models.Sequential([\n",
    "        keras.layers.LSTM(94,\n",
    "                          input_shape=(train_x.shape[1],train_x.shape[2]),\n",
    "                          return_sequences=True,\n",
    "                          dropout=0.2,\n",
    "                          recurrent_dropout=0.2,\n",
    "                          kernel_constraint=keras.constraints.max_norm(max_value=1),\n",
    "                          recurrent_constraint=keras.constraints.max_norm(max_value=1)\n",
    "                          ),\n",
    "\n",
    "        keras.layers.LSTM(94,\n",
    "                          dropout=0.2,\n",
    "                          recurrent_dropout=0.2, \n",
    "                          return_sequences=True,\n",
    "                          kernel_constraint=keras.constraints.max_norm(max_value=1),\n",
    "                          recurrent_constraint=keras.constraints.max_norm(max_value=1)\n",
    "                          ),\n",
    "\n",
    "        keras.layers.LSTM(94,\n",
    "                          dropout=0.2,\n",
    "                          recurrent_dropout=0.2, \n",
    "                          return_sequences=True,\n",
    "                          kernel_constraint=keras.constraints.max_norm(max_value=1),\n",
    "                          recurrent_constraint=keras.constraints.max_norm(max_value=1)\n",
    "                          ),\n",
    "\n",
    "        keras.layers.LSTM(94,\n",
    "                          dropout=0.2,\n",
    "                          recurrent_dropout=0.2, \n",
    "                          return_sequences=True,\n",
    "                          kernel_constraint=keras.constraints.max_norm(max_value=1),\n",
    "                          recurrent_constraint=keras.constraints.max_norm(max_value=1)\n",
    "                          ),\n",
    "\n",
    "\n",
    "         keras.layers.LSTM(94,\n",
    "                          dropout=0.2,\n",
    "                          recurrent_dropout=0.2, \n",
    "                          return_sequences=False,\n",
    "                          kernel_constraint=keras.constraints.max_norm(max_value=1),\n",
    "                          recurrent_constraint=keras.constraints.max_norm(max_value=1)\n",
    "                          ),\n",
    "\n",
    "       keras.layers.Dense(2, kernel_initializer='he_normal')\n",
    "    ])\n",
    "\n",
    "    hypermodel_lstm.compile(loss='mean_squared_error', optimizer=keras.optimizers.Adam(lr=1e-3))\n",
    "    hypermodel_lstm.summary() \n",
    "    return hypermodel_lstm\n"
   ]
  },
  {
   "cell_type": "code",
   "execution_count": null,
   "metadata": {},
   "outputs": [],
   "source": [
    "LSTMHyperband_train = keras.models.load_model(\"../final_data/models/LSTMHyperband_train\")\n",
    "hist_LSTMHyperband_train = pd.read_pickle(\"../final_data/hist_LSTMHyperband_train.pkl\")"
   ]
  },
  {
   "cell_type": "markdown",
   "metadata": {},
   "source": [
    "#### Performance"
   ]
  },
  {
   "cell_type": "code",
   "execution_count": null,
   "metadata": {
    "scrolled": false
   },
   "outputs": [],
   "source": [
    "pd.DataFrame(hist_LSTMHyperband_train).plot(figsize=(8, 5))\n",
    "plt.grid(True)\n",
    "plt.show()"
   ]
  },
  {
   "cell_type": "code",
   "execution_count": null,
   "metadata": {},
   "outputs": [],
   "source": [
    "## Predict Validation Set and calculate RMSE\n",
    "y_pred_valid= LSTMHyperband_train.predict(valid_x)\n",
    "y_valid_unsc = scaler_train_y.inverse_transform(valid_y)\n",
    "y_pred_valid_unsc = scaler_train_y.inverse_transform(y_pred_valid)\n",
    "\n",
    "np.sqrt(mean_squared_error(y_pred_valid_unsc, y_valid_unsc))  "
   ]
  },
  {
   "cell_type": "markdown",
   "metadata": {},
   "source": [
    "### Testing\n",
    "#### Either: rebuild Keras Tuner model"
   ]
  },
  {
   "cell_type": "code",
   "execution_count": null,
   "metadata": {},
   "outputs": [],
   "source": [
    "# best_hps = tuner.get_best_hyperparameters(num_trials=1)[0]\n",
    "# hypermodel_lstm = tuner.hypermodel.build(best_hps)\n",
    "# # Retrain the model\n",
    "# history = hypermodel_lstm.fit(all_train_x, all_train_y,\n",
    "#                     epochs=31,\n",
    "#                     batch_size=32,\n",
    "#                    )"
   ]
  },
  {
   "cell_type": "markdown",
   "metadata": {},
   "source": [
    "#### Or: rebuild best model manually"
   ]
  },
  {
   "cell_type": "code",
   "execution_count": null,
   "metadata": {},
   "outputs": [],
   "source": [
    "LSTMHyperband_test = build_hyperband_lstm()\n",
    "hypermodel_lstm_history = LSTMHyperband_test.fit(all_train_x, all_train_y,\n",
    "                    epochs=31,\n",
    "                    batch_size=128,\n",
    "                   )"
   ]
  },
  {
   "cell_type": "code",
   "execution_count": null,
   "metadata": {
    "scrolled": true
   },
   "outputs": [],
   "source": [
    "LSTMHyperband_test = keras.models.load_model(\"../final_data/models/hypermodel_lstm\")"
   ]
  },
  {
   "cell_type": "code",
   "execution_count": null,
   "metadata": {},
   "outputs": [],
   "source": [
    "y_pred_all_train = LSTMHyperband_test.predict(all_train_x)\n",
    "y_all_train_unsc = scaler_y.inverse_transform(all_train_y)\n",
    "y_pred_all_train_unsc = scaler_y.inverse_transform(y_pred_all_train)\n",
    "np.sqrt(mean_squared_error(y_all_train_unsc, y_pred_all_train_unsc))         "
   ]
  },
  {
   "cell_type": "code",
   "execution_count": null,
   "metadata": {},
   "outputs": [],
   "source": [
    "## Predicit test set and calculate RMSE\n",
    "y_pred_test= LSTMHyperband_test.predict(test_x)\n",
    "y_test_unsc = scaler_y.inverse_transform(test_y)\n",
    "y_pred_test_unsc = scaler_y.inverse_transform(y_pred_test)\n",
    "\n",
    "np.sqrt(mean_squared_error(y_pred_test_unsc, y_test_unsc))  "
   ]
  },
  {
   "cell_type": "markdown",
   "metadata": {},
   "source": [
    "### Test 5 times with different seeds"
   ]
  },
  {
   "cell_type": "code",
   "execution_count": null,
   "metadata": {},
   "outputs": [],
   "source": [
    "hypermodel_lstm = build_hyperband_lstm()\n",
    "epochs = 31\n",
    "batch_size = 128\n",
    "train_score, test_score = test_5_times(hypermodel_lstm, epochs, batch_size)"
   ]
  },
  {
   "cell_type": "code",
   "execution_count": null,
   "metadata": {},
   "outputs": [],
   "source": [
    "rmse_train_lstm_hyperband = pd.read_pickle(\"../final_data/rmse_train_lstm_hyperband.pkl\")\n",
    "rmse_test_lstm_hyperband = pd.read_pickle(\"../final_data/rmse_test_lstm_hyperband.pkl\")"
   ]
  },
  {
   "cell_type": "code",
   "execution_count": null,
   "metadata": {},
   "outputs": [],
   "source": [
    "rmse_train_lstm_hyperband.describe()"
   ]
  },
  {
   "cell_type": "code",
   "execution_count": null,
   "metadata": {},
   "outputs": [],
   "source": [
    "rmse_test_lstm_hyperband.describe()"
   ]
  },
  {
   "cell_type": "markdown",
   "metadata": {},
   "source": [
    "### PeepholeDropout"
   ]
  },
  {
   "cell_type": "code",
   "execution_count": null,
   "metadata": {},
   "outputs": [],
   "source": [
    "def build_peephole_dropout():\n",
    "    PeepholeDropout_model = keras.models.Sequential([\n",
    "\n",
    "        keras.layers.RNN(tf.keras.experimental.PeepholeLSTMCell(16, \n",
    "                         dropout=0.3,\n",
    "                         recurrent_dropout=0.3,\n",
    "                         kernel_constraint=keras.constraints.max_norm(max_value=1),\n",
    "                         recurrent_constraint=keras.constraints.max_norm(max_value=1)\n",
    "                                                                ),\n",
    "                          return_sequences=True,\n",
    "                        input_shape=(train_x.shape[1],train_x.shape[2]),\n",
    "                        ),\n",
    "         keras.layers.RNN(tf.keras.experimental.PeepholeLSTMCell(16, \n",
    "                         dropout=0.3,\n",
    "                         recurrent_dropout=0.3,\n",
    "                         kernel_constraint=keras.constraints.max_norm(max_value=1),\n",
    "                         recurrent_constraint=keras.constraints.max_norm(max_value=1)\n",
    "                                                                ),\n",
    "                          return_sequences=True),\n",
    "\n",
    "         keras.layers.RNN(tf.keras.experimental.PeepholeLSTMCell(16, \n",
    "                         dropout=0.3,\n",
    "                         recurrent_dropout=0.3,\n",
    "                         kernel_constraint=keras.constraints.max_norm(max_value=1),\n",
    "                         recurrent_constraint=keras.constraints.max_norm(max_value=1),\n",
    "                                                                ),\n",
    "                          return_sequences=False),\n",
    "\n",
    "        keras.layers.Dense(2, kernel_initializer='he_normal')\n",
    "    ])\n",
    "\n",
    "    PeepholeDropout_model.compile(loss='mean_squared_error', optimizer=keras.optimizers.Adam(lr=1e-3))                               \n",
    "    PeepholeDropout_model.summary()\n",
    "    \n",
    "    return PeepholeDropout_model"
   ]
  },
  {
   "cell_type": "markdown",
   "metadata": {},
   "source": [
    "### Training"
   ]
  },
  {
   "cell_type": "code",
   "execution_count": null,
   "metadata": {},
   "outputs": [],
   "source": [
    "early_stop = tf.keras.callbacks.EarlyStopping(monitor='val_loss', patience=10)\n",
    "PeepholeDropout_model = build_peephole_dropout()\n",
    "PeepholeDropout_model_history = PeepholeDropout_model.fit(train_x, train_y,\n",
    "                    epochs=100,\n",
    "                    batch_size=128, \n",
    "                    validation_data=(valid_x, valid_y),\n",
    "                    callbacks=[callback],\n",
    "                    verbose=2\n",
    "                   )"
   ]
  },
  {
   "cell_type": "code",
   "execution_count": null,
   "metadata": {},
   "outputs": [],
   "source": [
    "PeepholeDropout_model = keras.models.load_model(\"../final_data/models/PeepholeDropout_model_train\")\n",
    "hist_PeepholeDropout_train = pd.read_pickle(\"../final_data/hist_PeepholeDropout_model_train.pkl\")"
   ]
  },
  {
   "cell_type": "markdown",
   "metadata": {},
   "source": [
    "#### Performance"
   ]
  },
  {
   "cell_type": "code",
   "execution_count": null,
   "metadata": {
    "scrolled": true
   },
   "outputs": [],
   "source": [
    "pd.DataFrame(hist_PeepholeDropout_train).plot(figsize=(8, 5))\n",
    "plt.grid(True)\n",
    "plt.show()"
   ]
  },
  {
   "cell_type": "code",
   "execution_count": null,
   "metadata": {},
   "outputs": [],
   "source": [
    "## Predict Validation Set and calculate RMSE\n",
    "y_pred_valid= peephole_3.predict(valid_x)\n",
    "y_valid_unsc = scaler_train_y.inverse_transform(valid_y)\n",
    "y_pred_valid_unsc = scaler_train_y.inverse_transform(y_pred_valid)\n",
    "\n",
    "np.sqrt(mean_squared_error(y_pred_valid_unsc, y_valid_unsc))  "
   ]
  },
  {
   "cell_type": "markdown",
   "metadata": {},
   "source": [
    "### Testing"
   ]
  },
  {
   "cell_type": "code",
   "execution_count": null,
   "metadata": {},
   "outputs": [],
   "source": [
    "PeepholeDropout_model = build_peephole_dropout()\n",
    "PeepholeDropout_model_history = PeepholeDropout_model.fit(all_train_x, all_train_y,\n",
    "                    epochs=53,\n",
    "                    batch_size=128, \n",
    "                    verbose=2\n",
    "                   )"
   ]
  },
  {
   "cell_type": "code",
   "execution_count": null,
   "metadata": {},
   "outputs": [],
   "source": [
    "PeepholeDropout_model = keras.models.load_model(\"../final_data/models/PeepholeDropout_model_2\")"
   ]
  },
  {
   "cell_type": "code",
   "execution_count": null,
   "metadata": {},
   "outputs": [],
   "source": [
    "y_pred_all_train = PeepholeDropout_model.predict(all_train_x)\n",
    "y_all_train_unsc = scaler_y.inverse_transform(all_train_y)\n",
    "y_pred_all_train_unsc = scaler_y.inverse_transform(y_pred_all_train)\n",
    "np.sqrt(mean_squared_error(y_all_train_unsc, y_pred_all_train_unsc))         "
   ]
  },
  {
   "cell_type": "code",
   "execution_count": null,
   "metadata": {},
   "outputs": [],
   "source": [
    "## Predicit test set and calculate RMSE\n",
    "y_pred_test= PeepholeDropout_model.predict(test_x)\n",
    "y_test_unsc = scaler_y.inverse_transform(test_y)\n",
    "y_pred_test_unsc = scaler_y.inverse_transform(y_pred_test)\n",
    "\n",
    "np.sqrt(mean_squared_error(y_pred_test_unsc, y_test_unsc))  "
   ]
  },
  {
   "cell_type": "markdown",
   "metadata": {},
   "source": [
    "### Test 5 times with different seeds"
   ]
  },
  {
   "cell_type": "code",
   "execution_count": null,
   "metadata": {},
   "outputs": [],
   "source": [
    "PeepholeDropout_model = build_peephole_dropout()\n",
    "epochs = 53\n",
    "batch_size = 128\n",
    "train_score, test_score = test_5_times(PeepholeDropout_model, epochs, batch_size)"
   ]
  },
  {
   "cell_type": "code",
   "execution_count": null,
   "metadata": {},
   "outputs": [],
   "source": [
    "rmse_train_peephole = pd.read_pickle(\"../final_data/rmse_train_peephole.pkl\")\n",
    "rmse_test_peephole = pd.read_pickle(\"../final_data/rmse_test_peephole.pkl\")"
   ]
  },
  {
   "cell_type": "code",
   "execution_count": null,
   "metadata": {},
   "outputs": [],
   "source": [
    "rmse_train_peephole.describe()"
   ]
  },
  {
   "cell_type": "code",
   "execution_count": null,
   "metadata": {},
   "outputs": [],
   "source": [
    "rmse_test_peephole.describe()"
   ]
  },
  {
   "cell_type": "markdown",
   "metadata": {},
   "source": [
    "### PeepholeHyperband\n",
    "We use the same architecture we found using Hyperband for the standard LSTM modell"
   ]
  },
  {
   "cell_type": "markdown",
   "metadata": {},
   "source": [
    "### Training"
   ]
  },
  {
   "cell_type": "code",
   "execution_count": null,
   "metadata": {
    "scrolled": true
   },
   "outputs": [],
   "source": [
    "def build_hyperband_peephole():\n",
    "    callback = tf.keras.callbacks.EarlyStopping(monitor='loss', patience=10)\n",
    "\n",
    "    model = keras.models.Sequential([\n",
    "\n",
    "        keras.layers.RNN(tf.keras.experimental.PeepholeLSTMCell(94, \n",
    "                         dropout=0.3,\n",
    "                         recurrent_dropout=0.3,\n",
    "                         kernel_constraint=keras.constraints.max_norm(max_value=4),\n",
    "                         recurrent_constraint=keras.constraints.max_norm(max_value=4),\n",
    "                                                                ),\n",
    "                          return_sequences=True,\n",
    "                        input_shape=(train_x.shape[1],train_x.shape[2]),\n",
    "                        ),\n",
    "\n",
    "         keras.layers.RNN(tf.keras.experimental.PeepholeLSTMCell(94, \n",
    "                         dropout=0.3,\n",
    "                         recurrent_dropout=0.3,\n",
    "                         kernel_constraint=keras.constraints.max_norm(max_value=4),\n",
    "                         recurrent_constraint=keras.constraints.max_norm(max_value=4),\n",
    "                                                                ),\n",
    "                          return_sequences=True),\n",
    "\n",
    "\n",
    "         keras.layers.RNN(tf.keras.experimental.PeepholeLSTMCell(94, \n",
    "                         dropout=0.3,\n",
    "                         recurrent_dropout=0.3,\n",
    "                        kernel_constraint=keras.constraints.max_norm(max_value=4),\n",
    "                         recurrent_constraint=keras.constraints.max_norm(max_value=4),                                        \n",
    "                                                                ),\n",
    "                          return_sequences=True),\n",
    "\n",
    "          keras.layers.RNN(tf.keras.experimental.PeepholeLSTMCell(94, \n",
    "                         dropout=0.3,\n",
    "                         recurrent_dropout=0.3,\n",
    "                         kernel_constraint=keras.constraints.max_norm(max_value=4),\n",
    "                         recurrent_constraint=keras.constraints.max_norm(max_value=4),\n",
    "                                                                ),\n",
    "                          return_sequences=True),\n",
    "\n",
    "\n",
    "\n",
    "        keras.layers.RNN(tf.keras.experimental.PeepholeLSTMCell(94, \n",
    "                         dropout=0.3,\n",
    "                         recurrent_dropout=0.3,\n",
    "                        kernel_constraint=keras.constraints.max_norm(max_value=4),\n",
    "                         recurrent_constraint=keras.constraints.max_norm(max_value=4),                                       \n",
    "                                                                ),\n",
    "                          return_sequences=False),\n",
    "\n",
    "        keras.layers.Dense(2, kernel_initializer='he_normal')\n",
    "    ])\n",
    "\n",
    "    model.compile(loss='mean_squared_error', optimizer=keras.optimizers.Adam(lr=1e-3), metrics=['mae'])\n",
    "    model.summary() \n",
    "    return hypermodel_lstm\n"
   ]
  },
  {
   "cell_type": "code",
   "execution_count": null,
   "metadata": {
    "scrolled": true
   },
   "outputs": [],
   "source": [
    "early_stop = tf.keras.callbacks.EarlyStopping(monitor='val_loss', patience=10)\n",
    "PeepholeHyperband_train = build_hyperband_peephole()\n",
    "hypermodel_peephole_history = PeepholeHyperband_train.fit(train_x, train_y,\n",
    "                    epochs=100,\n",
    "                    batch_size=128,\n",
    "                    validation_data=(valid_x, valid_y),\n",
    "                    callbacks=[early_stop]\n",
    "                   )"
   ]
  },
  {
   "cell_type": "code",
   "execution_count": null,
   "metadata": {},
   "outputs": [],
   "source": [
    "PeepholeHyperband_train = keras.models.load_model(\"../final_data/models/PeepholeHyperband_train\")\n",
    "hist_PeepholeHyperband = pd.read_pickle(\"../final_data/hist_PeepholeHyperband_train.pkl\")"
   ]
  },
  {
   "cell_type": "markdown",
   "metadata": {},
   "source": [
    "#### Performance"
   ]
  },
  {
   "cell_type": "code",
   "execution_count": null,
   "metadata": {
    "scrolled": false
   },
   "outputs": [],
   "source": [
    "pd.DataFrame(hist_PeepholeHyperband).plot(figsize=(8, 5))\n",
    "plt.grid(True)\n",
    "plt.show()"
   ]
  },
  {
   "cell_type": "code",
   "execution_count": null,
   "metadata": {},
   "outputs": [],
   "source": [
    "## Predict Validation Set and calculate RMSE\n",
    "y_pred_valid= PeepholeHyperband_model_test.predict(valid_x)\n",
    "y_valid_unsc = scaler_train_y.inverse_transform(valid_y)\n",
    "y_pred_valid_unsc = scaler_train_y.inverse_transform(y_pred_valid)\n",
    "\n",
    "np.sqrt(mean_squared_error(y_pred_valid_unsc, y_valid_unsc))  "
   ]
  },
  {
   "cell_type": "markdown",
   "metadata": {},
   "source": [
    "### Testing"
   ]
  },
  {
   "cell_type": "code",
   "execution_count": null,
   "metadata": {
    "scrolled": true
   },
   "outputs": [],
   "source": [
    "hypermodel_peephole = build_hyperband_lstm()\n",
    "hypermodel_peephole_history = hypermodel_peephole.fit(all_train_x, all_train_y,\n",
    "                    epochs=28,\n",
    "                    batch_size=128,\n",
    "                   )"
   ]
  },
  {
   "cell_type": "code",
   "execution_count": null,
   "metadata": {},
   "outputs": [],
   "source": [
    "PeepholeHyperband_test = keras.models.load_model(\"../final_data/models/hypermodel_peephole\")"
   ]
  },
  {
   "cell_type": "code",
   "execution_count": null,
   "metadata": {},
   "outputs": [],
   "source": [
    "y_pred_all_train = PeepholeHyperband_test.predict(all_train_x)\n",
    "y_all_train_unsc = scaler_y.inverse_transform(all_train_y)\n",
    "y_pred_all_train_unsc = scaler_y.inverse_transform(y_pred_all_train)\n",
    "np.sqrt(mean_squared_error(y_all_train_unsc, y_pred_all_train_unsc))         "
   ]
  },
  {
   "cell_type": "code",
   "execution_count": null,
   "metadata": {},
   "outputs": [],
   "source": [
    "## Predicit test set and calculate RMSE\n",
    "y_pred_test= PeepholeHyperband_test.predict(test_x)\n",
    "y_test_unsc = scaler_y.inverse_transform(test_y)\n",
    "y_pred_test_unsc = scaler_y.inverse_transform(y_pred_test)\n",
    "\n",
    "np.sqrt(mean_squared_error(y_pred_test_unsc, y_test_unsc))  "
   ]
  },
  {
   "cell_type": "markdown",
   "metadata": {},
   "source": [
    "### Test 5 times with different seeds"
   ]
  },
  {
   "cell_type": "code",
   "execution_count": null,
   "metadata": {},
   "outputs": [],
   "source": [
    "hypermodel_peephole = build_hyperband_lstm()\n",
    "epochs = 28\n",
    "batch_size = 128\n",
    "train_score, test_score = test_5_times(hypermodel_peephole, epochs, batch_size)"
   ]
  },
  {
   "cell_type": "code",
   "execution_count": null,
   "metadata": {},
   "outputs": [],
   "source": [
    "rmse_train_peep_hyper = pd.read_pickle(\"/home/di40438/bachelorarbeit/final_data/rmse_train_peep_hyper.pkl\")\n",
    "rmse_test_peep_hyper = pd.read_pickle(\"/home/di40438/bachelorarbeit/final_data/rmse_test_peep_hyper.pkl\")"
   ]
  },
  {
   "cell_type": "code",
   "execution_count": null,
   "metadata": {},
   "outputs": [],
   "source": [
    "rmse_train_peep_hyper.describe()"
   ]
  },
  {
   "cell_type": "code",
   "execution_count": null,
   "metadata": {},
   "outputs": [],
   "source": [
    "rmse_test_peep_hyper.describe()"
   ]
  },
  {
   "cell_type": "markdown",
   "metadata": {},
   "source": [
    "# Graphics"
   ]
  },
  {
   "cell_type": "code",
   "execution_count": null,
   "metadata": {},
   "outputs": [],
   "source": [
    "sns.set_style(\"white\")"
   ]
  },
  {
   "cell_type": "markdown",
   "metadata": {},
   "source": [
    "### Plot Simple LSTMs"
   ]
  },
  {
   "cell_type": "markdown",
   "metadata": {},
   "source": [
    "#### If not all models were run: Read saved files"
   ]
  },
  {
   "cell_type": "code",
   "execution_count": null,
   "metadata": {},
   "outputs": [],
   "source": [
    "hist_simple_lstm = pd.read_pickle(\"../final_data/hist_simple_lstm.pkl\")\n",
    "hist_simple_dropout = pd.read_pickle(\"../final_data/hist_simple_lstm_dropout.pkl\")\n",
    "hist_simple_weight_reg = pd.read_pickle(\"../final_data/hist_simple_lstm_weight_reg.pkl\")"
   ]
  },
  {
   "cell_type": "code",
   "execution_count": null,
   "metadata": {
    "scrolled": true
   },
   "outputs": [],
   "source": [
    "fig_simple_lstms, ax = plt.subplots(figsize=(12, 5))\n",
    "ax.plot(hist_simple_lstm['loss'], label='SimpleLSTM_Loss', color='dimgrey' )\n",
    "ax.plot(hist_simple_lstm['val_loss'], label='SimpleLSTM_Validation_Loss', color='black' )\n",
    "ax.plot(hist_simple_dropout['loss'], label='SimpleDropout_Loss', color='indianred')\n",
    "ax.plot(hist_simple_dropout['val_loss'], label='SimpleDropout_Validation_Loss', color='red')\n",
    "ax.plot(hist_simple_weight_reg['loss'], label='SimpleWeightReg_Loss', color='c')\n",
    "ax.plot(hist_simple_weight_reg['val_loss'], label='SimpleWeightReg_Validation_Loss', color='blue')\n",
    "ax.set_ylim(0.0, 0.004)\n",
    "ax.set(xlabel=' Epochs', ylabel='Score')\n",
    "ax.set_xlabel('Epochs', fontsize=15)\n",
    "ax.set_ylabel('Score', fontsize=15)\n",
    "plt.yticks(fontsize=13)\n",
    "plt.xticks(fontsize=13)\n",
    "ax.legend(loc='upper right',prop={'size': 10} )\n",
    "ax.grid()"
   ]
  },
  {
   "cell_type": "markdown",
   "metadata": {},
   "source": [
    "### Plot Tunded LSTMs"
   ]
  },
  {
   "cell_type": "markdown",
   "metadata": {},
   "source": [
    "#### If not all models were run: Read saved files"
   ]
  },
  {
   "cell_type": "code",
   "execution_count": null,
   "metadata": {},
   "outputs": [],
   "source": [
    "hist_LSTMDropout_train = pd.read_pickle(\"../final_data/hist_LSTMDropout_train\")\n",
    "hist_LSTMWeightDecay_train = pd.read_pickle(\"../final_data/hist_LSTMWeightDecay_train.pkl\")\n",
    "hist_LSTMHyperband_train = pd.read_pickle(\"../final_data/hist_LSTMHyperband_train.pkl\")\n",
    "hist_PeepholeDropout_train = pd.read_pickle(\"../final_data/hist_PeepholeDropout_model_train.pkl\")\n",
    "hist_PeepholeHyperband = pd.read_pickle(\"../final_data/hist_PeepholeHyperband_train.pkl\")"
   ]
  },
  {
   "cell_type": "code",
   "execution_count": null,
   "metadata": {
    "scrolled": true
   },
   "outputs": [],
   "source": [
    "fig_simple_lstms, (ax1) = plt.subplots(figsize=(6, 5))\n",
    "ax1.plot(hist_LSTMDropout_train['loss'], label='LSTMDropout_Loss', color='c')\n",
    "ax1.plot(hist_LSTMDropout_train['val_loss'], label='LSTMDropout_Validation_Loss', color='blue')\n",
    "ax1.plot(hist_LSTMWeightDecay_train['loss'][:250], label='LSTMWeightReg_Loss', color='mediumseagreen')\n",
    "ax1.plot(hist_LSTMWeightDecay_train['val_loss'][:250], label='LSTMWeightReg_Validation_Loss', color='green')\n",
    "ax1.plot(hist_PeepholeDropout_train['loss'], label='PeepholeDropout_Loss', color='indianred')\n",
    "ax1.plot(hist_PeepholeDropout_train['val_loss'], label='PeepholeDropout_Validation_Loss', color='red')\n",
    "ax1.set_ylim(0.0005, 0.004)\n",
    "ax1.set(xlabel=' Epochs', ylabel='Score')\n",
    "ax1.set_xlabel('Epochs', fontsize=15)\n",
    "ax1.set_ylabel('Score', fontsize=15)\n",
    "plt.yticks(fontsize=13)\n",
    "plt.xticks(fontsize=13)\n",
    "ax1.legend(loc='best')\n",
    "ax1.legend(prop={'size': 12})\n",
    "ax1.grid()"
   ]
  },
  {
   "cell_type": "code",
   "execution_count": null,
   "metadata": {
    "scrolled": true
   },
   "outputs": [],
   "source": [
    "fig_simple_lstms, ax = plt.subplots(figsize=(6, 5))\n",
    "ax.plot(hist_LSTMHyperband_train['loss'], label='LSTMHyperband_Loss', color='c' )\n",
    "ax.plot(hist_LSTMHyperband_train['val_loss'], label='LSTMHyperband_Validation_Loss', color='blue' )\n",
    "ax.plot(hist_PeepholeHyperband['loss'], label='PeepholeHyperband_Loss', color='indianred' )\n",
    "ax.plot(hist_PeepholeHyperband['val_loss'], label='PeepholeHyperband_Validation_Loss', color='red' )\n",
    "ax.set_ylim(0.0, 0.004)\n",
    "ax.set(xlabel=' Epochs', ylabel='Score')\n",
    "ax.set_xlabel('Epochs', fontsize=15)\n",
    "ax.set_ylabel('Score', fontsize=15)\n",
    "plt.yticks(fontsize=13)\n",
    "plt.xticks(fontsize=13)\n",
    "ax.legend(loc='best')\n",
    "ax.legend(prop={'size': 12})\n",
    "ax.grid()"
   ]
  },
  {
   "cell_type": "markdown",
   "metadata": {},
   "source": [
    "### Grafical Evaluation"
   ]
  },
  {
   "cell_type": "code",
   "execution_count": null,
   "metadata": {},
   "outputs": [],
   "source": [
    "sns.set_style(\"white\")"
   ]
  },
  {
   "cell_type": "markdown",
   "metadata": {},
   "source": [
    "### If dropout lstm models was not run: Read saved files"
   ]
  },
  {
   "cell_type": "code",
   "execution_count": null,
   "metadata": {},
   "outputs": [],
   "source": [
    "LSTMDropout_model_train = keras.models.load_model(\"../final_data/models/LSTMDropout_model_train\")\n",
    "\n",
    "LSTMDropout_model = keras.models.load_model(\"../final_data/models/LSTMDropout_model_test\")"
   ]
  },
  {
   "cell_type": "code",
   "execution_count": null,
   "metadata": {},
   "outputs": [],
   "source": [
    "y_pred_train = LSTMDropout_model_test.predict(all_train_x)\n",
    "y_train_unsc = scaler_y.inverse_transform(all_train_y)\n",
    "y_pred_train_unsc = scaler_y.inverse_transform(y_pred_train)\n",
    "np.sqrt(mean_squared_error(y_train_unsc, y_pred_train_unsc))                       "
   ]
  },
  {
   "cell_type": "code",
   "execution_count": null,
   "metadata": {},
   "outputs": [],
   "source": [
    "y_pred_valid = LSTMDropout_model_train.predict(valid_x)\n",
    "y_valid_unsc = scaler_train_y.inverse_transform(valid_y)\n",
    "y_pred_valid_unsc = scaler_train_y.inverse_transform(y_pred_valid)\n",
    "np.sqrt(mean_squared_error(y_valid_unsc, y_pred_valid_unsc))                       "
   ]
  },
  {
   "cell_type": "code",
   "execution_count": null,
   "metadata": {},
   "outputs": [],
   "source": [
    "y_pred_test = LSTMDropout_model_test.predict(test_x)\n",
    "y_test_unsc = scaler_y.inverse_transform(test_y)\n",
    "y_pred_test_unsc = scaler_y.inverse_transform(y_pred_test)\n",
    "np.sqrt(mean_squared_error(y_test_unsc, y_pred_test_unsc))                       "
   ]
  },
  {
   "cell_type": "markdown",
   "metadata": {},
   "source": [
    "### Scatter Plots"
   ]
  },
  {
   "cell_type": "code",
   "execution_count": null,
   "metadata": {
    "scrolled": true
   },
   "outputs": [],
   "source": [
    "fig, ax1 = plt.subplots(1, figsize=(5, 5),  sharex=True, sharey=True)\n",
    "plt.xlim(550, 900)\n",
    "plt.ylim(550, 900)\n",
    "\n",
    "ax1.scatter( y_pred_train_unsc, y_train_unsc, c= 'dodgerblue',s=1)\n",
    "ax1.plot([550,900],[550,900], c='black')\n",
    "ax1.grid()\n",
    "ax1.set_xlabel('Predicted Temperatures [°C] ', fontsize=15)\n",
    "ax1.set_ylabel('Measured Temperature [°C]',fontsize=15)\n",
    "ax1.set(yticks=[]) \n",
    "ax1.set(xticks=[]) \n",
    "ax1.xaxis.grid(True)\n",
    "ax1.yaxis.grid(True)"
   ]
  },
  {
   "cell_type": "code",
   "execution_count": null,
   "metadata": {
    "scrolled": true
   },
   "outputs": [],
   "source": [
    "fig, ax1 = plt.subplots(1, figsize=(5, 5),  sharex=True, sharey=True)\n",
    "plt.xlim(550, 900)\n",
    "plt.ylim(550, 900)\n",
    "\n",
    "ax1.scatter( y_pred_valid_unsc, y_valid_unsc, c= 'dodgerblue',s=1)\n",
    "ax1.plot([550,900],[550,900], c='black')\n",
    "ax1.grid()\n",
    "ax1.set_xlabel('Predicted Temperatures [°C] ', fontsize=15)\n",
    "ax1.set_ylabel('Measured Temperature [°C]',fontsize=15)\n",
    "ax1.set(yticks=[]) \n",
    "ax1.set(xticks=[]) \n",
    "ax1.xaxis.grid(True)\n",
    "ax1.yaxis.grid(True)"
   ]
  },
  {
   "cell_type": "code",
   "execution_count": null,
   "metadata": {
    "scrolled": true
   },
   "outputs": [],
   "source": [
    "fig, ax1 = plt.subplots(1,  figsize=(5, 5),  sharex=True, sharey=True)\n",
    "plt.xlim(550, 900)\n",
    "plt.ylim(550, 900)\n",
    "\n",
    "ax1.scatter( y_pred_test_unsc, y_test_unsc,  c= 'dodgerblue',s=1)\n",
    "ax1.plot([550,900],[550,900], c='black')\n",
    "ax1.grid()\n",
    "ax1.set_xlabel('Predicted Temperatures [°C]', fontsize=15)\n",
    "ax1.set_ylabel('Measured Temperature [°C]',fontsize=15)\n",
    "ax1.set(yticks=[]) \n",
    "ax1.set(xticks=[]) \n",
    "ax1.xaxis.grid(True)\n",
    "ax1.yaxis.grid(True)"
   ]
  },
  {
   "cell_type": "markdown",
   "metadata": {},
   "source": [
    "### looking at single sequences"
   ]
  },
  {
   "cell_type": "code",
   "execution_count": null,
   "metadata": {},
   "outputs": [],
   "source": [
    "def lstm_format(data):\n",
    "    length_cc4 = 15.42\n",
    "    seq_len = 50\n",
    "    features = []\n",
    "    labels = []\n",
    "    data_set = {}\n",
    "\n",
    "    for _, group in data.groupby('seq_id'):\n",
    "        for i in range(len(group)-(seq_len-1)):\n",
    "            features.append(group[feature_keys].iloc[i:i+seq_len].to_numpy())   ##Achtung keys wieder ändern!\n",
    "            labels.append(group[label_keys].iloc[i+(seq_len-1)].to_numpy())\n",
    "\n",
    "    data_set['x'] = np.stack(features)\n",
    "    data_set['y'] = np.stack(labels)\n",
    "    return data_set"
   ]
  },
  {
   "cell_type": "code",
   "execution_count": null,
   "metadata": {},
   "outputs": [],
   "source": [
    "test_seq = test_norm['seq_id'].drop_duplicates()"
   ]
  },
  {
   "cell_type": "code",
   "execution_count": null,
   "metadata": {},
   "outputs": [],
   "source": [
    "x = {}\n",
    "y = {}\n",
    "for seq in test_seq:\n",
    "    df = lstm_format(test_norm[test_norm['seq_id']==seq])\n",
    "    x[seq]= df['x'].copy()\n",
    "    y[seq] = df['y'].copy()"
   ]
  },
  {
   "cell_type": "code",
   "execution_count": null,
   "metadata": {},
   "outputs": [],
   "source": [
    "prediction = {}\n",
    "real_values = {}\n",
    "rmse = {}\n",
    "for seq in test_seq:\n",
    "    prediction[seq] = scaler_y.inverse_transform(LSTMDropout_model.predict(x[seq]))\n",
    "    real_values[seq] = scaler_y.inverse_transform(y[seq])\n",
    "    rmse[seq] = np.sqrt(mean_squared_error( prediction[seq],  real_values[seq]))  "
   ]
  },
  {
   "cell_type": "code",
   "execution_count": null,
   "metadata": {},
   "outputs": [],
   "source": [
    "error = []\n",
    "for seq in test_seq:\n",
    "    error.append((rmse[seq], seq))"
   ]
  },
  {
   "cell_type": "code",
   "execution_count": null,
   "metadata": {},
   "outputs": [],
   "source": [
    "error"
   ]
  },
  {
   "cell_type": "code",
   "execution_count": null,
   "metadata": {
    "scrolled": false
   },
   "outputs": [],
   "source": [
    "sequences_name = '471949_str_1'\n",
    "\n",
    "fig, (ax1) = plt.subplots(1, figsize=(6, 5),  sharex=True, sharey=True)\n",
    "ax1.plot(real_values[sequences_name][:,:1], color='black', label='Measured Temperature')\n",
    "ax1.plot(prediction[sequences_name][:,:1], color='blue', label='Predicted Temperature')\n",
    "ax1.legend(loc='best')\n",
    "ax1.grid()\n",
    "ax1.set_xlabel('Minutes', fontsize=15)\n",
    "ax1.set_ylabel('Temperature [°C]',fontsize=15)\n",
    "ax1.set(yticks=[]) \n",
    "ax1.xaxis.grid(True)\n",
    "ax1.yaxis.grid(True)\n",
    "ax1.axhline(688, xmax=0.05, ls='--', color='red', label='Mean of Measured Temperature' )\n",
    "ax1.axhline(688, xmin=0.93, ls='--', color='red', )\n",
    "ax1.legend(prop={'size': 13})\n",
    "print('RMSE:', rmse[sequences_name] )"
   ]
  },
  {
   "cell_type": "code",
   "execution_count": null,
   "metadata": {
    "scrolled": false
   },
   "outputs": [],
   "source": [
    "sequences_name = '471949_str_2'\n",
    "\n",
    "fig, (ax1) = plt.subplots(1, figsize=(6, 5),  sharex=True, sharey=True)\n",
    "ax1.plot(real_values[sequences_name][:,:1], color='black', label='Measured Temperature')\n",
    "ax1.plot(prediction[sequences_name][:,:1], color='blue', label='Predicted Temperature')\n",
    "ax1.legend(loc='best')\n",
    "ax1.grid()\n",
    "ax1.set_xlabel('Minutes', fontsize=15)\n",
    "ax1.set_ylabel('Temperature [°C]',fontsize=15)\n",
    "ax1.set(yticks=[]) \n",
    "ax1.xaxis.grid(True)\n",
    "ax1.yaxis.grid(True)\n",
    "ax1.axhline(680, ls='--', color='red', label='Mean of Measured Temperature' )\n",
    "ax1.legend(prop={'size': 13})\n",
    "print('RMSE:', rmse[sequences_name] )"
   ]
  },
  {
   "cell_type": "code",
   "execution_count": null,
   "metadata": {},
   "outputs": [],
   "source": [
    "sequences_name = '473562_str_1'\n",
    "\n",
    "fig, (ax1) = plt.subplots(1, figsize=(6, 5),  sharex=True, sharey=True)\n",
    "ax1.plot(real_values[sequences_name][:,1:2], color='black', label='Measured Temperature')\n",
    "ax1.plot(prediction[sequences_name][:,1:2], color='blue', label='Predicted Temperature')\n",
    "ax1.legend(loc='best')\n",
    "ax1.grid()\n",
    "ax1.set_xlabel('Minutes', fontsize=15)\n",
    "ax1.set_ylabel('Temperature [°C]',fontsize=15)\n",
    "ax1.set(yticks=[]) \n",
    "ax1.xaxis.grid(True)\n",
    "ax1.yaxis.grid(True)\n",
    "ax1.axhline(719, xmax=0.05, ls='--', color='red', label='Mean of Measured Temperature' )\n",
    "ax1.axhline(719, xmin=0.88, ls='--', color='red', )\n",
    "ax1.legend(prop={'size': 13})\n",
    "\n",
    "\n",
    "print('RMSE:', rmse[sequences_name] )"
   ]
  },
  {
   "cell_type": "code",
   "execution_count": null,
   "metadata": {},
   "outputs": [],
   "source": [
    "sequences_name = '474185_str_1'\n",
    "\n",
    "fig, (ax1) = plt.subplots(1, figsize=(6, 5),  sharex=True, sharey=True)\n",
    "ax1.plot(real_values[sequences_name][:,:1], color='black', label='Measured Temperature')\n",
    "ax1.plot(prediction[sequences_name][:,:1], color='blue', label='Predicted Temperature')\n",
    "ax1.legend(loc='best')\n",
    "ax1.grid()\n",
    "ax1.set_xlabel('Minutes', fontsize=15)\n",
    "ax1.set_ylabel('Temperature [°C]',fontsize=15)\n",
    "ax1.set(yticks=[]) \n",
    "ax1.xaxis.grid(True)\n",
    "ax1.yaxis.grid(True)\n",
    "ax1.axhline(686, ls='--', color='red', label='Mean of Measured Temperature' )\n",
    "ax1.legend(prop={'size': 13})\n",
    "\n",
    "print('RMSE:', rmse[sequences_name] )"
   ]
  },
  {
   "cell_type": "code",
   "execution_count": null,
   "metadata": {},
   "outputs": [],
   "source": [
    "sequences_name = '474261_str_1'\n",
    "\n",
    "fig, (ax1) = plt.subplots(1, figsize=(6, 5),  sharex=True, sharey=True)\n",
    "ax1.plot(real_values[sequences_name][:,1:2], color='black', label='Measured Temperature')\n",
    "ax1.plot(prediction[sequences_name][:,1:2], color='blue', label='Predicted Temperature')\n",
    "ax1.legend(loc='best')\n",
    "ax1.grid()\n",
    "ax1.set_xlabel('Minutes', fontsize=15)\n",
    "ax1.set_ylabel('Temperature [°C]',fontsize=15)\n",
    "ax1.set(yticks=[]) \n",
    "ax1.xaxis.grid(True)\n",
    "ax1.yaxis.grid(True)\n",
    "ax1.axhline(717, ls='--', color='red', label='Mean of Measured Temperature' )\n",
    "ax1.legend(prop={'size': 13})\n",
    "\n",
    "print('RMSE:', rmse[sequences_name] )"
   ]
  },
  {
   "cell_type": "code",
   "execution_count": null,
   "metadata": {},
   "outputs": [],
   "source": [
    "sequences_name = '472885_str_2'\n",
    "\n",
    "fig, (ax1) = plt.subplots(1, figsize=(6, 5),  sharex=True, sharey=True)\n",
    "ax1.plot(real_values[sequences_name][:,:1], color='black', label='Measured Temperature')\n",
    "ax1.plot(prediction[sequences_name][:,:1], color='blue', label='Predicted Temperature')\n",
    "ax1.legend(loc='best')\n",
    "ax1.grid()\n",
    "ax1.set_xlabel('Minutes', fontsize=15)\n",
    "ax1.set_ylabel('Temperature [°C]',fontsize=15)\n",
    "ax1.set(yticks=[]) \n",
    "ax1.xaxis.grid(True)\n",
    "ax1.yaxis.grid(True)\n",
    "ax1.axhline(680, ls='--', color='red', label='Mean of Measured Temperature')\n",
    "ax1.legend(prop={'size': 13})\n",
    "\n",
    "print('RMSE:', rmse[sequences_name] )"
   ]
  },
  {
   "cell_type": "code",
   "execution_count": null,
   "metadata": {},
   "outputs": [],
   "source": [
    "sequences_name = '472991_str_2'\n",
    "\n",
    "fig, (ax1) = plt.subplots(1, figsize=(6, 5),  sharex=True, sharey=True)\n",
    "ax1.plot(real_values[sequences_name][:,1:2], color='black', label='Measured Temperature')\n",
    "ax1.plot(prediction[sequences_name][:,1:2], color='blue', label='Predicted Temperature')\n",
    "ax1.set_xlabel('Minutes', fontsize=15)\n",
    "ax1.set_ylabel('Temperature [°C]',fontsize=15)\n",
    "ax1.set(yticks=[]) \n",
    "ax1.xaxis.grid(True)\n",
    "ax1.yaxis.grid(True)\n",
    "ax1.axhline(697, ls='--', color='red', label='Mean of Measured Temperature' )\n",
    "ax1.legend(loc='best', prop={'size': 13})\n",
    "\n",
    "print('RMSE:', rmse[sequences_name] )"
   ]
  }
 ],
 "metadata": {
  "kernelspec": {
   "display_name": "Python 3",
   "language": "python",
   "name": "python3"
  },
  "language_info": {
   "codemirror_mode": {
    "name": "ipython",
    "version": 3
   },
   "file_extension": ".py",
   "mimetype": "text/x-python",
   "name": "python",
   "nbconvert_exporter": "python",
   "pygments_lexer": "ipython3",
   "version": "3.9.5"
  }
 },
 "nbformat": 4,
 "nbformat_minor": 4
}
